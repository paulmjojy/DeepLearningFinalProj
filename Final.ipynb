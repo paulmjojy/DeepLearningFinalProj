{
 "cells": [
  {
   "cell_type": "markdown",
   "metadata": {},
   "source": [
    "# Final Project\n",
    "## By: Philip Spencer and Paul Jojy\n",
    "\n",
    "# Exploring the effects of Quantization on Deep Learning\n",
    "In this project, we will be exploring the effects of quantization on deep learning. This is an important topic in this field, as deep learning models are very large and can be inefficient to run on edge devices such as smart phones. ADD MORE LATER\n",
    "    \n",
    "## 0. Initialization and Configuration"
   ]
  },
  {
   "cell_type": "code",
   "execution_count": 1,
   "metadata": {},
   "outputs": [],
   "source": [
    "#CV packages\n",
    "import torch\n",
    "from torchvision import models, datasets, transforms, utils\n",
    "from torchvision.datasets import CIFAR10\n",
    "#from torch import _six\n",
    "#Data presentation\n",
    "import matplotlib.pyplot as plt\n",
    "import seaborn as sns\n",
    "from sklearn.metrics import confusion_matrix\n",
    "import torch.ao.ns._numeric_suite_fx as ns\n",
    "\n",
    "#Data handling\n",
    "import numpy as np\n",
    "import pandas as pd\n",
    "import copy\n",
    "\n",
    "#Utilities\n",
    "import time\n",
    "import os"
   ]
  },
  {
   "cell_type": "code",
   "execution_count": 2,
   "metadata": {},
   "outputs": [
    {
     "data": {
      "text/plain": [
       "'2.0.0'"
      ]
     },
     "execution_count": 2,
     "metadata": {},
     "output_type": "execute_result"
    }
   ],
   "source": [
    "torch.__version__"
   ]
  },
  {
   "cell_type": "markdown",
   "metadata": {},
   "source": [
    "### Configuration"
   ]
  },
  {
   "cell_type": "code",
   "execution_count": 3,
   "metadata": {},
   "outputs": [],
   "source": [
    "#Any Folder/Preface for models here, you may need to change this or create the folder\n",
    "modelFolderPath = \"./Saved_Models/\"\n",
    "if not os.path.exists(modelFolderPath):\n",
    "    os.mkdir(modelFolderPath)\n",
    "#Bool, save models or not\n",
    "saveModels = False\n",
    "#Bool, load models or not\n",
    "loadModels = True"
   ]
  },
  {
   "cell_type": "code",
   "execution_count": 4,
   "metadata": {},
   "outputs": [
    {
     "name": "stdout",
     "output_type": "stream",
     "text": [
      "Device: cuda:0\n"
     ]
    },
    {
     "data": {
      "text/plain": [
       "<torch._C.Generator at 0x21c04725990>"
      ]
     },
     "execution_count": 4,
     "metadata": {},
     "output_type": "execute_result"
    }
   ],
   "source": [
    "#Configure notebook for the run\n",
    "sns.set(rc={'figure.figsize':(5,4)})\n",
    "plt.ion()\n",
    "\n",
    "#Set cuda device\n",
    "DEVICE = torch.device('cuda:0' if torch.cuda.is_available() else 'cpu')\n",
    "#device = 'cpu' #Uncomment this line if you prefer cpu\n",
    "print(\"Device:\", DEVICE)\n",
    "\n",
    "#This may help clear issues, uncomment as needed\n",
    "torch.cuda.empty_cache()\n",
    "\n",
    "#setup torch for training\n",
    "torch.backends.cudnn.benchmark= True\n",
    "\n",
    "#Set seed for reproducable results\n",
    "torch.manual_seed(0)"
   ]
  },
  {
   "cell_type": "code",
   "execution_count": 5,
   "metadata": {},
   "outputs": [],
   "source": [
    "#Define hyperparameters, and more\n",
    "BATCH_SIZE = 200\n",
    "EPOCHS = 6\n",
    "LEARNING_RATE = 0.001\n",
    "VALIDATION_RATIO = 0.85\n",
    "LR_GAMMA = 0.1 #lr decay rate\n",
    "LR_STEP_SIZE_DECAY = int(EPOCHS/3.0) #base this off total epochs to allow for fine tuning"
   ]
  },
  {
   "cell_type": "markdown",
   "metadata": {},
   "source": [
    "## 1. Download and Preprocess Data\n",
    "We will be analyzing CIFAR-10 and MNIST for this experiment. The data must be downloaded, normalized, and augmented to maximize performance."
   ]
  },
  {
   "cell_type": "code",
   "execution_count": 6,
   "metadata": {},
   "outputs": [
    {
     "name": "stdout",
     "output_type": "stream",
     "text": [
      "Files already downloaded and verified\n",
      "Files already downloaded and verified\n"
     ]
    }
   ],
   "source": [
    "def datadownload(is_inception=False):\n",
    "    if is_inception:\n",
    "        input_size = (299,299)\n",
    "    else:\n",
    "        input_size = (224,224)\n",
    "    \n",
    "    cifar_augmenter = transforms.Compose([\n",
    "        transforms.Resize(input_size),\n",
    "        transforms.ToTensor(),\n",
    "        transforms.Normalize([0.485, 0.456, 0.406], [0.229, 0.224, 0.225])\n",
    "    ])\n",
    "    \n",
    "    cifar_train = CIFAR10('.',download=True, transform=cifar_augmenter)\n",
    "    cifar_test = datasets.CIFAR10('.',train=False, transform=cifar_augmenter)\n",
    "    \n",
    "    mnist_augmenter = transforms.Compose([\n",
    "        transforms.Resize(input_size),\n",
    "        transforms.Grayscale(num_output_channels=3), #Convert grayscale to RGB where R=G=B. This is because the model is pretrained on an RGB dataset (Imagenet)\n",
    "        transforms.ToTensor(),\n",
    "        transforms.Normalize([0.485, 0.456, 0.406], [0.229, 0.224, 0.225])\n",
    "    ])\n",
    "    \n",
    "    mnist_train = datasets.MNIST('.',download=True, transform=mnist_augmenter)\n",
    "    mnist_test = datasets.MNIST('.',train=False, transform=mnist_augmenter)\n",
    "    \n",
    "    return (cifar_train,cifar_test),(mnist_train,mnist_test)\n",
    "cifar,mnist = datadownload()\n",
    "inception_cifar, inception_mnist = datadownload(is_inception=True)"
   ]
  },
  {
   "cell_type": "code",
   "execution_count": 7,
   "metadata": {},
   "outputs": [
    {
     "data": {
      "text/plain": [
       "(Dataset CIFAR10\n",
       "     Number of datapoints: 50000\n",
       "     Root location: .\n",
       "     Split: Train\n",
       "     StandardTransform\n",
       " Transform: Compose(\n",
       "                Resize(size=(224, 224), interpolation=bilinear, max_size=None, antialias=warn)\n",
       "                ToTensor()\n",
       "                Normalize(mean=[0.485, 0.456, 0.406], std=[0.229, 0.224, 0.225])\n",
       "            ),\n",
       " Dataset CIFAR10\n",
       "     Number of datapoints: 10000\n",
       "     Root location: .\n",
       "     Split: Test\n",
       "     StandardTransform\n",
       " Transform: Compose(\n",
       "                Resize(size=(224, 224), interpolation=bilinear, max_size=None, antialias=warn)\n",
       "                ToTensor()\n",
       "                Normalize(mean=[0.485, 0.456, 0.406], std=[0.229, 0.224, 0.225])\n",
       "            ))"
      ]
     },
     "execution_count": 7,
     "metadata": {},
     "output_type": "execute_result"
    }
   ],
   "source": [
    "cifar"
   ]
  },
  {
   "cell_type": "code",
   "execution_count": 8,
   "metadata": {},
   "outputs": [
    {
     "data": {
      "text/plain": [
       "(Dataset MNIST\n",
       "     Number of datapoints: 60000\n",
       "     Root location: .\n",
       "     Split: Train\n",
       "     StandardTransform\n",
       " Transform: Compose(\n",
       "                Resize(size=(224, 224), interpolation=bilinear, max_size=None, antialias=warn)\n",
       "                Grayscale(num_output_channels=3)\n",
       "                ToTensor()\n",
       "                Normalize(mean=[0.485, 0.456, 0.406], std=[0.229, 0.224, 0.225])\n",
       "            ),\n",
       " Dataset MNIST\n",
       "     Number of datapoints: 10000\n",
       "     Root location: .\n",
       "     Split: Test\n",
       "     StandardTransform\n",
       " Transform: Compose(\n",
       "                Resize(size=(224, 224), interpolation=bilinear, max_size=None, antialias=warn)\n",
       "                Grayscale(num_output_channels=3)\n",
       "                ToTensor()\n",
       "                Normalize(mean=[0.485, 0.456, 0.406], std=[0.229, 0.224, 0.225])\n",
       "            ))"
      ]
     },
     "execution_count": 8,
     "metadata": {},
     "output_type": "execute_result"
    }
   ],
   "source": [
    "mnist"
   ]
  },
  {
   "cell_type": "markdown",
   "metadata": {},
   "source": [
    "## 2. Prepare Dataloaders"
   ]
  },
  {
   "cell_type": "code",
   "execution_count": 9,
   "metadata": {},
   "outputs": [],
   "source": [
    "numClassesMnist = len(mnist[0].classes)\n",
    "classesMnist = mnist[0].classes\n",
    "classesNumericMnist = [numericClass for numericClass in range(len(classesMnist))]\n",
    "numClassesCifar = len(cifar[0].classes)\n",
    "classesCifar = cifar[0].classes\n",
    "classesNumericCifar = [numericClass for numericClass in range(len(classesCifar))]"
   ]
  },
  {
   "cell_type": "code",
   "execution_count": 10,
   "metadata": {},
   "outputs": [
    {
     "name": "stdout",
     "output_type": "stream",
     "text": [
      "['airplane', 'automobile', 'bird', 'cat', 'deer', 'dog', 'frog', 'horse', 'ship', 'truck'] [0, 1, 2, 3, 4, 5, 6, 7, 8, 9]\n"
     ]
    }
   ],
   "source": [
    "print(classesCifar,classesNumericCifar)"
   ]
  },
  {
   "cell_type": "code",
   "execution_count": 11,
   "metadata": {},
   "outputs": [],
   "source": [
    "def prepare_mnist(mnist):\n",
    "    #Prepare MNIST training data \n",
    "    mnistTrainSplit, mnistValSplit = torch.utils.data.random_split(mnist[0], [VALIDATION_RATIO, 1-VALIDATION_RATIO])\n",
    "    mnist_train_loader = torch.utils.data.DataLoader(mnistTrainSplit, shuffle=True, batch_size=BATCH_SIZE)\n",
    "    mnist_val_loader = torch.utils.data.DataLoader(mnistValSplit, shuffle=True, batch_size=BATCH_SIZE)\n",
    "\n",
    "    #Prepare MNIST testing data\n",
    "    mnist_test_loader = torch.utils.data.DataLoader(mnist[1], shuffle=True, batch_size=BATCH_SIZE)\n",
    "    dataloaders_mnist = {'train': mnist_train_loader,\n",
    "                         'val': mnist_val_loader,\n",
    "                         'test': mnist_test_loader}\n",
    "\n",
    "    return dataloaders_mnist\n",
    "\n",
    "dataloaders_mnist = prepare_mnist(mnist)\n",
    "inception_dataloaders_mnist = prepare_mnist(inception_mnist)"
   ]
  },
  {
   "cell_type": "code",
   "execution_count": 12,
   "metadata": {},
   "outputs": [],
   "source": [
    "def prepare_cifar(cifar):\n",
    "    #Split CIFAR training data \n",
    "    cifarTrainSplit, cifarValSplit = torch.utils.data.random_split(cifar[0], [VALIDATION_RATIO, 1-VALIDATION_RATIO])\n",
    "    cifar_train_loader = torch.utils.data.DataLoader(cifarTrainSplit, shuffle=True, batch_size=BATCH_SIZE)\n",
    "    cifar_val_loader = torch.utils.data.DataLoader(cifarValSplit, shuffle=True, batch_size=BATCH_SIZE)\n",
    "    #Prepare MNIST testing data\n",
    "    cifar_test_loader = torch.utils.data.DataLoader(cifar[1], shuffle=True, batch_size=BATCH_SIZE)\n",
    "    \n",
    "    dataloaders_cifar = {'train': cifar_train_loader,\n",
    "                          'val': cifar_val_loader,\n",
    "                          'test':cifar_test_loader}\n",
    "    \n",
    "    return dataloaders_cifar\n",
    "dataloaders_cifar = prepare_cifar(cifar)\n",
    "inception_dataloaders_cifar = prepare_cifar(inception_cifar)"
   ]
  },
  {
   "cell_type": "code",
   "execution_count": 13,
   "metadata": {},
   "outputs": [],
   "source": [
    "#Display images modified from pytorch tutorial: https://pytorch.org/tutorials/beginner/transfer_learning_tutorial.html\n",
    "def imshow(inp1, inp2, title=None):\n",
    "    fig, (axM, axC) = plt.subplots(1, 2, sharey=True)\n",
    "    fig.suptitle(title)\n",
    "    \n",
    "    inp1 = inp1.numpy().transpose((1, 2, 0))\n",
    "    inp1 = np.clip(inp1, 0, 1)\n",
    "    inp2 = inp2.numpy().transpose((1, 2, 0))\n",
    "    inp2 = np.clip(inp2, 0, 1)\n",
    "    \n",
    "    axM.imshow(inp1)\n",
    "    axC.imshow(inp2)\n",
    "    plt.pause(0.001)  # pause a bit so that plots are updated"
   ]
  },
  {
   "cell_type": "code",
   "execution_count": 14,
   "metadata": {},
   "outputs": [
    {
     "data": {
      "image/png": "[encoded data removed]",
      "text/plain": [
       "<Figure size 500x400 with 2 Axes>"
      ]
     },
     "metadata": {},
     "output_type": "display_data"
    }
   ],
   "source": [
    "#Get a batch of training data from mnist and cifar\n",
    "inputsM, classesM = next(iter(dataloaders_mnist['train']))\n",
    "inputsC, classesC = next(iter(dataloaders_cifar['train']))\n",
    "imageMax = min(64, BATCH_SIZE)\n",
    "\n",
    "#Display sample images\n",
    "imshow(utils.make_grid(inputsM[0:imageMax]), utils.make_grid(inputsC[0:imageMax]))"
   ]
  },
  {
   "cell_type": "markdown",
   "metadata": {},
   "source": [
    "# 3. Create Model Architectures and Freeze layers"
   ]
  },
  {
   "cell_type": "code",
   "execution_count": 15,
   "metadata": {},
   "outputs": [],
   "source": [
    "def create_resnet(numClasses):\n",
    "    #Create base ResNet model\n",
    "    model_temp = models.resnet50(weights=models.ResNet50_Weights.DEFAULT)\n",
    "    num_fts_temp = model_temp.fc.in_features\n",
    "    model_temp.fc = torch.nn.Linear(num_fts_temp, numClasses)\n",
    "    \n",
    "    #Define loss functions, optimizer and scheduler\n",
    "    criterion_temp = torch.nn.CrossEntropyLoss()\n",
    "    optimizer_temp = torch.optim.Adam(model_temp.parameters(), lr=LEARNING_RATE)\n",
    "    exp_lr_scheduler = torch.optim.lr_scheduler.StepLR(optimizer_temp, step_size=LR_STEP_SIZE_DECAY, gamma=LR_GAMMA)\n",
    "    \n",
    "    return model_temp, {'criterion':criterion_temp, 'optimizer':optimizer_temp, 'scheduler':exp_lr_scheduler}"
   ]
  },
  {
   "cell_type": "code",
   "execution_count": 16,
   "metadata": {},
   "outputs": [],
   "source": [
    "def create_mobilenet(numClasses):\n",
    "    #Create base Mobilenet model\n",
    "    model_temp = models.mobilenet.mobilenet_v2(pretrained=True)\n",
    "    model_temp.classifier[1] = torch.nn.Linear(in_features=model_temp.classifier[1].in_features,out_features=numClasses)\n",
    "    \n",
    "    #Define loss functions, optimizer and scheduler\n",
    "    criterion_temp = torch.nn.CrossEntropyLoss()\n",
    "    optimizer_temp = torch.optim.Adam(model_temp.parameters(), lr=LEARNING_RATE)\n",
    "    exp_lr_scheduler = torch.optim.lr_scheduler.StepLR(optimizer_temp, step_size=LR_STEP_SIZE_DECAY, gamma=LR_GAMMA)\n",
    "    \n",
    "    return model_temp, {'criterion':criterion_temp, 'optimizer':optimizer_temp, 'scheduler':exp_lr_scheduler}"
   ]
  },
  {
   "cell_type": "code",
   "execution_count": 17,
   "metadata": {},
   "outputs": [],
   "source": [
    "def create_inception(numClasses):\n",
    "    model_temp = models.inception_v3(pretrained=True)\n",
    "    # Handle the auxilary net\n",
    "    num_ftrs = model_temp.AuxLogits.fc.in_features\n",
    "    model_temp.AuxLogits.fc = torch.nn.Linear(num_ftrs, numClasses)\n",
    "    # Handle the primary net\n",
    "    num_ftrs = model_temp.fc.in_features\n",
    "    model_temp.fc = torch.nn.Linear(num_ftrs,numClasses)\n",
    "    input_size = 299\n",
    "    \n",
    "    #Define loss functions, optimizer and scheduler\n",
    "    criterion_temp = torch.nn.CrossEntropyLoss()\n",
    "    optimizer_temp = torch.optim.Adam(model_temp.parameters(), lr=LEARNING_RATE)\n",
    "    exp_lr_scheduler = torch.optim.lr_scheduler.StepLR(optimizer_temp, step_size=LR_STEP_SIZE_DECAY, gamma=LR_GAMMA)\n",
    "    \n",
    "    return model_temp, {'criterion':criterion_temp, 'optimizer':optimizer_temp, 'scheduler':exp_lr_scheduler}"
   ]
  },
  {
   "cell_type": "markdown",
   "metadata": {},
   "source": [
    "## 3. Prepare Models for Training"
   ]
  },
  {
   "cell_type": "code",
   "execution_count": 18,
   "metadata": {},
   "outputs": [],
   "source": [
    "#Add early stop class, inspired by https://stackoverflow.com/questions/71998978/early-stopping-in-pytorch\n",
    "class EarlyStopper:\n",
    "    def __init__(self, patience=1, min_delta=0):\n",
    "        self.patience = patience\n",
    "        self.min_delta = min_delta\n",
    "        self.counter = 0\n",
    "        self.min_validation_loss = np.inf\n",
    "\n",
    "    def early_stop(self, validation_loss):\n",
    "        if validation_loss < self.min_validation_loss:\n",
    "            self.min_validation_loss = validation_loss\n",
    "            self.counter = 0\n",
    "        elif validation_loss > (self.min_validation_loss + self.min_delta):\n",
    "            self.counter += 1\n",
    "            if self.counter >= self.patience:\n",
    "                return True\n",
    "        return False"
   ]
  },
  {
   "cell_type": "code",
   "execution_count": 19,
   "metadata": {},
   "outputs": [],
   "source": [
    "#Traing method inspired by https://pytorch.org/tutorials/beginner/transfer_learning_tutorial.html\n",
    "#modified to fit data structure, and keep trach of metrics accross epochs\n",
    "def train_model(model, modelDict, dataloaders, num_epochs, noisy=True, epochPatience=2, minDelta=-.001, is_inception=False):\n",
    "    #get model, criterion, optimizer, scheduler from dictionary \n",
    "    since = time.time()\n",
    "    model = model.to(DEVICE) \n",
    "    criterion = modelDict['criterion']\n",
    "    optimizer = modelDict['optimizer']\n",
    "    scheduler = modelDict['scheduler']\n",
    "\n",
    "    #Set early stopper parameters\n",
    "    early_stopper = EarlyStopper(patience=epochPatience, min_delta=minDelta)\n",
    "\n",
    "    best_model_wts = copy.deepcopy(model.state_dict())\n",
    "    best_acc = 0.0\n",
    "    best_train_acc = 0.0\n",
    "    \n",
    "    #Keep track of metrics from training\n",
    "    metrics = pd.DataFrame(data=[],columns=['epoch','accuracy','loss','phase'])\n",
    "    \n",
    "    for epoch in range(num_epochs):\n",
    "        if noisy:\n",
    "            print(f'Epoch {epoch}/{num_epochs-1}')\n",
    "            print('-' * 10)\n",
    "\n",
    "        #Each epoch has a training and validation phase\n",
    "        for phase in ['train', 'val']:\n",
    "            if phase == 'train':\n",
    "                model.train()  #Set model to training mode\n",
    "            else:\n",
    "                model.eval()   #Set model to evaluate mode\n",
    "\n",
    "            running_loss = 0.0\n",
    "            running_corrects = 0\n",
    "\n",
    "            # Iterate over data.\n",
    "            for inputs, labels in dataloaders[phase]:\n",
    "                inputs = inputs.to(DEVICE)\n",
    "                labels = labels.to(DEVICE)\n",
    "\n",
    "                #Zero the parameter gradients\n",
    "                optimizer.zero_grad()\n",
    "\n",
    "                #Forward\n",
    "                # track history if only in train\n",
    "                with torch.set_grad_enabled(phase == 'train'):\n",
    "                    # backward + optimize for training phase\n",
    "                    if is_inception and phase=='train':\n",
    "                        outputs, aux_outputs = model(inputs)\n",
    "                        loss1 = criterion(outputs, labels)\n",
    "                        loss2 = criterion(aux_outputs, labels)\n",
    "                        loss = loss1 + 0.4*loss2\n",
    "                    else:\n",
    "                        outputs = model(inputs)\n",
    "                        loss = criterion(outputs, labels)\n",
    "\n",
    "                    _, preds = torch.max(outputs, 1)\n",
    "\n",
    "                    if phase == 'train':\n",
    "                        loss.backward()\n",
    "                        optimizer.step()\n",
    "\n",
    "                # statistics\n",
    "                running_loss += loss.item() * inputs.size(0)\n",
    "                running_corrects += torch.sum(preds == labels.data)\n",
    "                \n",
    "            if phase == 'train':\n",
    "                scheduler.step()\n",
    "            \n",
    "            #Show statistics for each epoch\n",
    "            epoch_loss = running_loss / len(dataloaders[phase].dataset) #dataset_sizes[phase]\n",
    "            epoch_acc = (running_corrects.double()) / len(dataloaders[phase].dataset) #dataset_sizes[phase]\n",
    "            \n",
    "            if noisy:\n",
    "                print(f'{phase} Loss: {epoch_loss:.4f} Acc: {min(epoch_acc,1.0):.4f}')\n",
    "            \n",
    "            #Track metrics for graphing\n",
    "            metrics = pd.concat([metrics,pd.DataFrame(data=[[epoch,epoch_acc.item(),epoch_loss,phase]],columns=['epoch','accuracy','loss','phase'])], ignore_index=True)\n",
    "\n",
    "            #Deep copy the model to keep track of the best one\n",
    "            if phase == 'val' and epoch_acc > best_acc:\n",
    "                best_acc = epoch_acc\n",
    "                best_model_wts = copy.deepcopy(model.state_dict())\n",
    "            if phase == 'train' and epoch_acc > best_train_acc:\n",
    "                best_train_acc = epoch_acc\n",
    "\n",
    "        if noisy:\n",
    "            print(\"\")\n",
    "            \n",
    "        if early_stopper.early_stop(epoch_loss):\n",
    "            print(\"Training stopped on epoch\",epoch,\"because the loss has not decreased by more than\",minDelta,\"in\",epochPatience,\"epochs\")\n",
    "            break\n",
    "\n",
    "    time_elapsed = time.time() - since\n",
    "    print(f'Training complete in {time_elapsed // 60:.0f}m {time_elapsed % 60:.0f}s')\n",
    "    print(f'Best Val Acc: {best_acc:4f}')\n",
    "    print(f'Best Train Acc: {min(best_train_acc,1.0):4f}')\n",
    "\n",
    "    # load best model weights\n",
    "    model.load_state_dict(best_model_wts)\n",
    "    return model, metrics"
   ]
  },
  {
   "cell_type": "markdown",
   "metadata": {},
   "source": [
    "### Example model creation, training"
   ]
  },
  {
   "cell_type": "markdown",
   "metadata": {},
   "source": [
    "## Build and Train Inception V3"
   ]
  },
  {
   "cell_type": "code",
   "execution_count": 20,
   "metadata": {},
   "outputs": [
    {
     "name": "stderr",
     "output_type": "stream",
     "text": [
      "C:\\Users\\Philip\\.conda\\envs\\Testing\\lib\\site-packages\\torchvision\\models\\_utils.py:208: UserWarning: The parameter 'pretrained' is deprecated since 0.13 and may be removed in the future, please use 'weights' instead.\n",
      "  warnings.warn(\n",
      "C:\\Users\\Philip\\.conda\\envs\\Testing\\lib\\site-packages\\torchvision\\models\\_utils.py:223: UserWarning: Arguments other than a weight enum or `None` for 'weights' are deprecated since 0.13 and may be removed in the future. The current behavior is equivalent to passing `weights=Inception_V3_Weights.IMAGENET1K_V1`. You can also use `weights=Inception_V3_Weights.DEFAULT` to get the most up-to-date weights.\n",
      "  warnings.warn(msg)\n"
     ]
    }
   ],
   "source": [
    "#Create model for dataset\n",
    "inception_mnist, inception_mnist_dict = create_inception(numClassesMnist)\n",
    "\n",
    "#Load or train model\n",
    "modelpath = modelFolderPath + 'model_inception_mnist.pth'\n",
    "if(os.path.exists(modelpath)):\n",
    "    inception_mnist.load_state_dict(torch.load(modelpath))\n",
    "else:\n",
    "    inception_mnist, metrics_inception_mnist = train_model(inception_mnist, inception_mnist_dict, inception_dataloaders_mnist, EPOCHS,is_inception=True)\n",
    "    sns.relplot(data=metrics_inception_mnist, kind=\"line\", x=\"epoch\", y=\"accuracy\", hue=\"phase\",)\n",
    "    torch.save(inception_mnist.state_dict(), modelpath)"
   ]
  },
  {
   "cell_type": "code",
   "execution_count": 21,
   "metadata": {},
   "outputs": [],
   "source": [
    "#Create model for dataset\n",
    "inception_cifar, inception_cifar_dict = create_inception(numClassesCifar)\n",
    "\n",
    "#Load or train model\n",
    "modelpath = modelFolderPath + 'model_inception_cifar.pth'\n",
    "if(os.path.exists(modelpath)):\n",
    "    inception_cifar.load_state_dict(torch.load(modelpath))\n",
    "else:\n",
    "    inception_cifar, metrics_inception_cifar = train_model(inception_cifar, inception_cifar_dict, inception_dataloaders_cifar, EPOCHS,is_inception=True)\n",
    "    sns.relplot(data=metrics_inception_cifar, kind=\"line\", x=\"epoch\", y=\"accuracy\", hue=\"phase\",)\n",
    "    torch.save(inception_cifar.state_dict(), modelpath)"
   ]
  },
  {
   "cell_type": "markdown",
   "metadata": {},
   "source": [
    "## Build and Train MobileNet V2"
   ]
  },
  {
   "cell_type": "code",
   "execution_count": 22,
   "metadata": {},
   "outputs": [
    {
     "name": "stderr",
     "output_type": "stream",
     "text": [
      "C:\\Users\\Philip\\.conda\\envs\\Testing\\lib\\site-packages\\torchvision\\models\\_utils.py:223: UserWarning: Arguments other than a weight enum or `None` for 'weights' are deprecated since 0.13 and may be removed in the future. The current behavior is equivalent to passing `weights=MobileNet_V2_Weights.IMAGENET1K_V1`. You can also use `weights=MobileNet_V2_Weights.DEFAULT` to get the most up-to-date weights.\n",
      "  warnings.warn(msg)\n"
     ]
    }
   ],
   "source": [
    "#Create model for dataset\n",
    "mobilenet_mnist, mobilenet_mnist_dict = create_mobilenet(numClassesMnist)\n",
    "\n",
    "#Load or train model\n",
    "modelpath = modelFolderPath + 'model_mobilenet_mnist.pth'\n",
    "if(os.path.exists(modelpath)):\n",
    "    mobilenet_mnist.load_state_dict(torch.load(modelpath))\n",
    "else:\n",
    "    mobilenet_mnist, metrics_mobilenet_mnist = train_model(mobilenet_mnist, mobilenet_mnist_dict, dataloaders_mnist, EPOCHS)\n",
    "    sns.relplot(data=metrics_mobilenet_mnist, kind=\"line\", x=\"epoch\", y=\"accuracy\", hue=\"phase\",)\n",
    "    torch.save(mobilenet_mnist.state_dict(), modelpath)"
   ]
  },
  {
   "cell_type": "code",
   "execution_count": 23,
   "metadata": {},
   "outputs": [],
   "source": [
    "#Create model for dataset\n",
    "mobilenet_cifar, mobilenet_cifar_dict = create_mobilenet(numClassesCifar)\n",
    "\n",
    "#Load or train model\n",
    "modelpath = modelFolderPath + 'model_mobilenet_cifar.pth'\n",
    "if(os.path.exists(modelpath)):\n",
    "    mobilenet_cifar.load_state_dict(torch.load(modelpath))\n",
    "else:\n",
    "    mobilenet_cifar, metrics_mobilenet_cifar = train_model(mobilenet_cifar, mobilenet_cifar_dict, dataloaders_cifar, EPOCHS)\n",
    "    sns.relplot(data=metrics_mobilenet_cifar, kind=\"line\", x=\"epoch\", y=\"accuracy\", hue=\"phase\",)\n",
    "    torch.save(mobilenet_cifar.state_dict(), modelpath)"
   ]
  },
  {
   "cell_type": "markdown",
   "metadata": {},
   "source": [
    "## Build and Train ResNet-50"
   ]
  },
  {
   "cell_type": "code",
   "execution_count": 24,
   "metadata": {},
   "outputs": [],
   "source": [
    "#Create model for dataset\n",
    "resNet_mnist, resNet_mnist_dict = create_resnet(numClassesMnist)\n",
    " \n",
    "#Load or train model\n",
    "modelpath = modelFolderPath + 'model_resnet_mnist.pth'\n",
    "if(os.path.exists(modelpath)):\n",
    "    resNet_mnist.load_state_dict(torch.load(modelpath))\n",
    "else:\n",
    "    resNet_mnist, metrics_resNet_mnist = train_model(resNet_mnist, resNet_mnist_dict, dataloaders_mnist, EPOCHS)\n",
    "    sns.relplot(data=metrics_resNet_mnist, kind=\"line\", x=\"epoch\", y=\"accuracy\", hue=\"phase\",)\n",
    "    torch.save(resNet_mnist.state_dict(), modelpath)"
   ]
  },
  {
   "cell_type": "code",
   "execution_count": 25,
   "metadata": {},
   "outputs": [],
   "source": [
    "resNet_cifar, resNet_cifar_dict = create_resnet(numClassesCifar)\n",
    " \n",
    "#Load or train model\n",
    "modelpath = modelFolderPath + 'model_resnet_cifar.pth'\n",
    "if(os.path.exists(modelpath)):\n",
    "    resNet_cifar.load_state_dict(torch.load(modelpath))\n",
    "else:\n",
    "    resNet_cifar, metrics_resNet_cifar = train_model(resNet_cifar, resNet_cifar_dict, dataloaders_cifar, EPOCHS)\n",
    "    sns.relplot(data=metrics_resNet_cifar, kind=\"line\", x=\"epoch\", y=\"accuracy\", hue=\"phase\",)\n",
    "    torch.save(resNet_cifar.state_dict(), modelpath)"
   ]
  },
  {
   "cell_type": "markdown",
   "metadata": {},
   "source": [
    "## 4.0 Test Base Models"
   ]
  },
  {
   "cell_type": "code",
   "execution_count": 26,
   "metadata": {},
   "outputs": [],
   "source": [
    "def test_model(model, classes, test_loader, test_device=DEVICE):\n",
    "    torch.cuda.empty_cache()\n",
    "    #Prepare to count predictions for each class\n",
    "    correct_pred = {classname: 0 for classname in classes}\n",
    "    total_pred = {classname: 0 for classname in classes}\n",
    "    model = model.to(test_device)\n",
    "\n",
    "    #Store additional prediction info for CF and graphs\n",
    "    allLabels = []\n",
    "    allPrediction = []\n",
    "    testAccuracies = []\n",
    "    toc = time.time()\n",
    "    with torch.no_grad():\n",
    "        for images, labels in test_loader:\n",
    "            images = images.to(test_device)\n",
    "            labels = labels.to(test_device)\n",
    "            outputs = model(images)\n",
    "            #print(type(outputs), outputs[0])\n",
    "            #outputs = torch.nn.functional.softmax(outputs, dim=0)\n",
    "            predictions = torch.argmax(outputs, dim=1)\n",
    "            \n",
    "            #Collect the correct predictions for each class\n",
    "            for label, prediction in zip(labels, predictions):\n",
    "                if label == prediction:\n",
    "                    correct_pred[label.item()] += 1\n",
    "                total_pred[label.item()] += 1\n",
    "                allLabels.append(label.item())\n",
    "                allPrediction.append(prediction.item())\n",
    "\n",
    "    tic = time.time()\n",
    "    print(f'Inference Time: {(tic-toc):.4f} s Throughput: {(len(test_loader.dataset)/(tic-toc)):.4f} fps')\n",
    "\n",
    "\n",
    "    #Get each class accuracy manually\n",
    "    for classname, correct_count in correct_pred.items():\n",
    "        accuracy = 100 * float(correct_count) / (total_pred[classname] or 1)\n",
    "        testAccuracies.append(accuracy)\n",
    "\n",
    "    #Show overall acurracy\n",
    "    #print(sum(correct_pred.values()), sum(total_pred.values()), total_pred)\n",
    "    print(f'Testing Overall Accuracy: {100.0*sum(correct_pred.values())/sum(total_pred.values() or 1):4f} ')\n",
    "    \n",
    "    return  allLabels, allPrediction, testAccuracies"
   ]
  },
  {
   "cell_type": "code",
   "execution_count": 27,
   "metadata": {},
   "outputs": [],
   "source": [
    "#Pass in the 3 metrics from test function, and options to create other graphs\n",
    "def show_test_results(allLabels, allPrediction, testAccuracies, labelNames, cf=True, bar=True):\n",
    "    if cf:\n",
    "        #Show confusion matrix\n",
    "        cf_matrix = confusion_matrix(allLabels, allPrediction)\n",
    "        #Divide predicted columns by number predicted for each class\n",
    "        ax = sns.heatmap((cf_matrix / np.sum(cf_matrix, axis=1)), fmt='.1%', xticklabels=labelNames, yticklabels=labelNames)\n",
    "        ax.set_xlabel(\"Predicted Class\", fontsize=14, labelpad=20)\n",
    "        ax.set_ylabel(\"Labeled Class\", fontsize=14, labelpad=20)\n",
    "        plt.show()\n",
    "    \n",
    "    if bar:\n",
    "        #Format the label data for plotting class accuracies\n",
    "        uniqueTest, countsTest = np.unique(allLabels, return_counts=True)\n",
    "        labelDictTest = dict(zip(uniqueTest, countsTest))\n",
    "        keysTest = list(labelDictTest.keys())\n",
    "        labelsCountTest = [int(labelDictTest[k]) for k in keysTest]\n",
    "\n",
    "        #Show class accuracies on barchart\n",
    "        plot = sns.barplot(x=keysTest, y=testAccuracies)\n",
    "        plot.set_xticklabels(labels=labelNames, rotation=-45)\n",
    "        plt.show()"
   ]
  },
  {
   "cell_type": "markdown",
   "metadata": {},
   "source": [
    "### Test ResNet Models"
   ]
  },
  {
   "cell_type": "code",
   "execution_count": 28,
   "metadata": {},
   "outputs": [
    {
     "name": "stdout",
     "output_type": "stream",
     "text": [
      "Inference Time: 48.3469 s Throughput: 206.8384 fps\n",
      "Testing Overall Accuracy: 99.620000 \n"
     ]
    },
    {
     "data": {
      "image/png": "[encoded data removed]",
      "text/plain": [
       "<Figure size 500x400 with 2 Axes>"
      ]
     },
     "metadata": {},
     "output_type": "display_data"
    },
    {
     "data": {
      "image/png": "[encoded data removed]",
      "text/plain": [
       "<Figure size 500x400 with 1 Axes>"
      ]
     },
     "metadata": {},
     "output_type": "display_data"
    }
   ],
   "source": [
    "allLabels, allPrediction, testAccuracies = test_model(resNet_mnist, classesNumericMnist, dataloaders_mnist['test'])\n",
    "show_test_results(allLabels, allPrediction, testAccuracies, classesMnist, True, True)"
   ]
  },
  {
   "cell_type": "code",
   "execution_count": 29,
   "metadata": {},
   "outputs": [
    {
     "name": "stdout",
     "output_type": "stream",
     "text": [
      "Inference Time: 40.8576 s Throughput: 244.7525 fps\n",
      "Testing Overall Accuracy: 95.320000 \n"
     ]
    }
   ],
   "source": [
    "allLabels, allPrediction, testAccuracies = test_model(resNet_cifar, classesNumericCifar, dataloaders_cifar['test'])\n",
    "show_test_results(allLabels, allPrediction, testAccuracies, classesCifar, False, False)"
   ]
  },
  {
   "cell_type": "markdown",
   "metadata": {},
   "source": [
    "### Test MobileNet Models"
   ]
  },
  {
   "cell_type": "code",
   "execution_count": 30,
   "metadata": {},
   "outputs": [],
   "source": [
    "#allLabels, allPrediction, testAccuracies = test_model(mobilenet_mnist, classesNumericMnist, dataloaders_mnist['test'])\n",
    "show_test_results(allLabels, allPrediction, testAccuracies, classesMnist, False, False)"
   ]
  },
  {
   "cell_type": "code",
   "execution_count": 31,
   "metadata": {},
   "outputs": [],
   "source": [
    "#allLabels, allPrediction, testAccuracies = test_model(mobilenet_cifar, classesNumericCifar, dataloaders_cifar['test'])\n",
    "show_test_results(allLabels, allPrediction, testAccuracies, classesCifar, False, False)"
   ]
  },
  {
   "cell_type": "markdown",
   "metadata": {},
   "source": [
    "# PHILIP TODO - Test Inception Models"
   ]
  },
  {
   "cell_type": "code",
   "execution_count": 32,
   "metadata": {},
   "outputs": [
    {
     "name": "stderr",
     "output_type": "stream",
     "text": [
      "Using cache found in C:\\Users\\Philip/.cache\\torch\\hub\\pytorch_vision_v0.10.0\n",
      "C:\\Users\\Philip\\.conda\\envs\\Testing\\lib\\site-packages\\torchvision\\models\\_utils.py:208: UserWarning: The parameter 'pretrained' is deprecated since 0.13 and may be removed in the future, please use 'weights' instead.\n",
      "  warnings.warn(\n",
      "C:\\Users\\Philip\\.conda\\envs\\Testing\\lib\\site-packages\\torchvision\\models\\_utils.py:223: UserWarning: Arguments other than a weight enum or `None` for 'weights' are deprecated since 0.13 and may be removed in the future. The current behavior is equivalent to passing `weights=Inception_V3_Weights.IMAGENET1K_V1`. You can also use `weights=Inception_V3_Weights.DEFAULT` to get the most up-to-date weights.\n",
      "  warnings.warn(msg)\n"
     ]
    },
    {
     "data": {
      "text/plain": [
       "Inception3(\n",
       "  (Conv2d_1a_3x3): BasicConv2d(\n",
       "    (conv): Conv2d(3, 32, kernel_size=(3, 3), stride=(2, 2), bias=False)\n",
       "    (bn): BatchNorm2d(32, eps=0.001, momentum=0.1, affine=True, track_running_stats=True)\n",
       "  )\n",
       "  (Conv2d_2a_3x3): BasicConv2d(\n",
       "    (conv): Conv2d(32, 32, kernel_size=(3, 3), stride=(1, 1), bias=False)\n",
       "    (bn): BatchNorm2d(32, eps=0.001, momentum=0.1, affine=True, track_running_stats=True)\n",
       "  )\n",
       "  (Conv2d_2b_3x3): BasicConv2d(\n",
       "    (conv): Conv2d(32, 64, kernel_size=(3, 3), stride=(1, 1), padding=(1, 1), bias=False)\n",
       "    (bn): BatchNorm2d(64, eps=0.001, momentum=0.1, affine=True, track_running_stats=True)\n",
       "  )\n",
       "  (maxpool1): MaxPool2d(kernel_size=3, stride=2, padding=0, dilation=1, ceil_mode=False)\n",
       "  (Conv2d_3b_1x1): BasicConv2d(\n",
       "    (conv): Conv2d(64, 80, kernel_size=(1, 1), stride=(1, 1), bias=False)\n",
       "    (bn): BatchNorm2d(80, eps=0.001, momentum=0.1, affine=True, track_running_stats=True)\n",
       "  )\n",
       "  (Conv2d_4a_3x3): BasicConv2d(\n",
       "    (conv): Conv2d(80, 192, kernel_size=(3, 3), stride=(1, 1), bias=False)\n",
       "    (bn): BatchNorm2d(192, eps=0.001, momentum=0.1, affine=True, track_running_stats=True)\n",
       "  )\n",
       "  (maxpool2): MaxPool2d(kernel_size=3, stride=2, padding=0, dilation=1, ceil_mode=False)\n",
       "  (Mixed_5b): InceptionA(\n",
       "    (branch1x1): BasicConv2d(\n",
       "      (conv): Conv2d(192, 64, kernel_size=(1, 1), stride=(1, 1), bias=False)\n",
       "      (bn): BatchNorm2d(64, eps=0.001, momentum=0.1, affine=True, track_running_stats=True)\n",
       "    )\n",
       "    (branch5x5_1): BasicConv2d(\n",
       "      (conv): Conv2d(192, 48, kernel_size=(1, 1), stride=(1, 1), bias=False)\n",
       "      (bn): BatchNorm2d(48, eps=0.001, momentum=0.1, affine=True, track_running_stats=True)\n",
       "    )\n",
       "    (branch5x5_2): BasicConv2d(\n",
       "      (conv): Conv2d(48, 64, kernel_size=(5, 5), stride=(1, 1), padding=(2, 2), bias=False)\n",
       "      (bn): BatchNorm2d(64, eps=0.001, momentum=0.1, affine=True, track_running_stats=True)\n",
       "    )\n",
       "    (branch3x3dbl_1): BasicConv2d(\n",
       "      (conv): Conv2d(192, 64, kernel_size=(1, 1), stride=(1, 1), bias=False)\n",
       "      (bn): BatchNorm2d(64, eps=0.001, momentum=0.1, affine=True, track_running_stats=True)\n",
       "    )\n",
       "    (branch3x3dbl_2): BasicConv2d(\n",
       "      (conv): Conv2d(64, 96, kernel_size=(3, 3), stride=(1, 1), padding=(1, 1), bias=False)\n",
       "      (bn): BatchNorm2d(96, eps=0.001, momentum=0.1, affine=True, track_running_stats=True)\n",
       "    )\n",
       "    (branch3x3dbl_3): BasicConv2d(\n",
       "      (conv): Conv2d(96, 96, kernel_size=(3, 3), stride=(1, 1), padding=(1, 1), bias=False)\n",
       "      (bn): BatchNorm2d(96, eps=0.001, momentum=0.1, affine=True, track_running_stats=True)\n",
       "    )\n",
       "    (branch_pool): BasicConv2d(\n",
       "      (conv): Conv2d(192, 32, kernel_size=(1, 1), stride=(1, 1), bias=False)\n",
       "      (bn): BatchNorm2d(32, eps=0.001, momentum=0.1, affine=True, track_running_stats=True)\n",
       "    )\n",
       "  )\n",
       "  (Mixed_5c): InceptionA(\n",
       "    (branch1x1): BasicConv2d(\n",
       "      (conv): Conv2d(256, 64, kernel_size=(1, 1), stride=(1, 1), bias=False)\n",
       "      (bn): BatchNorm2d(64, eps=0.001, momentum=0.1, affine=True, track_running_stats=True)\n",
       "    )\n",
       "    (branch5x5_1): BasicConv2d(\n",
       "      (conv): Conv2d(256, 48, kernel_size=(1, 1), stride=(1, 1), bias=False)\n",
       "      (bn): BatchNorm2d(48, eps=0.001, momentum=0.1, affine=True, track_running_stats=True)\n",
       "    )\n",
       "    (branch5x5_2): BasicConv2d(\n",
       "      (conv): Conv2d(48, 64, kernel_size=(5, 5), stride=(1, 1), padding=(2, 2), bias=False)\n",
       "      (bn): BatchNorm2d(64, eps=0.001, momentum=0.1, affine=True, track_running_stats=True)\n",
       "    )\n",
       "    (branch3x3dbl_1): BasicConv2d(\n",
       "      (conv): Conv2d(256, 64, kernel_size=(1, 1), stride=(1, 1), bias=False)\n",
       "      (bn): BatchNorm2d(64, eps=0.001, momentum=0.1, affine=True, track_running_stats=True)\n",
       "    )\n",
       "    (branch3x3dbl_2): BasicConv2d(\n",
       "      (conv): Conv2d(64, 96, kernel_size=(3, 3), stride=(1, 1), padding=(1, 1), bias=False)\n",
       "      (bn): BatchNorm2d(96, eps=0.001, momentum=0.1, affine=True, track_running_stats=True)\n",
       "    )\n",
       "    (branch3x3dbl_3): BasicConv2d(\n",
       "      (conv): Conv2d(96, 96, kernel_size=(3, 3), stride=(1, 1), padding=(1, 1), bias=False)\n",
       "      (bn): BatchNorm2d(96, eps=0.001, momentum=0.1, affine=True, track_running_stats=True)\n",
       "    )\n",
       "    (branch_pool): BasicConv2d(\n",
       "      (conv): Conv2d(256, 64, kernel_size=(1, 1), stride=(1, 1), bias=False)\n",
       "      (bn): BatchNorm2d(64, eps=0.001, momentum=0.1, affine=True, track_running_stats=True)\n",
       "    )\n",
       "  )\n",
       "  (Mixed_5d): InceptionA(\n",
       "    (branch1x1): BasicConv2d(\n",
       "      (conv): Conv2d(288, 64, kernel_size=(1, 1), stride=(1, 1), bias=False)\n",
       "      (bn): BatchNorm2d(64, eps=0.001, momentum=0.1, affine=True, track_running_stats=True)\n",
       "    )\n",
       "    (branch5x5_1): BasicConv2d(\n",
       "      (conv): Conv2d(288, 48, kernel_size=(1, 1), stride=(1, 1), bias=False)\n",
       "      (bn): BatchNorm2d(48, eps=0.001, momentum=0.1, affine=True, track_running_stats=True)\n",
       "    )\n",
       "    (branch5x5_2): BasicConv2d(\n",
       "      (conv): Conv2d(48, 64, kernel_size=(5, 5), stride=(1, 1), padding=(2, 2), bias=False)\n",
       "      (bn): BatchNorm2d(64, eps=0.001, momentum=0.1, affine=True, track_running_stats=True)\n",
       "    )\n",
       "    (branch3x3dbl_1): BasicConv2d(\n",
       "      (conv): Conv2d(288, 64, kernel_size=(1, 1), stride=(1, 1), bias=False)\n",
       "      (bn): BatchNorm2d(64, eps=0.001, momentum=0.1, affine=True, track_running_stats=True)\n",
       "    )\n",
       "    (branch3x3dbl_2): BasicConv2d(\n",
       "      (conv): Conv2d(64, 96, kernel_size=(3, 3), stride=(1, 1), padding=(1, 1), bias=False)\n",
       "      (bn): BatchNorm2d(96, eps=0.001, momentum=0.1, affine=True, track_running_stats=True)\n",
       "    )\n",
       "    (branch3x3dbl_3): BasicConv2d(\n",
       "      (conv): Conv2d(96, 96, kernel_size=(3, 3), stride=(1, 1), padding=(1, 1), bias=False)\n",
       "      (bn): BatchNorm2d(96, eps=0.001, momentum=0.1, affine=True, track_running_stats=True)\n",
       "    )\n",
       "    (branch_pool): BasicConv2d(\n",
       "      (conv): Conv2d(288, 64, kernel_size=(1, 1), stride=(1, 1), bias=False)\n",
       "      (bn): BatchNorm2d(64, eps=0.001, momentum=0.1, affine=True, track_running_stats=True)\n",
       "    )\n",
       "  )\n",
       "  (Mixed_6a): InceptionB(\n",
       "    (branch3x3): BasicConv2d(\n",
       "      (conv): Conv2d(288, 384, kernel_size=(3, 3), stride=(2, 2), bias=False)\n",
       "      (bn): BatchNorm2d(384, eps=0.001, momentum=0.1, affine=True, track_running_stats=True)\n",
       "    )\n",
       "    (branch3x3dbl_1): BasicConv2d(\n",
       "      (conv): Conv2d(288, 64, kernel_size=(1, 1), stride=(1, 1), bias=False)\n",
       "      (bn): BatchNorm2d(64, eps=0.001, momentum=0.1, affine=True, track_running_stats=True)\n",
       "    )\n",
       "    (branch3x3dbl_2): BasicConv2d(\n",
       "      (conv): Conv2d(64, 96, kernel_size=(3, 3), stride=(1, 1), padding=(1, 1), bias=False)\n",
       "      (bn): BatchNorm2d(96, eps=0.001, momentum=0.1, affine=True, track_running_stats=True)\n",
       "    )\n",
       "    (branch3x3dbl_3): BasicConv2d(\n",
       "      (conv): Conv2d(96, 96, kernel_size=(3, 3), stride=(2, 2), bias=False)\n",
       "      (bn): BatchNorm2d(96, eps=0.001, momentum=0.1, affine=True, track_running_stats=True)\n",
       "    )\n",
       "  )\n",
       "  (Mixed_6b): InceptionC(\n",
       "    (branch1x1): BasicConv2d(\n",
       "      (conv): Conv2d(768, 192, kernel_size=(1, 1), stride=(1, 1), bias=False)\n",
       "      (bn): BatchNorm2d(192, eps=0.001, momentum=0.1, affine=True, track_running_stats=True)\n",
       "    )\n",
       "    (branch7x7_1): BasicConv2d(\n",
       "      (conv): Conv2d(768, 128, kernel_size=(1, 1), stride=(1, 1), bias=False)\n",
       "      (bn): BatchNorm2d(128, eps=0.001, momentum=0.1, affine=True, track_running_stats=True)\n",
       "    )\n",
       "    (branch7x7_2): BasicConv2d(\n",
       "      (conv): Conv2d(128, 128, kernel_size=(1, 7), stride=(1, 1), padding=(0, 3), bias=False)\n",
       "      (bn): BatchNorm2d(128, eps=0.001, momentum=0.1, affine=True, track_running_stats=True)\n",
       "    )\n",
       "    (branch7x7_3): BasicConv2d(\n",
       "      (conv): Conv2d(128, 192, kernel_size=(7, 1), stride=(1, 1), padding=(3, 0), bias=False)\n",
       "      (bn): BatchNorm2d(192, eps=0.001, momentum=0.1, affine=True, track_running_stats=True)\n",
       "    )\n",
       "    (branch7x7dbl_1): BasicConv2d(\n",
       "      (conv): Conv2d(768, 128, kernel_size=(1, 1), stride=(1, 1), bias=False)\n",
       "      (bn): BatchNorm2d(128, eps=0.001, momentum=0.1, affine=True, track_running_stats=True)\n",
       "    )\n",
       "    (branch7x7dbl_2): BasicConv2d(\n",
       "      (conv): Conv2d(128, 128, kernel_size=(7, 1), stride=(1, 1), padding=(3, 0), bias=False)\n",
       "      (bn): BatchNorm2d(128, eps=0.001, momentum=0.1, affine=True, track_running_stats=True)\n",
       "    )\n",
       "    (branch7x7dbl_3): BasicConv2d(\n",
       "      (conv): Conv2d(128, 128, kernel_size=(1, 7), stride=(1, 1), padding=(0, 3), bias=False)\n",
       "      (bn): BatchNorm2d(128, eps=0.001, momentum=0.1, affine=True, track_running_stats=True)\n",
       "    )\n",
       "    (branch7x7dbl_4): BasicConv2d(\n",
       "      (conv): Conv2d(128, 128, kernel_size=(7, 1), stride=(1, 1), padding=(3, 0), bias=False)\n",
       "      (bn): BatchNorm2d(128, eps=0.001, momentum=0.1, affine=True, track_running_stats=True)\n",
       "    )\n",
       "    (branch7x7dbl_5): BasicConv2d(\n",
       "      (conv): Conv2d(128, 192, kernel_size=(1, 7), stride=(1, 1), padding=(0, 3), bias=False)\n",
       "      (bn): BatchNorm2d(192, eps=0.001, momentum=0.1, affine=True, track_running_stats=True)\n",
       "    )\n",
       "    (branch_pool): BasicConv2d(\n",
       "      (conv): Conv2d(768, 192, kernel_size=(1, 1), stride=(1, 1), bias=False)\n",
       "      (bn): BatchNorm2d(192, eps=0.001, momentum=0.1, affine=True, track_running_stats=True)\n",
       "    )\n",
       "  )\n",
       "  (Mixed_6c): InceptionC(\n",
       "    (branch1x1): BasicConv2d(\n",
       "      (conv): Conv2d(768, 192, kernel_size=(1, 1), stride=(1, 1), bias=False)\n",
       "      (bn): BatchNorm2d(192, eps=0.001, momentum=0.1, affine=True, track_running_stats=True)\n",
       "    )\n",
       "    (branch7x7_1): BasicConv2d(\n",
       "      (conv): Conv2d(768, 160, kernel_size=(1, 1), stride=(1, 1), bias=False)\n",
       "      (bn): BatchNorm2d(160, eps=0.001, momentum=0.1, affine=True, track_running_stats=True)\n",
       "    )\n",
       "    (branch7x7_2): BasicConv2d(\n",
       "      (conv): Conv2d(160, 160, kernel_size=(1, 7), stride=(1, 1), padding=(0, 3), bias=False)\n",
       "      (bn): BatchNorm2d(160, eps=0.001, momentum=0.1, affine=True, track_running_stats=True)\n",
       "    )\n",
       "    (branch7x7_3): BasicConv2d(\n",
       "      (conv): Conv2d(160, 192, kernel_size=(7, 1), stride=(1, 1), padding=(3, 0), bias=False)\n",
       "      (bn): BatchNorm2d(192, eps=0.001, momentum=0.1, affine=True, track_running_stats=True)\n",
       "    )\n",
       "    (branch7x7dbl_1): BasicConv2d(\n",
       "      (conv): Conv2d(768, 160, kernel_size=(1, 1), stride=(1, 1), bias=False)\n",
       "      (bn): BatchNorm2d(160, eps=0.001, momentum=0.1, affine=True, track_running_stats=True)\n",
       "    )\n",
       "    (branch7x7dbl_2): BasicConv2d(\n",
       "      (conv): Conv2d(160, 160, kernel_size=(7, 1), stride=(1, 1), padding=(3, 0), bias=False)\n",
       "      (bn): BatchNorm2d(160, eps=0.001, momentum=0.1, affine=True, track_running_stats=True)\n",
       "    )\n",
       "    (branch7x7dbl_3): BasicConv2d(\n",
       "      (conv): Conv2d(160, 160, kernel_size=(1, 7), stride=(1, 1), padding=(0, 3), bias=False)\n",
       "      (bn): BatchNorm2d(160, eps=0.001, momentum=0.1, affine=True, track_running_stats=True)\n",
       "    )\n",
       "    (branch7x7dbl_4): BasicConv2d(\n",
       "      (conv): Conv2d(160, 160, kernel_size=(7, 1), stride=(1, 1), padding=(3, 0), bias=False)\n",
       "      (bn): BatchNorm2d(160, eps=0.001, momentum=0.1, affine=True, track_running_stats=True)\n",
       "    )\n",
       "    (branch7x7dbl_5): BasicConv2d(\n",
       "      (conv): Conv2d(160, 192, kernel_size=(1, 7), stride=(1, 1), padding=(0, 3), bias=False)\n",
       "      (bn): BatchNorm2d(192, eps=0.001, momentum=0.1, affine=True, track_running_stats=True)\n",
       "    )\n",
       "    (branch_pool): BasicConv2d(\n",
       "      (conv): Conv2d(768, 192, kernel_size=(1, 1), stride=(1, 1), bias=False)\n",
       "      (bn): BatchNorm2d(192, eps=0.001, momentum=0.1, affine=True, track_running_stats=True)\n",
       "    )\n",
       "  )\n",
       "  (Mixed_6d): InceptionC(\n",
       "    (branch1x1): BasicConv2d(\n",
       "      (conv): Conv2d(768, 192, kernel_size=(1, 1), stride=(1, 1), bias=False)\n",
       "      (bn): BatchNorm2d(192, eps=0.001, momentum=0.1, affine=True, track_running_stats=True)\n",
       "    )\n",
       "    (branch7x7_1): BasicConv2d(\n",
       "      (conv): Conv2d(768, 160, kernel_size=(1, 1), stride=(1, 1), bias=False)\n",
       "      (bn): BatchNorm2d(160, eps=0.001, momentum=0.1, affine=True, track_running_stats=True)\n",
       "    )\n",
       "    (branch7x7_2): BasicConv2d(\n",
       "      (conv): Conv2d(160, 160, kernel_size=(1, 7), stride=(1, 1), padding=(0, 3), bias=False)\n",
       "      (bn): BatchNorm2d(160, eps=0.001, momentum=0.1, affine=True, track_running_stats=True)\n",
       "    )\n",
       "    (branch7x7_3): BasicConv2d(\n",
       "      (conv): Conv2d(160, 192, kernel_size=(7, 1), stride=(1, 1), padding=(3, 0), bias=False)\n",
       "      (bn): BatchNorm2d(192, eps=0.001, momentum=0.1, affine=True, track_running_stats=True)\n",
       "    )\n",
       "    (branch7x7dbl_1): BasicConv2d(\n",
       "      (conv): Conv2d(768, 160, kernel_size=(1, 1), stride=(1, 1), bias=False)\n",
       "      (bn): BatchNorm2d(160, eps=0.001, momentum=0.1, affine=True, track_running_stats=True)\n",
       "    )\n",
       "    (branch7x7dbl_2): BasicConv2d(\n",
       "      (conv): Conv2d(160, 160, kernel_size=(7, 1), stride=(1, 1), padding=(3, 0), bias=False)\n",
       "      (bn): BatchNorm2d(160, eps=0.001, momentum=0.1, affine=True, track_running_stats=True)\n",
       "    )\n",
       "    (branch7x7dbl_3): BasicConv2d(\n",
       "      (conv): Conv2d(160, 160, kernel_size=(1, 7), stride=(1, 1), padding=(0, 3), bias=False)\n",
       "      (bn): BatchNorm2d(160, eps=0.001, momentum=0.1, affine=True, track_running_stats=True)\n",
       "    )\n",
       "    (branch7x7dbl_4): BasicConv2d(\n",
       "      (conv): Conv2d(160, 160, kernel_size=(7, 1), stride=(1, 1), padding=(3, 0), bias=False)\n",
       "      (bn): BatchNorm2d(160, eps=0.001, momentum=0.1, affine=True, track_running_stats=True)\n",
       "    )\n",
       "    (branch7x7dbl_5): BasicConv2d(\n",
       "      (conv): Conv2d(160, 192, kernel_size=(1, 7), stride=(1, 1), padding=(0, 3), bias=False)\n",
       "      (bn): BatchNorm2d(192, eps=0.001, momentum=0.1, affine=True, track_running_stats=True)\n",
       "    )\n",
       "    (branch_pool): BasicConv2d(\n",
       "      (conv): Conv2d(768, 192, kernel_size=(1, 1), stride=(1, 1), bias=False)\n",
       "      (bn): BatchNorm2d(192, eps=0.001, momentum=0.1, affine=True, track_running_stats=True)\n",
       "    )\n",
       "  )\n",
       "  (Mixed_6e): InceptionC(\n",
       "    (branch1x1): BasicConv2d(\n",
       "      (conv): Conv2d(768, 192, kernel_size=(1, 1), stride=(1, 1), bias=False)\n",
       "      (bn): BatchNorm2d(192, eps=0.001, momentum=0.1, affine=True, track_running_stats=True)\n",
       "    )\n",
       "    (branch7x7_1): BasicConv2d(\n",
       "      (conv): Conv2d(768, 192, kernel_size=(1, 1), stride=(1, 1), bias=False)\n",
       "      (bn): BatchNorm2d(192, eps=0.001, momentum=0.1, affine=True, track_running_stats=True)\n",
       "    )\n",
       "    (branch7x7_2): BasicConv2d(\n",
       "      (conv): Conv2d(192, 192, kernel_size=(1, 7), stride=(1, 1), padding=(0, 3), bias=False)\n",
       "      (bn): BatchNorm2d(192, eps=0.001, momentum=0.1, affine=True, track_running_stats=True)\n",
       "    )\n",
       "    (branch7x7_3): BasicConv2d(\n",
       "      (conv): Conv2d(192, 192, kernel_size=(7, 1), stride=(1, 1), padding=(3, 0), bias=False)\n",
       "      (bn): BatchNorm2d(192, eps=0.001, momentum=0.1, affine=True, track_running_stats=True)\n",
       "    )\n",
       "    (branch7x7dbl_1): BasicConv2d(\n",
       "      (conv): Conv2d(768, 192, kernel_size=(1, 1), stride=(1, 1), bias=False)\n",
       "      (bn): BatchNorm2d(192, eps=0.001, momentum=0.1, affine=True, track_running_stats=True)\n",
       "    )\n",
       "    (branch7x7dbl_2): BasicConv2d(\n",
       "      (conv): Conv2d(192, 192, kernel_size=(7, 1), stride=(1, 1), padding=(3, 0), bias=False)\n",
       "      (bn): BatchNorm2d(192, eps=0.001, momentum=0.1, affine=True, track_running_stats=True)\n",
       "    )\n",
       "    (branch7x7dbl_3): BasicConv2d(\n",
       "      (conv): Conv2d(192, 192, kernel_size=(1, 7), stride=(1, 1), padding=(0, 3), bias=False)\n",
       "      (bn): BatchNorm2d(192, eps=0.001, momentum=0.1, affine=True, track_running_stats=True)\n",
       "    )\n",
       "    (branch7x7dbl_4): BasicConv2d(\n",
       "      (conv): Conv2d(192, 192, kernel_size=(7, 1), stride=(1, 1), padding=(3, 0), bias=False)\n",
       "      (bn): BatchNorm2d(192, eps=0.001, momentum=0.1, affine=True, track_running_stats=True)\n",
       "    )\n",
       "    (branch7x7dbl_5): BasicConv2d(\n",
       "      (conv): Conv2d(192, 192, kernel_size=(1, 7), stride=(1, 1), padding=(0, 3), bias=False)\n",
       "      (bn): BatchNorm2d(192, eps=0.001, momentum=0.1, affine=True, track_running_stats=True)\n",
       "    )\n",
       "    (branch_pool): BasicConv2d(\n",
       "      (conv): Conv2d(768, 192, kernel_size=(1, 1), stride=(1, 1), bias=False)\n",
       "      (bn): BatchNorm2d(192, eps=0.001, momentum=0.1, affine=True, track_running_stats=True)\n",
       "    )\n",
       "  )\n",
       "  (AuxLogits): InceptionAux(\n",
       "    (conv0): BasicConv2d(\n",
       "      (conv): Conv2d(768, 128, kernel_size=(1, 1), stride=(1, 1), bias=False)\n",
       "      (bn): BatchNorm2d(128, eps=0.001, momentum=0.1, affine=True, track_running_stats=True)\n",
       "    )\n",
       "    (conv1): BasicConv2d(\n",
       "      (conv): Conv2d(128, 768, kernel_size=(5, 5), stride=(1, 1), bias=False)\n",
       "      (bn): BatchNorm2d(768, eps=0.001, momentum=0.1, affine=True, track_running_stats=True)\n",
       "    )\n",
       "    (fc): Linear(in_features=768, out_features=1000, bias=True)\n",
       "  )\n",
       "  (Mixed_7a): InceptionD(\n",
       "    (branch3x3_1): BasicConv2d(\n",
       "      (conv): Conv2d(768, 192, kernel_size=(1, 1), stride=(1, 1), bias=False)\n",
       "      (bn): BatchNorm2d(192, eps=0.001, momentum=0.1, affine=True, track_running_stats=True)\n",
       "    )\n",
       "    (branch3x3_2): BasicConv2d(\n",
       "      (conv): Conv2d(192, 320, kernel_size=(3, 3), stride=(2, 2), bias=False)\n",
       "      (bn): BatchNorm2d(320, eps=0.001, momentum=0.1, affine=True, track_running_stats=True)\n",
       "    )\n",
       "    (branch7x7x3_1): BasicConv2d(\n",
       "      (conv): Conv2d(768, 192, kernel_size=(1, 1), stride=(1, 1), bias=False)\n",
       "      (bn): BatchNorm2d(192, eps=0.001, momentum=0.1, affine=True, track_running_stats=True)\n",
       "    )\n",
       "    (branch7x7x3_2): BasicConv2d(\n",
       "      (conv): Conv2d(192, 192, kernel_size=(1, 7), stride=(1, 1), padding=(0, 3), bias=False)\n",
       "      (bn): BatchNorm2d(192, eps=0.001, momentum=0.1, affine=True, track_running_stats=True)\n",
       "    )\n",
       "    (branch7x7x3_3): BasicConv2d(\n",
       "      (conv): Conv2d(192, 192, kernel_size=(7, 1), stride=(1, 1), padding=(3, 0), bias=False)\n",
       "      (bn): BatchNorm2d(192, eps=0.001, momentum=0.1, affine=True, track_running_stats=True)\n",
       "    )\n",
       "    (branch7x7x3_4): BasicConv2d(\n",
       "      (conv): Conv2d(192, 192, kernel_size=(3, 3), stride=(2, 2), bias=False)\n",
       "      (bn): BatchNorm2d(192, eps=0.001, momentum=0.1, affine=True, track_running_stats=True)\n",
       "    )\n",
       "  )\n",
       "  (Mixed_7b): InceptionE(\n",
       "    (branch1x1): BasicConv2d(\n",
       "      (conv): Conv2d(1280, 320, kernel_size=(1, 1), stride=(1, 1), bias=False)\n",
       "      (bn): BatchNorm2d(320, eps=0.001, momentum=0.1, affine=True, track_running_stats=True)\n",
       "    )\n",
       "    (branch3x3_1): BasicConv2d(\n",
       "      (conv): Conv2d(1280, 384, kernel_size=(1, 1), stride=(1, 1), bias=False)\n",
       "      (bn): BatchNorm2d(384, eps=0.001, momentum=0.1, affine=True, track_running_stats=True)\n",
       "    )\n",
       "    (branch3x3_2a): BasicConv2d(\n",
       "      (conv): Conv2d(384, 384, kernel_size=(1, 3), stride=(1, 1), padding=(0, 1), bias=False)\n",
       "      (bn): BatchNorm2d(384, eps=0.001, momentum=0.1, affine=True, track_running_stats=True)\n",
       "    )\n",
       "    (branch3x3_2b): BasicConv2d(\n",
       "      (conv): Conv2d(384, 384, kernel_size=(3, 1), stride=(1, 1), padding=(1, 0), bias=False)\n",
       "      (bn): BatchNorm2d(384, eps=0.001, momentum=0.1, affine=True, track_running_stats=True)\n",
       "    )\n",
       "    (branch3x3dbl_1): BasicConv2d(\n",
       "      (conv): Conv2d(1280, 448, kernel_size=(1, 1), stride=(1, 1), bias=False)\n",
       "      (bn): BatchNorm2d(448, eps=0.001, momentum=0.1, affine=True, track_running_stats=True)\n",
       "    )\n",
       "    (branch3x3dbl_2): BasicConv2d(\n",
       "      (conv): Conv2d(448, 384, kernel_size=(3, 3), stride=(1, 1), padding=(1, 1), bias=False)\n",
       "      (bn): BatchNorm2d(384, eps=0.001, momentum=0.1, affine=True, track_running_stats=True)\n",
       "    )\n",
       "    (branch3x3dbl_3a): BasicConv2d(\n",
       "      (conv): Conv2d(384, 384, kernel_size=(1, 3), stride=(1, 1), padding=(0, 1), bias=False)\n",
       "      (bn): BatchNorm2d(384, eps=0.001, momentum=0.1, affine=True, track_running_stats=True)\n",
       "    )\n",
       "    (branch3x3dbl_3b): BasicConv2d(\n",
       "      (conv): Conv2d(384, 384, kernel_size=(3, 1), stride=(1, 1), padding=(1, 0), bias=False)\n",
       "      (bn): BatchNorm2d(384, eps=0.001, momentum=0.1, affine=True, track_running_stats=True)\n",
       "    )\n",
       "    (branch_pool): BasicConv2d(\n",
       "      (conv): Conv2d(1280, 192, kernel_size=(1, 1), stride=(1, 1), bias=False)\n",
       "      (bn): BatchNorm2d(192, eps=0.001, momentum=0.1, affine=True, track_running_stats=True)\n",
       "    )\n",
       "  )\n",
       "  (Mixed_7c): InceptionE(\n",
       "    (branch1x1): BasicConv2d(\n",
       "      (conv): Conv2d(2048, 320, kernel_size=(1, 1), stride=(1, 1), bias=False)\n",
       "      (bn): BatchNorm2d(320, eps=0.001, momentum=0.1, affine=True, track_running_stats=True)\n",
       "    )\n",
       "    (branch3x3_1): BasicConv2d(\n",
       "      (conv): Conv2d(2048, 384, kernel_size=(1, 1), stride=(1, 1), bias=False)\n",
       "      (bn): BatchNorm2d(384, eps=0.001, momentum=0.1, affine=True, track_running_stats=True)\n",
       "    )\n",
       "    (branch3x3_2a): BasicConv2d(\n",
       "      (conv): Conv2d(384, 384, kernel_size=(1, 3), stride=(1, 1), padding=(0, 1), bias=False)\n",
       "      (bn): BatchNorm2d(384, eps=0.001, momentum=0.1, affine=True, track_running_stats=True)\n",
       "    )\n",
       "    (branch3x3_2b): BasicConv2d(\n",
       "      (conv): Conv2d(384, 384, kernel_size=(3, 1), stride=(1, 1), padding=(1, 0), bias=False)\n",
       "      (bn): BatchNorm2d(384, eps=0.001, momentum=0.1, affine=True, track_running_stats=True)\n",
       "    )\n",
       "    (branch3x3dbl_1): BasicConv2d(\n",
       "      (conv): Conv2d(2048, 448, kernel_size=(1, 1), stride=(1, 1), bias=False)\n",
       "      (bn): BatchNorm2d(448, eps=0.001, momentum=0.1, affine=True, track_running_stats=True)\n",
       "    )\n",
       "    (branch3x3dbl_2): BasicConv2d(\n",
       "      (conv): Conv2d(448, 384, kernel_size=(3, 3), stride=(1, 1), padding=(1, 1), bias=False)\n",
       "      (bn): BatchNorm2d(384, eps=0.001, momentum=0.1, affine=True, track_running_stats=True)\n",
       "    )\n",
       "    (branch3x3dbl_3a): BasicConv2d(\n",
       "      (conv): Conv2d(384, 384, kernel_size=(1, 3), stride=(1, 1), padding=(0, 1), bias=False)\n",
       "      (bn): BatchNorm2d(384, eps=0.001, momentum=0.1, affine=True, track_running_stats=True)\n",
       "    )\n",
       "    (branch3x3dbl_3b): BasicConv2d(\n",
       "      (conv): Conv2d(384, 384, kernel_size=(3, 1), stride=(1, 1), padding=(1, 0), bias=False)\n",
       "      (bn): BatchNorm2d(384, eps=0.001, momentum=0.1, affine=True, track_running_stats=True)\n",
       "    )\n",
       "    (branch_pool): BasicConv2d(\n",
       "      (conv): Conv2d(2048, 192, kernel_size=(1, 1), stride=(1, 1), bias=False)\n",
       "      (bn): BatchNorm2d(192, eps=0.001, momentum=0.1, affine=True, track_running_stats=True)\n",
       "    )\n",
       "  )\n",
       "  (avgpool): AdaptiveAvgPool2d(output_size=(1, 1))\n",
       "  (dropout): Dropout(p=0.5, inplace=False)\n",
       "  (fc): Linear(in_features=2048, out_features=1000, bias=True)\n",
       ")"
      ]
     },
     "execution_count": 32,
     "metadata": {},
     "output_type": "execute_result"
    }
   ],
   "source": [
    "test_incept_model = torch.hub.load('pytorch/vision:v0.10.0', 'inception_v3', pretrained=True)\n",
    "_ = test_incept_model.eval()"
   ]
  },
  {
   "cell_type": "code",
   "execution_count": 33,
   "metadata": {},
   "outputs": [
    {
     "name": "stdout",
     "output_type": "stream",
     "text": [
      "Inference Time: 80.7576 s Throughput: 123.8274 fps\n",
      "Testing Overall Accuracy: 0.000000 \n"
     ]
    }
   ],
   "source": [
    "#This currently doesnt work properly\n",
    "allLabels, allPrediction, testAccuracies = test_model(test_incept_model, classesNumericMnist, inception_dataloaders_mnist['test'])\n",
    "show_test_results(allLabels, allPrediction, testAccuracies, classesMnist, False, False)"
   ]
  },
  {
   "cell_type": "code",
   "execution_count": 34,
   "metadata": {},
   "outputs": [],
   "source": [
    "#allLabels, allPrediction, testAccuracies = test_model(inception_cifar, classesNumericCifar, inception_dataloaders_cifar['test'])\n",
    "show_test_results(allLabels, allPrediction, testAccuracies, classesCifar, False, False)"
   ]
  },
  {
   "cell_type": "markdown",
   "metadata": {},
   "source": [
    "## 5. Post Training Quantize Models"
   ]
  },
  {
   "cell_type": "markdown",
   "metadata": {},
   "source": [
    "# Philip TODO: Investigate quantized model options, perfomance seems really poor"
   ]
  },
  {
   "cell_type": "code",
   "execution_count": 35,
   "metadata": {},
   "outputs": [],
   "source": [
    "#inspired by https://pytorch.org/tutorials/advanced/static_quantization_tutorial.html\n",
    "def print_size_of_model(model):\n",
    "    torch.save(model.state_dict(), \"temp.p\")\n",
    "    print('Size (MB):', os.path.getsize(\"temp.p\")/1e6)\n",
    "    os.remove('temp.p')"
   ]
  },
  {
   "cell_type": "code",
   "execution_count": 36,
   "metadata": {},
   "outputs": [],
   "source": [
    "sampleMnist = torch.utils.data.DataLoader(torch.utils.data.Subset(mnist[1], [0]),batch_size=1)\n",
    "sampleCifar = torch.utils.data.DataLoader(torch.utils.data.Subset(cifar[1], [0]),batch_size=1)\n",
    "\n",
    "#inspired by https://pytorch.org/docs/master/quantization.html#prototype-fx-graph-mode-quantization\n",
    "#note the qconfig is realtivly new functionality that changes layers automatically to accept quantization\n",
    "def quantize_and_compare(model_temp, sample_data_loader, nosiy=True):\n",
    "    model_to_quantize_2 = copy.deepcopy(model_temp)\n",
    "    model_to_quantize_2.to('cpu')\n",
    "    model_to_quantize_2.eval()\n",
    "    \n",
    "    # post training static quantization\n",
    "    qconfig_mapping = torch.ao.quantization.get_default_qconfig_mapping(\"qnnpack\")\n",
    "    \n",
    "    # Alternative Method - less size reduction, possibly better performance\n",
    "    # post training dynamic/weight_only quantization\n",
    "    #qconfig_mapping = QConfigMapping().set_global(torch.ao.quantization.default_dynamic_qconfig)\n",
    "    \n",
    "    # prepare\n",
    "    model_prepared_2 = torch.ao.quantization.quantize_fx.prepare_fx(model_to_quantize_2, qconfig_mapping, (next(iter(sample_data_loader))))\n",
    "    \n",
    "    # calibrate (not shown or needed since trained? Either delete this comment or add calibration)\n",
    "    \n",
    "    # quantize\n",
    "    model_quantized =  torch.ao.quantization.quantize_fx.convert_fx(model_prepared_2)\n",
    "    \n",
    "    print(\"Before:\")\n",
    "    print_size_of_model(model_temp)\n",
    "    print(\"After:\")\n",
    "    print_size_of_model(model_quantized)\n",
    "    return model_quantized"
   ]
  },
  {
   "cell_type": "code",
   "execution_count": 37,
   "metadata": {},
   "outputs": [
    {
     "name": "stderr",
     "output_type": "stream",
     "text": [
      "C:\\Users\\Philip\\.conda\\envs\\Testing\\lib\\site-packages\\torch\\ao\\quantization\\observer.py:1209: UserWarning: must run observer before calling calculate_qparams.                                    Returning default scale and zero point \n",
      "  warnings.warn(\n"
     ]
    },
    {
     "name": "stdout",
     "output_type": "stream",
     "text": [
      "Before:\n",
      "Size (MB): 94.413179\n",
      "After:\n",
      "Size (MB): 23.651737\n",
      "Before:\n",
      "Size (MB): 94.413179\n",
      "After:\n",
      "Size (MB): 23.651737\n"
     ]
    }
   ],
   "source": [
    "resNet_mnist_quantized = quantize_and_compare(resNet_mnist, sampleMnist)\n",
    "resNet_cifar_quantized = quantize_and_compare(resNet_cifar, sampleCifar)"
   ]
  },
  {
   "cell_type": "code",
   "execution_count": 38,
   "metadata": {},
   "outputs": [],
   "source": [
    "#Sample test call, note it has to be CPU as far as I can tell, details below\n",
    "#_ = test_model(resNet_mnist_quant, classesNumericMnist, dataloaders_mnist['test'],'cpu')"
   ]
  },
  {
   "cell_type": "code",
   "execution_count": 39,
   "metadata": {},
   "outputs": [
    {
     "name": "stdout",
     "output_type": "stream",
     "text": [
      "Before:\n",
      "Size (MB): 9.168985\n",
      "After:\n",
      "Size (MB): 2.341033\n",
      "Before:\n",
      "Size (MB): 9.168985\n",
      "After:\n",
      "Size (MB): 2.341033\n"
     ]
    }
   ],
   "source": [
    "mobilenet_mnist_quantized = quantize_and_compare(mobilenet_mnist, sampleMnist) \n",
    "mobilenet_cifar_quantized = quantize_and_compare(mobilenet_cifar, sampleCifar, False)"
   ]
  },
  {
   "cell_type": "code",
   "execution_count": 40,
   "metadata": {},
   "outputs": [
    {
     "name": "stdout",
     "output_type": "stream",
     "text": [
      "Before:\n",
      "Size (MB): 97.790247\n",
      "After:\n",
      "Size (MB): 21.957233\n",
      "Before:\n",
      "Size (MB): 97.790247\n",
      "After:\n",
      "Size (MB): 21.957233\n"
     ]
    }
   ],
   "source": [
    "inception_mnist_quantized = quantize_and_compare(inception_mnist, sampleMnist) \n",
    "inception_cifar_quantized = quantize_and_compare(inception_cifar, sampleCifar, False)"
   ]
  },
  {
   "cell_type": "markdown",
   "metadata": {},
   "source": [
    "# 6. Investigate Quantized Model Performance"
   ]
  },
  {
   "cell_type": "code",
   "execution_count": 41,
   "metadata": {},
   "outputs": [],
   "source": [
    "def compare_models(base_mnist, base_cifar, new_mnist, new_cifar, model_name, test_device=DEVICE, mnist=True, cifar=True):\n",
    "    if mnist:\n",
    "        print(model_name,\"MNIST Base Model:\")\n",
    "        _ = test_model(base_mnist, classesNumericMnist, dataloaders_mnist['test'], test_device) \n",
    "        print(model_name, \"MNIST Updated Model:\")\n",
    "        _ = test_model(new_mnist, classesNumericMnist, dataloaders_mnist['test'], test_device)    \n",
    "        \n",
    "    if cifar:\n",
    "        if mnist:\n",
    "            print()\n",
    "        print(model_name, \"CIFAR Base Model:\")\n",
    "        _ = test_model(base_cifar, classesNumericCifar, dataloaders_cifar['test'], test_device) \n",
    "        print(model_name, \"CIFAR Updated Model:\")\n",
    "        _ = test_model(new_cifar, classesNumericCifar, dataloaders_cifar['test'], test_device)"
   ]
  },
  {
   "cell_type": "code",
   "execution_count": 42,
   "metadata": {},
   "outputs": [
    {
     "name": "stdout",
     "output_type": "stream",
     "text": [
      "MobileNet MNIST Base Model:\n",
      "Inference Time: 357.3023 s Throughput: 27.9875 fps\n",
      "Testing Overall Accuracy: 99.590000 \n",
      "MobileNet MNIST Updated Model:\n",
      "Inference Time: 95.9822 s Throughput: 104.1860 fps\n",
      "Testing Overall Accuracy: 9.800000 \n",
      "\n",
      "MobileNet CIFAR Base Model:\n",
      "Inference Time: 366.7463 s Throughput: 27.2668 fps\n",
      "Testing Overall Accuracy: 94.140000 \n",
      "MobileNet CIFAR Updated Model:\n",
      "Inference Time: 95.6964 s Throughput: 104.4971 fps\n",
      "Testing Overall Accuracy: 10.000000 \n"
     ]
    }
   ],
   "source": [
    "#Sample test comparison, note it has to be CPU as far as I can tell for Quantized models\n",
    "compare_models(mobilenet_mnist, mobilenet_cifar, mobilenet_mnist_quantized, mobilenet_cifar_quantized, 'MobileNet', 'cpu')"
   ]
  },
  {
   "cell_type": "code",
   "execution_count": 43,
   "metadata": {},
   "outputs": [
    {
     "name": "stdout",
     "output_type": "stream",
     "text": [
      "ResNet MNIST Base Model:\n",
      "Inference Time: 820.8171 s Throughput: 12.1830 fps\n",
      "Testing Overall Accuracy: 99.590000 \n",
      "ResNet MNIST Updated Model:\n",
      "Inference Time: 419.4057 s Throughput: 23.8433 fps\n",
      "Testing Overall Accuracy: 9.800000 \n",
      "\n",
      "ResNet CIFAR Base Model:\n",
      "Inference Time: 841.9279 s Throughput: 11.8775 fps\n",
      "Testing Overall Accuracy: 95.170000 \n",
      "ResNet CIFAR Updated Model:\n",
      "Inference Time: 462.0799 s Throughput: 21.6413 fps\n",
      "Testing Overall Accuracy: 13.230000 \n"
     ]
    }
   ],
   "source": [
    "#Sample test comparison, note it has to be CPU as far as I can tell for Quantized models\n",
    "compare_models(resNet_mnist, resNet_cifar, resNet_mnist_quantized, resNet_cifar_quantized, 'ResNet', 'cpu')"
   ]
  },
  {
   "cell_type": "code",
   "execution_count": 44,
   "metadata": {},
   "outputs": [],
   "source": [
    "#Sample test comparison, note it has to be CPU as far as I can tell for Quantized models\n",
    "#compare_models(inception_mnist, inception_cifar, inception_mnist_quantized, inception_cifar_quantized, 'Inception', 'cpu')"
   ]
  },
  {
   "cell_type": "markdown",
   "metadata": {},
   "source": [
    "# 7. Test Post Quantization Improvement - Paul Todo"
   ]
  },
  {
   "cell_type": "markdown",
   "metadata": {},
   "source": [
    "We see that mobilenetV2 suffers from accuracy loss after quantization. How can we improve accuracy after quantization? One strategy we can use is analyzing the SQNR of each layer in the network, to understand where the most quantization loss occurs. With this knowledge, we can modify the qconfig_dict settings to skip the problem layers during quantization. "
   ]
  },
  {
   "cell_type": "code",
   "execution_count": 45,
   "metadata": {},
   "outputs": [
    {
     "name": "stderr",
     "output_type": "stream",
     "text": [
      "C:\\Users\\Philip\\AppData\\Local\\Temp\\ipykernel_34992\\3139979702.py:36: MatplotlibDeprecationWarning: The seaborn styles shipped by Matplotlib are deprecated since 3.6, as they no longer correspond to the styles shipped by seaborn. However, they will remain available as 'seaborn-v0_8-<style>'. Alternatively, directly use the seaborn API instead.\n",
      "  plt.style.use('seaborn-whitegrid')\n"
     ]
    },
    {
     "data": {
      "image/png": "[encoded data removed]",
      "text/plain": [
       "<Figure size 1000x500 with 2 Axes>"
      ]
     },
     "metadata": {},
     "output_type": "display_data"
    }
   ],
   "source": [
    "# Compare weights of float_model and qmodel.\n",
    "# Note: when comparing weights in models with Conv-BN for PTQ, we need to compare\n",
    "# weights after Conv-BN fusion for a proper comparison.  Because of this, we use\n",
    "# `prepared_model` instead of `float_model` when comparing weights.\n",
    "# Extract conv and linear weights from corresponding parts of two models, and save\n",
    "# them in `wt_compare_dict`.\n",
    "mobilenet_wt_compare_dict = ns.extract_weights(\n",
    "   'fp32',  # string name for model A\n",
    "   mobilenet_mnist,  # model A\n",
    "   'int8',  # string name for model B\n",
    "   mobilenet_mnist_quantized,  # model B\n",
    ")\n",
    "# calculate SQNR between each pair of weights\n",
    "# SQNR is a measure of quantization loss, large SQNR value means the quantization loss is small\n",
    "ns.extend_logger_results_with_comparison(\n",
    "   mobilenet_wt_compare_dict,  # results object to modify inplace\n",
    "   'fp32',  # string name of model A (from previous step)\n",
    "   'int8',  # string name of model B (from previous step)\n",
    "   torch.ao.ns.fx.utils.compute_sqnr,  # the function to use to compare two tensors\n",
    "   'sqnr',  # the name to use to store the results under\n",
    ")\n",
    "# massage the data into a format easy to graph and print\n",
    "# Note: no util function for this since use cases may be different per user\n",
    "# Note: there is a lot of debugging data, and it will be challenging to print all of it\n",
    "# and fit on a laptop screen.  It is up to the user to decide which data is useful for them.\n",
    "mobilenet_wt_to_print = []\n",
    "for idx, (layer_name, v) in enumerate(mobilenet_wt_compare_dict.items()):\n",
    "    mobilenet_wt_to_print.append([\n",
    "        idx,\n",
    "        layer_name,                                                   \n",
    "        v['weight']['int8'][0]['prev_node_target_type'],                      \n",
    "        v['weight']['int8'][0]['values'][0].shape,\n",
    "        v['weight']['int8'][0]['sqnr'][0],\n",
    "    ])\n",
    "    \n",
    "plt.style.use('seaborn-whitegrid')\n",
    "# a simple line graph\n",
    "def plot(xdata, ydata, xlabel, ylabel, title):\n",
    "    fig = plt.figure(figsize=(10, 5), dpi=100)\n",
    "    plt.xlabel(xlabel)\n",
    "    plt.ylabel(ylabel)\n",
    "    plt.title(title)\n",
    "    ax = plt.axes()\n",
    "    ax.plot(xdata, ydata)     \n",
    "# plot the SQNR between fp32 and int8 weights for each layer\n",
    "# Note: we may explore easier to read charts (bar chart, etc) at a later time, for now\n",
    "# line chart + table is good enough.\n",
    "plot([x[0] for x in mobilenet_wt_to_print], [x[4] for x in mobilenet_wt_to_print], 'idx', 'sqnr', 'weights, idx to sqnr')"
   ]
  },
  {
   "cell_type": "code",
   "execution_count": null,
   "metadata": {},
   "outputs": [],
   "source": []
  }
 ],
 "metadata": {
  "kernelspec": {
   "display_name": "Testing",
   "language": "python",
   "name": "testing"
  },
  "language_info": {
   "codemirror_mode": {
    "name": "ipython",
    "version": 3
   },
   "file_extension": ".py",
   "mimetype": "text/x-python",
   "name": "python",
   "nbconvert_exporter": "python",
   "pygments_lexer": "ipython3",
   "version": "3.10.9"
  }
 },
 "nbformat": 4,
 "nbformat_minor": 4
}
