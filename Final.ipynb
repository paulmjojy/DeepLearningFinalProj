{
 "cells": [
  {
   "cell_type": "markdown",
   "metadata": {},
   "source": [
    "# Final Project\n",
    "## By: Philip Spencer and Paul Jojy\n",
    "\n",
    "# Exploring the effects of Quantization on Deep Learning\n",
    "In this project, we will be exploring the effects of quantization on deep learning. This is an important topic in this field, as deep learning models are very large and can be inefficient to run on edge devices such as smart phones. ADD MORE LATER\n",
    "    \n",
    "## 0. Initialization and Configuration"
   ]
  },
  {
   "cell_type": "code",
   "execution_count": 24,
   "metadata": {},
   "outputs": [],
   "source": [
    "#CV packages\n",
    "import torch\n",
    "from torchvision import models, datasets, transforms, utils\n",
    "from torchvision.datasets import CIFAR10\n",
    "from torch import _six\n",
    "#Data presentation\n",
    "import matplotlib.pyplot as plt\n",
    "import seaborn as sns\n",
    "from sklearn.metrics import confusion_matrix\n",
    "import torch.ao.ns._numeric_suite_fx as ns\n",
    "\n",
    "#Data handling\n",
    "import numpy as np\n",
    "import pandas as pd\n",
    "import copy\n",
    "\n",
    "#Utilities\n",
    "import time\n",
    "import os"
   ]
  },
  {
   "cell_type": "code",
   "execution_count": 2,
   "metadata": {},
   "outputs": [
    {
     "data": {
      "text/plain": [
       "'1.13.1'"
      ]
     },
     "execution_count": 2,
     "metadata": {},
     "output_type": "execute_result"
    }
   ],
   "source": [
    "torch.__version__"
   ]
  },
  {
   "cell_type": "markdown",
   "metadata": {},
   "source": [
    "### Configuration"
   ]
  },
  {
   "cell_type": "code",
   "execution_count": 3,
   "metadata": {},
   "outputs": [],
   "source": [
    "#Any Folder/Preface for models here, you may need to change this or create the folder\n",
    "modelFolderPath = \"./Saved_Models/\"\n",
    "if not os.path.exists(modelFolderPath):\n",
    "    os.mkdir(modelFolderPath)\n",
    "#Bool, save models or not\n",
    "saveModels = False\n",
    "#Bool, load models or not\n",
    "loadModels = True"
   ]
  },
  {
   "cell_type": "code",
   "execution_count": 4,
   "metadata": {},
   "outputs": [
    {
     "name": "stdout",
     "output_type": "stream",
     "text": [
      "Device: cpu\n"
     ]
    },
    {
     "data": {
      "text/plain": [
       "<torch._C.Generator at 0x7fbaf9fc0b50>"
      ]
     },
     "execution_count": 4,
     "metadata": {},
     "output_type": "execute_result"
    }
   ],
   "source": [
    "#Configure notebook for the run\n",
    "sns.set(rc={'figure.figsize':(5,4)})\n",
    "plt.ion()\n",
    "\n",
    "#Set cuda device\n",
    "device = torch.device('cuda:0' if torch.cuda.is_available() else 'cpu')\n",
    "#device = 'cpu' #Uncomment this line if you prefer cpu\n",
    "print(\"Device:\", device)\n",
    "\n",
    "#This may help clear issues, uncomment as needed\n",
    "torch.cuda.empty_cache()\n",
    "\n",
    "#setup torch for training\n",
    "torch.backends.cudnn.benchmark= True\n",
    "\n",
    "#Set seed for reproducable results\n",
    "torch.manual_seed(0)"
   ]
  },
  {
   "cell_type": "code",
   "execution_count": 5,
   "metadata": {},
   "outputs": [],
   "source": [
    "#Define hyperparameters, and more\n",
    "BATCH_SIZE = 300\n",
    "EPOCHS = 6\n",
    "LEARNING_RATE = 0.001\n",
    "VALIDATION_RATIO = 0.85\n",
    "LR_GAMMA = 0.1 #lr decay rate\n",
    "LR_STEP_SIZE_DECAY = int(EPOCHS/3.0) #base this off total epochs to allow for fine tuning"
   ]
  },
  {
   "cell_type": "markdown",
   "metadata": {},
   "source": [
    "## 1. Download and Preprocess Data\n",
    "We will be analyzing CIFAR-10 and MNIST for this experiment. The data must be downloaded, normalized, and augmented to maximize performance."
   ]
  },
  {
   "cell_type": "code",
   "execution_count": 6,
   "metadata": {},
   "outputs": [
    {
     "name": "stdout",
     "output_type": "stream",
     "text": [
      "Files already downloaded and verified\n",
      "Files already downloaded and verified\n"
     ]
    }
   ],
   "source": [
    "def datadownload(is_inception=False):\n",
    "    if is_inception:\n",
    "        input_size = (299,299)\n",
    "    else:\n",
    "        input_size = (224,224)\n",
    "    \n",
    "    cifar_augmenter = transforms.Compose([\n",
    "        transforms.Resize(input_size),\n",
    "        transforms.ToTensor(),\n",
    "        transforms.Normalize([0.485, 0.456, 0.406], [0.229, 0.224, 0.225])\n",
    "    ])\n",
    "    \n",
    "    cifar_train = CIFAR10('.',download=True, transform=cifar_augmenter)\n",
    "    cifar_test = datasets.CIFAR10('.',train=False, transform=cifar_augmenter)\n",
    "    \n",
    "    mnist_augmenter = transforms.Compose([\n",
    "        transforms.Resize(input_size),\n",
    "        transforms.Grayscale(num_output_channels=3), #Convert grayscale to RGB where R=G=B. This is because the model is pretrained on an RGB dataset (Imagenet)\n",
    "        transforms.ToTensor(),\n",
    "        transforms.Normalize([0.485, 0.456, 0.406], [0.229, 0.224, 0.225])\n",
    "    ])\n",
    "    \n",
    "    mnist_train = datasets.MNIST('.',download=True, transform=mnist_augmenter)\n",
    "    mnist_test = datasets.MNIST('.',train=False, transform=mnist_augmenter)\n",
    "    \n",
    "    return (cifar_train,cifar_test),(mnist_train,mnist_test)\n",
    "cifar,mnist = datadownload()\n",
    "inception_cifar, inception_mnist = datadownload(is_inception=True)"
   ]
  },
  {
   "cell_type": "code",
   "execution_count": 7,
   "metadata": {},
   "outputs": [
    {
     "data": {
      "text/plain": [
       "(Dataset CIFAR10\n",
       "     Number of datapoints: 50000\n",
       "     Root location: .\n",
       "     Split: Train\n",
       "     StandardTransform\n",
       " Transform: Compose(\n",
       "                Resize(size=(224, 224), interpolation=bilinear, max_size=None, antialias=None)\n",
       "                ToTensor()\n",
       "                Normalize(mean=[0.485, 0.456, 0.406], std=[0.229, 0.224, 0.225])\n",
       "            ),\n",
       " Dataset CIFAR10\n",
       "     Number of datapoints: 10000\n",
       "     Root location: .\n",
       "     Split: Test\n",
       "     StandardTransform\n",
       " Transform: Compose(\n",
       "                Resize(size=(224, 224), interpolation=bilinear, max_size=None, antialias=None)\n",
       "                ToTensor()\n",
       "                Normalize(mean=[0.485, 0.456, 0.406], std=[0.229, 0.224, 0.225])\n",
       "            ))"
      ]
     },
     "execution_count": 7,
     "metadata": {},
     "output_type": "execute_result"
    }
   ],
   "source": [
    "cifar"
   ]
  },
  {
   "cell_type": "code",
   "execution_count": 8,
   "metadata": {},
   "outputs": [
    {
     "data": {
      "text/plain": [
       "(Dataset MNIST\n",
       "     Number of datapoints: 60000\n",
       "     Root location: .\n",
       "     Split: Train\n",
       "     StandardTransform\n",
       " Transform: Compose(\n",
       "                Resize(size=(224, 224), interpolation=bilinear, max_size=None, antialias=None)\n",
       "                Grayscale(num_output_channels=3)\n",
       "                ToTensor()\n",
       "                Normalize(mean=[0.485, 0.456, 0.406], std=[0.229, 0.224, 0.225])\n",
       "            ),\n",
       " Dataset MNIST\n",
       "     Number of datapoints: 10000\n",
       "     Root location: .\n",
       "     Split: Test\n",
       "     StandardTransform\n",
       " Transform: Compose(\n",
       "                Resize(size=(224, 224), interpolation=bilinear, max_size=None, antialias=None)\n",
       "                Grayscale(num_output_channels=3)\n",
       "                ToTensor()\n",
       "                Normalize(mean=[0.485, 0.456, 0.406], std=[0.229, 0.224, 0.225])\n",
       "            ))"
      ]
     },
     "execution_count": 8,
     "metadata": {},
     "output_type": "execute_result"
    }
   ],
   "source": [
    "mnist"
   ]
  },
  {
   "cell_type": "markdown",
   "metadata": {},
   "source": [
    "## 2. Prepare Dataloaders"
   ]
  },
  {
   "cell_type": "code",
   "execution_count": 9,
   "metadata": {},
   "outputs": [],
   "source": [
    "numClassesMnist = len(mnist[0].classes)\n",
    "classesMnist = mnist[0].classes\n",
    "classesNumericMnist = [numericClass for numericClass in range(len(classesMnist))]\n",
    "numClassesCifar = len(cifar[0].classes)\n",
    "classesCifar = cifar[0].classes\n",
    "classesNumericCifar = [numericClass for numericClass in range(len(classesCifar))]"
   ]
  },
  {
   "cell_type": "code",
   "execution_count": 10,
   "metadata": {},
   "outputs": [
    {
     "name": "stdout",
     "output_type": "stream",
     "text": [
      "['airplane', 'automobile', 'bird', 'cat', 'deer', 'dog', 'frog', 'horse', 'ship', 'truck'] [0, 1, 2, 3, 4, 5, 6, 7, 8, 9]\n"
     ]
    }
   ],
   "source": [
    "print(classesCifar,classesNumericCifar)"
   ]
  },
  {
   "cell_type": "code",
   "execution_count": 11,
   "metadata": {},
   "outputs": [],
   "source": [
    "def prepare_mnist(mnist):\n",
    "    #Prepare MNIST training data \n",
    "    mnistTrainSplit, mnistValSplit = torch.utils.data.random_split(mnist[0], [VALIDATION_RATIO, 1-VALIDATION_RATIO])\n",
    "    mnist_train_loader = torch.utils.data.DataLoader(mnistTrainSplit, shuffle=True, batch_size=BATCH_SIZE)\n",
    "    mnist_val_loader = torch.utils.data.DataLoader(mnistValSplit, shuffle=True, batch_size=BATCH_SIZE)\n",
    "\n",
    "    dataloaders_mnist = {'train': mnist_train_loader,\n",
    "                      'val': mnist_val_loader}\n",
    "\n",
    "    #Prepare MNIST testing data\n",
    "    mnist_test_loader = torch.utils.data.DataLoader(mnist[1], shuffle=True, batch_size=BATCH_SIZE)\n",
    "    return mnist_train_loader, dataloaders_mnist\n",
    "\n",
    "mnist_train_loader,dataloaders_mnist = prepare_mnist(mnist)\n",
    "_,inception_dataloaders_mnist = prepare_mnist(inception_mnist)"
   ]
  },
  {
   "cell_type": "code",
   "execution_count": 12,
   "metadata": {},
   "outputs": [],
   "source": [
    "def prepare_cifar(cifar):\n",
    "    #Split CIFAR training data \n",
    "    cifarTrainSplit, cifarValSplit = torch.utils.data.random_split(cifar[0], [VALIDATION_RATIO, 1-VALIDATION_RATIO])\n",
    "    cifar_train_loader = torch.utils.data.DataLoader(cifarTrainSplit, shuffle=True, batch_size=BATCH_SIZE)\n",
    "    cifar_val_loader = torch.utils.data.DataLoader(cifarValSplit, shuffle=True, batch_size=BATCH_SIZE)\n",
    "\n",
    "    dataloaders_cifar = {'train': cifar_train_loader,\n",
    "                          'val': cifar_val_loader}\n",
    "\n",
    "    #Prepare MNIST testing data\n",
    "    cifar_test_loader = torch.utils.data.DataLoader(cifar[1], shuffle=True, batch_size=BATCH_SIZE)\n",
    "    return cifar_train_loader, dataloaders_cifar\n",
    "cifar_train_loader, dataloaders_cifar = prepare_cifar(cifar)\n",
    "_, inception_dataloaders_cifar = prepare_cifar(inception_cifar)"
   ]
  },
  {
   "cell_type": "code",
   "execution_count": 13,
   "metadata": {},
   "outputs": [],
   "source": [
    "#Display images modified from pytorch tutorial: https://pytorch.org/tutorials/beginner/transfer_learning_tutorial.html\n",
    "def imshow(inp1, inp2, title=None):\n",
    "    fig, (axM, axC) = plt.subplots(1, 2, sharey=True)\n",
    "    fig.suptitle(title)\n",
    "    \n",
    "    inp1 = inp1.numpy().transpose((1, 2, 0))\n",
    "    inp1 = np.clip(inp1, 0, 1)\n",
    "    inp2 = inp2.numpy().transpose((1, 2, 0))\n",
    "    inp2 = np.clip(inp2, 0, 1)\n",
    "    \n",
    "    axM.imshow(inp1)\n",
    "    axC.imshow(inp2)\n",
    "    plt.pause(0.001)  # pause a bit so that plots are updated"
   ]
  },
  {
   "cell_type": "code",
   "execution_count": 14,
   "metadata": {},
   "outputs": [
    {
     "data": {
      "image/png": "[encoded data removed]",
      "text/plain": [
       "<Figure size 500x400 with 2 Axes>"
      ]
     },
     "metadata": {},
     "output_type": "display_data"
    }
   ],
   "source": [
    "#Get a batch of training data from mnist and cifar\n",
    "inputsM, classesM = next(iter(mnist_train_loader))\n",
    "inputsC, classesC = next(iter(cifar_train_loader))\n",
    "imageMax = min(64, BATCH_SIZE)\n",
    "\n",
    "#Display sample images\n",
    "imshow(utils.make_grid(inputsM[0:imageMax]), utils.make_grid(inputsC[0:imageMax]))"
   ]
  },
  {
   "cell_type": "markdown",
   "metadata": {},
   "source": [
    "# 3. Create Model Architectures and Freeze layers"
   ]
  },
  {
   "cell_type": "code",
   "execution_count": 15,
   "metadata": {},
   "outputs": [],
   "source": [
    "def create_resnet(numClasses):\n",
    "    #Create base ResNet model\n",
    "    model_temp = models.resnet50(weights=models.ResNet18_Weights.DEFAULT)\n",
    "    num_fts_temp = model_temp.fc.in_features\n",
    "    model_temp.fc = torch.nn.Linear(num_fts_temp, numClasses)\n",
    "    \n",
    "    #Define loss functions, optimizer and scheduler\n",
    "    criterion_temp = torch.nn.CrossEntropyLoss()\n",
    "    optimizer_temp = torch.optim.Adam(model_temp.parameters(), lr=LEARNING_RATE)\n",
    "    exp_lr_scheduler = torch.optim.lr_scheduler.StepLR(optimizer_temp, step_size=LR_STEP_SIZE_DECAY, gamma=LR_GAMMA)\n",
    "    \n",
    "    return model_temp, {'criterion':criterion_temp, 'optimizer':optimizer_temp, 'scheduler':exp_lr_scheduler}"
   ]
  },
  {
   "cell_type": "code",
   "execution_count": 16,
   "metadata": {},
   "outputs": [],
   "source": [
    "def create_mobilenet(numClasses):\n",
    "    #Create base Mobilenet model\n",
    "    model_temp = models.mobilenet.mobilenet_v2(pretrained=True)\n",
    "    model_temp.classifier[1] = torch.nn.Linear(in_features=model_temp.classifier[1].in_features,out_features=numClasses)\n",
    "    \n",
    "    #Define loss functions, optimizer and scheduler\n",
    "    criterion_temp = torch.nn.CrossEntropyLoss()\n",
    "    optimizer_temp = torch.optim.Adam(model_temp.parameters(), lr=LEARNING_RATE)\n",
    "    exp_lr_scheduler = torch.optim.lr_scheduler.StepLR(optimizer_temp, step_size=LR_STEP_SIZE_DECAY, gamma=LR_GAMMA)\n",
    "    \n",
    "    return model_temp, {'criterion':criterion_temp, 'optimizer':optimizer_temp, 'scheduler':exp_lr_scheduler}"
   ]
  },
  {
   "cell_type": "code",
   "execution_count": 17,
   "metadata": {},
   "outputs": [],
   "source": [
    "def create_inception(numClasses):\n",
    "    model_temp = models.inception_v3(pretrained=True)\n",
    "    # Handle the auxilary net\n",
    "    num_ftrs = model_temp.AuxLogits.fc.in_features\n",
    "    model_temp.AuxLogits.fc = torch.nn.Linear(num_ftrs, numClasses)\n",
    "    # Handle the primary net\n",
    "    num_ftrs = model_temp.fc.in_features\n",
    "    model_temp.fc = torch.nn.Linear(num_ftrs,numClasses)\n",
    "    input_size = 299\n",
    "    \n",
    "    #Define loss functions, optimizer and scheduler\n",
    "    criterion_temp = torch.nn.CrossEntropyLoss()\n",
    "    optimizer_temp = torch.optim.Adam(model_temp.parameters(), lr=LEARNING_RATE)\n",
    "    exp_lr_scheduler = torch.optim.lr_scheduler.StepLR(optimizer_temp, step_size=LR_STEP_SIZE_DECAY, gamma=LR_GAMMA)\n",
    "    \n",
    "    return model_temp, {'criterion':criterion_temp, 'optimizer':optimizer_temp, 'scheduler':exp_lr_scheduler}"
   ]
  },
  {
   "cell_type": "markdown",
   "metadata": {},
   "source": [
    "## 3. Prepare Models for Training"
   ]
  },
  {
   "cell_type": "code",
   "execution_count": 18,
   "metadata": {},
   "outputs": [],
   "source": [
    "#Add early stop class, inspired by https://stackoverflow.com/questions/71998978/early-stopping-in-pytorch\n",
    "class EarlyStopper:\n",
    "    def __init__(self, patience=1, min_delta=0):\n",
    "        self.patience = patience\n",
    "        self.min_delta = min_delta\n",
    "        self.counter = 0\n",
    "        self.min_validation_loss = np.inf\n",
    "\n",
    "    def early_stop(self, validation_loss):\n",
    "        if validation_loss < self.min_validation_loss:\n",
    "            self.min_validation_loss = validation_loss\n",
    "            self.counter = 0\n",
    "        elif validation_loss > (self.min_validation_loss + self.min_delta):\n",
    "            self.counter += 1\n",
    "            if self.counter >= self.patience:\n",
    "                return True\n",
    "        return False"
   ]
  },
  {
   "cell_type": "code",
   "execution_count": 20,
   "metadata": {},
   "outputs": [],
   "source": [
    "#Traing method inspired by https://pytorch.org/tutorials/beginner/transfer_learning_tutorial.html\n",
    "#modified to fit data structure, and keep trach of metrics accross epochs\n",
    "def train_model(model, modelDict, dataloaders, num_epochs, noisy=True, epochPatience=2, minDelta=-.001, is_inception=False):\n",
    "    #get model, criterion, optimizer, scheduler from dictionary \n",
    "    since = time.time()\n",
    "    model = model.to(device) \n",
    "    criterion = modelDict['criterion']\n",
    "    optimizer = modelDict['optimizer']\n",
    "    scheduler = modelDict['scheduler']\n",
    "\n",
    "    #Set early stopper parameters\n",
    "    early_stopper = EarlyStopper(patience=epochPatience, min_delta=minDelta)\n",
    "\n",
    "    best_model_wts = copy.deepcopy(model.state_dict())\n",
    "    best_acc = 0.0\n",
    "    best_train_acc = 0.0\n",
    "    \n",
    "    #Keep track of metrics from training\n",
    "    metrics = pd.DataFrame(data=[],columns=['epoch','accuracy','loss','phase'])\n",
    "    \n",
    "    for epoch in range(num_epochs):\n",
    "        if noisy:\n",
    "            print(f'Epoch {epoch}/{num_epochs-1}')\n",
    "            print('-' * 10)\n",
    "\n",
    "        #Each epoch has a training and validation phase\n",
    "        for phase in ['train', 'val']:\n",
    "            if phase == 'train':\n",
    "                model.train()  #Set model to training mode\n",
    "            else:\n",
    "                model.eval()   #Set model to evaluate mode\n",
    "\n",
    "            running_loss = 0.0\n",
    "            running_corrects = 0\n",
    "\n",
    "            # Iterate over data.\n",
    "            for inputs, labels in dataloaders[phase]:\n",
    "                inputs = inputs.to(device)\n",
    "                labels = labels.to(device)\n",
    "\n",
    "                #Zero the parameter gradients\n",
    "                optimizer.zero_grad()\n",
    "\n",
    "                #Forward\n",
    "                # track history if only in train\n",
    "                with torch.set_grad_enabled(phase == 'train'):\n",
    "                    outputs = model(inputs)\n",
    "                    _, preds = torch.max(outputs, 1)\n",
    "                    loss = criterion(outputs, labels)\n",
    "\n",
    "                    # backward + optimize for training phase\n",
    "                    if is_inception and phase=='train':\n",
    "                        outputs, aux_outputs = model(inputs)\n",
    "                        loss1 = criterion(outputs, labels)\n",
    "                        loss2 = criterion(aux_outputs, labels)\n",
    "                        loss = loss1 + 0.4*loss2\n",
    "                    else:\n",
    "                        outputs = model(inputs)\n",
    "                        loss = criterion(outputs, labels)\n",
    "\n",
    "                    _, preds = torch.max(outputs, 1)\n",
    "\n",
    "                    if phase == 'train':\n",
    "                        loss.backward()\n",
    "                        optimizer.step()\n",
    "\n",
    "                # statistics\n",
    "                running_loss += loss.item() * inputs.size(0)\n",
    "                running_corrects += torch.sum(preds == labels.data)\n",
    "                \n",
    "            if phase == 'train':\n",
    "                scheduler.step()\n",
    "            \n",
    "            #Show statistics for each epoch\n",
    "            epoch_loss = running_loss / len(dataloaders[phase].dataset) #dataset_sizes[phase]\n",
    "            epoch_acc = (running_corrects.double()) / len(dataloaders[phase].dataset) #dataset_sizes[phase]\n",
    "            \n",
    "            if noisy:\n",
    "                print(f'{phase} Loss: {epoch_loss:.4f} Acc: {min(epoch_acc,1.0):.4f}')\n",
    "            \n",
    "            #Track metrics for graphing\n",
    "            metrics = pd.concat([metrics,pd.DataFrame(data=[[epoch,epoch_acc.item(),epoch_loss,phase]],columns=['epoch','accuracy','loss','phase'])], ignore_index=True)\n",
    "\n",
    "            #Deep copy the model to keep track of the best one\n",
    "            if phase == 'val' and epoch_acc > best_acc:\n",
    "                best_acc = epoch_acc\n",
    "                best_model_wts = copy.deepcopy(model.state_dict())\n",
    "            if phase == 'train' and epoch_acc > best_train_acc:\n",
    "                best_train_acc = epoch_acc\n",
    "\n",
    "        if noisy:\n",
    "            print(\"\")\n",
    "            \n",
    "        if early_stopper.early_stop(epoch_loss):\n",
    "            print(\"Training stopped on epoch\",epoch,\"because the loss has not decreased by more than\",minDelta,\"in\",epochPatience,\"epochs\")\n",
    "            break\n",
    "\n",
    "    time_elapsed = time.time() - since\n",
    "    print(f'Training complete in {time_elapsed // 60:.0f}m {time_elapsed % 60:.0f}s')\n",
    "    print(f'Best Val Acc: {best_acc:4f}')\n",
    "    print(f'Best Train Acc: {min(best_train_acc,1.0):4f}')\n",
    "\n",
    "    # load best model weights\n",
    "    model.load_state_dict(best_model_wts)\n",
    "    return model, metrics"
   ]
  },
  {
   "cell_type": "markdown",
   "metadata": {},
   "source": [
    "### Example model creation, training"
   ]
  },
  {
   "cell_type": "markdown",
   "metadata": {},
   "source": [
    "## Build and Train Inception V3"
   ]
  },
  {
   "cell_type": "code",
   "execution_count": 23,
   "metadata": {},
   "outputs": [
    {
     "name": "stderr",
     "output_type": "stream",
     "text": [
      "/Users/pauljojy/opt/anaconda3/envs/pytorch/lib/python3.10/site-packages/torchvision/models/_utils.py:208: UserWarning: The parameter 'pretrained' is deprecated since 0.13 and may be removed in the future, please use 'weights' instead.\n",
      "  warnings.warn(\n",
      "/Users/pauljojy/opt/anaconda3/envs/pytorch/lib/python3.10/site-packages/torchvision/models/_utils.py:223: UserWarning: Arguments other than a weight enum or `None` for 'weights' are deprecated since 0.13 and may be removed in the future. The current behavior is equivalent to passing `weights=Inception_V3_Weights.IMAGENET1K_V1`. You can also use `weights=Inception_V3_Weights.DEFAULT` to get the most up-to-date weights.\n",
      "  warnings.warn(msg)\n"
     ]
    },
    {
     "name": "stdout",
     "output_type": "stream",
     "text": [
      "Epoch 0/5\n",
      "----------\n"
     ]
    },
    {
     "ename": "KeyboardInterrupt",
     "evalue": "",
     "output_type": "error",
     "traceback": [
      "\u001b[0;31m---------------------------------------------------------------------------\u001b[0m",
      "\u001b[0;31mKeyboardInterrupt\u001b[0m                         Traceback (most recent call last)",
      "Cell \u001b[0;32mIn[23], line 9\u001b[0m\n\u001b[1;32m      7\u001b[0m     inception_mnist\u001b[38;5;241m.\u001b[39mload_state_dict(torch\u001b[38;5;241m.\u001b[39mload(modelpath))\n\u001b[1;32m      8\u001b[0m \u001b[38;5;28;01melse\u001b[39;00m:\n\u001b[0;32m----> 9\u001b[0m     inception_mnist, metrics_inception_mnist \u001b[38;5;241m=\u001b[39m \u001b[43mtrain_model\u001b[49m\u001b[43m(\u001b[49m\u001b[43minception_mnist\u001b[49m\u001b[43m,\u001b[49m\u001b[43m \u001b[49m\u001b[43minception_mnist_dict\u001b[49m\u001b[43m,\u001b[49m\u001b[43m \u001b[49m\u001b[43minception_dataloaders_mnist\u001b[49m\u001b[43m,\u001b[49m\u001b[43m \u001b[49m\u001b[43mEPOCHS\u001b[49m\u001b[43m)\u001b[49m\n\u001b[1;32m     10\u001b[0m     sns\u001b[38;5;241m.\u001b[39mrelplot(data\u001b[38;5;241m=\u001b[39mmetrics_inception_mnist, kind\u001b[38;5;241m=\u001b[39m\u001b[38;5;124m\"\u001b[39m\u001b[38;5;124mline\u001b[39m\u001b[38;5;124m\"\u001b[39m, x\u001b[38;5;241m=\u001b[39m\u001b[38;5;124m\"\u001b[39m\u001b[38;5;124mepoch\u001b[39m\u001b[38;5;124m\"\u001b[39m, y\u001b[38;5;241m=\u001b[39m\u001b[38;5;124m\"\u001b[39m\u001b[38;5;124maccuracy\u001b[39m\u001b[38;5;124m\"\u001b[39m, hue\u001b[38;5;241m=\u001b[39m\u001b[38;5;124m\"\u001b[39m\u001b[38;5;124mphase\u001b[39m\u001b[38;5;124m\"\u001b[39m,)\n\u001b[1;32m     11\u001b[0m     torch\u001b[38;5;241m.\u001b[39msave(inception_mnist\u001b[38;5;241m.\u001b[39mstate_dict(), modelFolderPath \u001b[38;5;241m+\u001b[39m \u001b[38;5;124m'\u001b[39m\u001b[38;5;124mmodel_inception_mnist.pth\u001b[39m\u001b[38;5;124m'\u001b[39m)\n",
      "Cell \u001b[0;32mIn[20], line 47\u001b[0m, in \u001b[0;36mtrain_model\u001b[0;34m(model, modelDict, dataloaders, num_epochs, noisy, epochPatience, minDelta, is_inception)\u001b[0m\n\u001b[1;32m     44\u001b[0m \u001b[38;5;66;03m#Forward\u001b[39;00m\n\u001b[1;32m     45\u001b[0m \u001b[38;5;66;03m# track history if only in train\u001b[39;00m\n\u001b[1;32m     46\u001b[0m \u001b[38;5;28;01mwith\u001b[39;00m torch\u001b[38;5;241m.\u001b[39mset_grad_enabled(phase \u001b[38;5;241m==\u001b[39m \u001b[38;5;124m'\u001b[39m\u001b[38;5;124mtrain\u001b[39m\u001b[38;5;124m'\u001b[39m):\n\u001b[0;32m---> 47\u001b[0m     outputs \u001b[38;5;241m=\u001b[39m \u001b[43mmodel\u001b[49m\u001b[43m(\u001b[49m\u001b[43minputs\u001b[49m\u001b[43m)\u001b[49m\n\u001b[1;32m     48\u001b[0m     _, preds \u001b[38;5;241m=\u001b[39m torch\u001b[38;5;241m.\u001b[39mmax(outputs, \u001b[38;5;241m1\u001b[39m)\n\u001b[1;32m     49\u001b[0m     loss \u001b[38;5;241m=\u001b[39m criterion(outputs, labels)\n",
      "File \u001b[0;32m~/opt/anaconda3/envs/pytorch/lib/python3.10/site-packages/torch/nn/modules/module.py:1194\u001b[0m, in \u001b[0;36mModule._call_impl\u001b[0;34m(self, *input, **kwargs)\u001b[0m\n\u001b[1;32m   1190\u001b[0m \u001b[38;5;66;03m# If we don't have any hooks, we want to skip the rest of the logic in\u001b[39;00m\n\u001b[1;32m   1191\u001b[0m \u001b[38;5;66;03m# this function, and just call forward.\u001b[39;00m\n\u001b[1;32m   1192\u001b[0m \u001b[38;5;28;01mif\u001b[39;00m \u001b[38;5;129;01mnot\u001b[39;00m (\u001b[38;5;28mself\u001b[39m\u001b[38;5;241m.\u001b[39m_backward_hooks \u001b[38;5;129;01mor\u001b[39;00m \u001b[38;5;28mself\u001b[39m\u001b[38;5;241m.\u001b[39m_forward_hooks \u001b[38;5;129;01mor\u001b[39;00m \u001b[38;5;28mself\u001b[39m\u001b[38;5;241m.\u001b[39m_forward_pre_hooks \u001b[38;5;129;01mor\u001b[39;00m _global_backward_hooks\n\u001b[1;32m   1193\u001b[0m         \u001b[38;5;129;01mor\u001b[39;00m _global_forward_hooks \u001b[38;5;129;01mor\u001b[39;00m _global_forward_pre_hooks):\n\u001b[0;32m-> 1194\u001b[0m     \u001b[38;5;28;01mreturn\u001b[39;00m \u001b[43mforward_call\u001b[49m\u001b[43m(\u001b[49m\u001b[38;5;241;43m*\u001b[39;49m\u001b[38;5;28;43minput\u001b[39;49m\u001b[43m,\u001b[49m\u001b[43m \u001b[49m\u001b[38;5;241;43m*\u001b[39;49m\u001b[38;5;241;43m*\u001b[39;49m\u001b[43mkwargs\u001b[49m\u001b[43m)\u001b[49m\n\u001b[1;32m   1195\u001b[0m \u001b[38;5;66;03m# Do not call functions when jit is used\u001b[39;00m\n\u001b[1;32m   1196\u001b[0m full_backward_hooks, non_full_backward_hooks \u001b[38;5;241m=\u001b[39m [], []\n",
      "File \u001b[0;32m~/opt/anaconda3/envs/pytorch/lib/python3.10/site-packages/torchvision/models/inception.py:166\u001b[0m, in \u001b[0;36mInception3.forward\u001b[0;34m(self, x)\u001b[0m\n\u001b[1;32m    164\u001b[0m \u001b[38;5;28;01mdef\u001b[39;00m \u001b[38;5;21mforward\u001b[39m(\u001b[38;5;28mself\u001b[39m, x: Tensor) \u001b[38;5;241m-\u001b[39m\u001b[38;5;241m>\u001b[39m InceptionOutputs:\n\u001b[1;32m    165\u001b[0m     x \u001b[38;5;241m=\u001b[39m \u001b[38;5;28mself\u001b[39m\u001b[38;5;241m.\u001b[39m_transform_input(x)\n\u001b[0;32m--> 166\u001b[0m     x, aux \u001b[38;5;241m=\u001b[39m \u001b[38;5;28;43mself\u001b[39;49m\u001b[38;5;241;43m.\u001b[39;49m\u001b[43m_forward\u001b[49m\u001b[43m(\u001b[49m\u001b[43mx\u001b[49m\u001b[43m)\u001b[49m\n\u001b[1;32m    167\u001b[0m     aux_defined \u001b[38;5;241m=\u001b[39m \u001b[38;5;28mself\u001b[39m\u001b[38;5;241m.\u001b[39mtraining \u001b[38;5;129;01mand\u001b[39;00m \u001b[38;5;28mself\u001b[39m\u001b[38;5;241m.\u001b[39maux_logits\n\u001b[1;32m    168\u001b[0m     \u001b[38;5;28;01mif\u001b[39;00m torch\u001b[38;5;241m.\u001b[39mjit\u001b[38;5;241m.\u001b[39mis_scripting():\n",
      "File \u001b[0;32m~/opt/anaconda3/envs/pytorch/lib/python3.10/site-packages/torchvision/models/inception.py:142\u001b[0m, in \u001b[0;36mInception3._forward\u001b[0;34m(self, x)\u001b[0m\n\u001b[1;32m    140\u001b[0m x \u001b[38;5;241m=\u001b[39m \u001b[38;5;28mself\u001b[39m\u001b[38;5;241m.\u001b[39mMixed_7a(x)\n\u001b[1;32m    141\u001b[0m \u001b[38;5;66;03m# N x 1280 x 8 x 8\u001b[39;00m\n\u001b[0;32m--> 142\u001b[0m x \u001b[38;5;241m=\u001b[39m \u001b[38;5;28;43mself\u001b[39;49m\u001b[38;5;241;43m.\u001b[39;49m\u001b[43mMixed_7b\u001b[49m\u001b[43m(\u001b[49m\u001b[43mx\u001b[49m\u001b[43m)\u001b[49m\n\u001b[1;32m    143\u001b[0m \u001b[38;5;66;03m# N x 2048 x 8 x 8\u001b[39;00m\n\u001b[1;32m    144\u001b[0m x \u001b[38;5;241m=\u001b[39m \u001b[38;5;28mself\u001b[39m\u001b[38;5;241m.\u001b[39mMixed_7c(x)\n",
      "File \u001b[0;32m~/opt/anaconda3/envs/pytorch/lib/python3.10/site-packages/torch/nn/modules/module.py:1194\u001b[0m, in \u001b[0;36mModule._call_impl\u001b[0;34m(self, *input, **kwargs)\u001b[0m\n\u001b[1;32m   1190\u001b[0m \u001b[38;5;66;03m# If we don't have any hooks, we want to skip the rest of the logic in\u001b[39;00m\n\u001b[1;32m   1191\u001b[0m \u001b[38;5;66;03m# this function, and just call forward.\u001b[39;00m\n\u001b[1;32m   1192\u001b[0m \u001b[38;5;28;01mif\u001b[39;00m \u001b[38;5;129;01mnot\u001b[39;00m (\u001b[38;5;28mself\u001b[39m\u001b[38;5;241m.\u001b[39m_backward_hooks \u001b[38;5;129;01mor\u001b[39;00m \u001b[38;5;28mself\u001b[39m\u001b[38;5;241m.\u001b[39m_forward_hooks \u001b[38;5;129;01mor\u001b[39;00m \u001b[38;5;28mself\u001b[39m\u001b[38;5;241m.\u001b[39m_forward_pre_hooks \u001b[38;5;129;01mor\u001b[39;00m _global_backward_hooks\n\u001b[1;32m   1193\u001b[0m         \u001b[38;5;129;01mor\u001b[39;00m _global_forward_hooks \u001b[38;5;129;01mor\u001b[39;00m _global_forward_pre_hooks):\n\u001b[0;32m-> 1194\u001b[0m     \u001b[38;5;28;01mreturn\u001b[39;00m \u001b[43mforward_call\u001b[49m\u001b[43m(\u001b[49m\u001b[38;5;241;43m*\u001b[39;49m\u001b[38;5;28;43minput\u001b[39;49m\u001b[43m,\u001b[49m\u001b[43m \u001b[49m\u001b[38;5;241;43m*\u001b[39;49m\u001b[38;5;241;43m*\u001b[39;49m\u001b[43mkwargs\u001b[49m\u001b[43m)\u001b[49m\n\u001b[1;32m   1195\u001b[0m \u001b[38;5;66;03m# Do not call functions when jit is used\u001b[39;00m\n\u001b[1;32m   1196\u001b[0m full_backward_hooks, non_full_backward_hooks \u001b[38;5;241m=\u001b[39m [], []\n",
      "File \u001b[0;32m~/opt/anaconda3/envs/pytorch/lib/python3.10/site-packages/torchvision/models/inception.py:363\u001b[0m, in \u001b[0;36mInceptionE.forward\u001b[0;34m(self, x)\u001b[0m\n\u001b[1;32m    362\u001b[0m \u001b[38;5;28;01mdef\u001b[39;00m \u001b[38;5;21mforward\u001b[39m(\u001b[38;5;28mself\u001b[39m, x: Tensor) \u001b[38;5;241m-\u001b[39m\u001b[38;5;241m>\u001b[39m Tensor:\n\u001b[0;32m--> 363\u001b[0m     outputs \u001b[38;5;241m=\u001b[39m \u001b[38;5;28;43mself\u001b[39;49m\u001b[38;5;241;43m.\u001b[39;49m\u001b[43m_forward\u001b[49m\u001b[43m(\u001b[49m\u001b[43mx\u001b[49m\u001b[43m)\u001b[49m\n\u001b[1;32m    364\u001b[0m     \u001b[38;5;28;01mreturn\u001b[39;00m torch\u001b[38;5;241m.\u001b[39mcat(outputs, \u001b[38;5;241m1\u001b[39m)\n",
      "File \u001b[0;32m~/opt/anaconda3/envs/pytorch/lib/python3.10/site-packages/torchvision/models/inception.py:343\u001b[0m, in \u001b[0;36mInceptionE._forward\u001b[0;34m(self, x)\u001b[0m\n\u001b[1;32m    339\u001b[0m branch1x1 \u001b[38;5;241m=\u001b[39m \u001b[38;5;28mself\u001b[39m\u001b[38;5;241m.\u001b[39mbranch1x1(x)\n\u001b[1;32m    341\u001b[0m branch3x3 \u001b[38;5;241m=\u001b[39m \u001b[38;5;28mself\u001b[39m\u001b[38;5;241m.\u001b[39mbranch3x3_1(x)\n\u001b[1;32m    342\u001b[0m branch3x3 \u001b[38;5;241m=\u001b[39m [\n\u001b[0;32m--> 343\u001b[0m     \u001b[38;5;28;43mself\u001b[39;49m\u001b[38;5;241;43m.\u001b[39;49m\u001b[43mbranch3x3_2a\u001b[49m\u001b[43m(\u001b[49m\u001b[43mbranch3x3\u001b[49m\u001b[43m)\u001b[49m,\n\u001b[1;32m    344\u001b[0m     \u001b[38;5;28mself\u001b[39m\u001b[38;5;241m.\u001b[39mbranch3x3_2b(branch3x3),\n\u001b[1;32m    345\u001b[0m ]\n\u001b[1;32m    346\u001b[0m branch3x3 \u001b[38;5;241m=\u001b[39m torch\u001b[38;5;241m.\u001b[39mcat(branch3x3, \u001b[38;5;241m1\u001b[39m)\n\u001b[1;32m    348\u001b[0m branch3x3dbl \u001b[38;5;241m=\u001b[39m \u001b[38;5;28mself\u001b[39m\u001b[38;5;241m.\u001b[39mbranch3x3dbl_1(x)\n",
      "File \u001b[0;32m~/opt/anaconda3/envs/pytorch/lib/python3.10/site-packages/torch/nn/modules/module.py:1194\u001b[0m, in \u001b[0;36mModule._call_impl\u001b[0;34m(self, *input, **kwargs)\u001b[0m\n\u001b[1;32m   1190\u001b[0m \u001b[38;5;66;03m# If we don't have any hooks, we want to skip the rest of the logic in\u001b[39;00m\n\u001b[1;32m   1191\u001b[0m \u001b[38;5;66;03m# this function, and just call forward.\u001b[39;00m\n\u001b[1;32m   1192\u001b[0m \u001b[38;5;28;01mif\u001b[39;00m \u001b[38;5;129;01mnot\u001b[39;00m (\u001b[38;5;28mself\u001b[39m\u001b[38;5;241m.\u001b[39m_backward_hooks \u001b[38;5;129;01mor\u001b[39;00m \u001b[38;5;28mself\u001b[39m\u001b[38;5;241m.\u001b[39m_forward_hooks \u001b[38;5;129;01mor\u001b[39;00m \u001b[38;5;28mself\u001b[39m\u001b[38;5;241m.\u001b[39m_forward_pre_hooks \u001b[38;5;129;01mor\u001b[39;00m _global_backward_hooks\n\u001b[1;32m   1193\u001b[0m         \u001b[38;5;129;01mor\u001b[39;00m _global_forward_hooks \u001b[38;5;129;01mor\u001b[39;00m _global_forward_pre_hooks):\n\u001b[0;32m-> 1194\u001b[0m     \u001b[38;5;28;01mreturn\u001b[39;00m \u001b[43mforward_call\u001b[49m\u001b[43m(\u001b[49m\u001b[38;5;241;43m*\u001b[39;49m\u001b[38;5;28;43minput\u001b[39;49m\u001b[43m,\u001b[49m\u001b[43m \u001b[49m\u001b[38;5;241;43m*\u001b[39;49m\u001b[38;5;241;43m*\u001b[39;49m\u001b[43mkwargs\u001b[49m\u001b[43m)\u001b[49m\n\u001b[1;32m   1195\u001b[0m \u001b[38;5;66;03m# Do not call functions when jit is used\u001b[39;00m\n\u001b[1;32m   1196\u001b[0m full_backward_hooks, non_full_backward_hooks \u001b[38;5;241m=\u001b[39m [], []\n",
      "File \u001b[0;32m~/opt/anaconda3/envs/pytorch/lib/python3.10/site-packages/torchvision/models/inception.py:405\u001b[0m, in \u001b[0;36mBasicConv2d.forward\u001b[0;34m(self, x)\u001b[0m\n\u001b[1;32m    404\u001b[0m \u001b[38;5;28;01mdef\u001b[39;00m \u001b[38;5;21mforward\u001b[39m(\u001b[38;5;28mself\u001b[39m, x: Tensor) \u001b[38;5;241m-\u001b[39m\u001b[38;5;241m>\u001b[39m Tensor:\n\u001b[0;32m--> 405\u001b[0m     x \u001b[38;5;241m=\u001b[39m \u001b[38;5;28;43mself\u001b[39;49m\u001b[38;5;241;43m.\u001b[39;49m\u001b[43mconv\u001b[49m\u001b[43m(\u001b[49m\u001b[43mx\u001b[49m\u001b[43m)\u001b[49m\n\u001b[1;32m    406\u001b[0m     x \u001b[38;5;241m=\u001b[39m \u001b[38;5;28mself\u001b[39m\u001b[38;5;241m.\u001b[39mbn(x)\n\u001b[1;32m    407\u001b[0m     \u001b[38;5;28;01mreturn\u001b[39;00m F\u001b[38;5;241m.\u001b[39mrelu(x, inplace\u001b[38;5;241m=\u001b[39m\u001b[38;5;28;01mTrue\u001b[39;00m)\n",
      "File \u001b[0;32m~/opt/anaconda3/envs/pytorch/lib/python3.10/site-packages/torch/nn/modules/module.py:1194\u001b[0m, in \u001b[0;36mModule._call_impl\u001b[0;34m(self, *input, **kwargs)\u001b[0m\n\u001b[1;32m   1190\u001b[0m \u001b[38;5;66;03m# If we don't have any hooks, we want to skip the rest of the logic in\u001b[39;00m\n\u001b[1;32m   1191\u001b[0m \u001b[38;5;66;03m# this function, and just call forward.\u001b[39;00m\n\u001b[1;32m   1192\u001b[0m \u001b[38;5;28;01mif\u001b[39;00m \u001b[38;5;129;01mnot\u001b[39;00m (\u001b[38;5;28mself\u001b[39m\u001b[38;5;241m.\u001b[39m_backward_hooks \u001b[38;5;129;01mor\u001b[39;00m \u001b[38;5;28mself\u001b[39m\u001b[38;5;241m.\u001b[39m_forward_hooks \u001b[38;5;129;01mor\u001b[39;00m \u001b[38;5;28mself\u001b[39m\u001b[38;5;241m.\u001b[39m_forward_pre_hooks \u001b[38;5;129;01mor\u001b[39;00m _global_backward_hooks\n\u001b[1;32m   1193\u001b[0m         \u001b[38;5;129;01mor\u001b[39;00m _global_forward_hooks \u001b[38;5;129;01mor\u001b[39;00m _global_forward_pre_hooks):\n\u001b[0;32m-> 1194\u001b[0m     \u001b[38;5;28;01mreturn\u001b[39;00m \u001b[43mforward_call\u001b[49m\u001b[43m(\u001b[49m\u001b[38;5;241;43m*\u001b[39;49m\u001b[38;5;28;43minput\u001b[39;49m\u001b[43m,\u001b[49m\u001b[43m \u001b[49m\u001b[38;5;241;43m*\u001b[39;49m\u001b[38;5;241;43m*\u001b[39;49m\u001b[43mkwargs\u001b[49m\u001b[43m)\u001b[49m\n\u001b[1;32m   1195\u001b[0m \u001b[38;5;66;03m# Do not call functions when jit is used\u001b[39;00m\n\u001b[1;32m   1196\u001b[0m full_backward_hooks, non_full_backward_hooks \u001b[38;5;241m=\u001b[39m [], []\n",
      "File \u001b[0;32m~/opt/anaconda3/envs/pytorch/lib/python3.10/site-packages/torch/nn/modules/conv.py:463\u001b[0m, in \u001b[0;36mConv2d.forward\u001b[0;34m(self, input)\u001b[0m\n\u001b[1;32m    462\u001b[0m \u001b[38;5;28;01mdef\u001b[39;00m \u001b[38;5;21mforward\u001b[39m(\u001b[38;5;28mself\u001b[39m, \u001b[38;5;28minput\u001b[39m: Tensor) \u001b[38;5;241m-\u001b[39m\u001b[38;5;241m>\u001b[39m Tensor:\n\u001b[0;32m--> 463\u001b[0m     \u001b[38;5;28;01mreturn\u001b[39;00m \u001b[38;5;28;43mself\u001b[39;49m\u001b[38;5;241;43m.\u001b[39;49m\u001b[43m_conv_forward\u001b[49m\u001b[43m(\u001b[49m\u001b[38;5;28;43minput\u001b[39;49m\u001b[43m,\u001b[49m\u001b[43m \u001b[49m\u001b[38;5;28;43mself\u001b[39;49m\u001b[38;5;241;43m.\u001b[39;49m\u001b[43mweight\u001b[49m\u001b[43m,\u001b[49m\u001b[43m \u001b[49m\u001b[38;5;28;43mself\u001b[39;49m\u001b[38;5;241;43m.\u001b[39;49m\u001b[43mbias\u001b[49m\u001b[43m)\u001b[49m\n",
      "File \u001b[0;32m~/opt/anaconda3/envs/pytorch/lib/python3.10/site-packages/torch/nn/modules/conv.py:459\u001b[0m, in \u001b[0;36mConv2d._conv_forward\u001b[0;34m(self, input, weight, bias)\u001b[0m\n\u001b[1;32m    455\u001b[0m \u001b[38;5;28;01mif\u001b[39;00m \u001b[38;5;28mself\u001b[39m\u001b[38;5;241m.\u001b[39mpadding_mode \u001b[38;5;241m!=\u001b[39m \u001b[38;5;124m'\u001b[39m\u001b[38;5;124mzeros\u001b[39m\u001b[38;5;124m'\u001b[39m:\n\u001b[1;32m    456\u001b[0m     \u001b[38;5;28;01mreturn\u001b[39;00m F\u001b[38;5;241m.\u001b[39mconv2d(F\u001b[38;5;241m.\u001b[39mpad(\u001b[38;5;28minput\u001b[39m, \u001b[38;5;28mself\u001b[39m\u001b[38;5;241m.\u001b[39m_reversed_padding_repeated_twice, mode\u001b[38;5;241m=\u001b[39m\u001b[38;5;28mself\u001b[39m\u001b[38;5;241m.\u001b[39mpadding_mode),\n\u001b[1;32m    457\u001b[0m                     weight, bias, \u001b[38;5;28mself\u001b[39m\u001b[38;5;241m.\u001b[39mstride,\n\u001b[1;32m    458\u001b[0m                     _pair(\u001b[38;5;241m0\u001b[39m), \u001b[38;5;28mself\u001b[39m\u001b[38;5;241m.\u001b[39mdilation, \u001b[38;5;28mself\u001b[39m\u001b[38;5;241m.\u001b[39mgroups)\n\u001b[0;32m--> 459\u001b[0m \u001b[38;5;28;01mreturn\u001b[39;00m \u001b[43mF\u001b[49m\u001b[38;5;241;43m.\u001b[39;49m\u001b[43mconv2d\u001b[49m\u001b[43m(\u001b[49m\u001b[38;5;28;43minput\u001b[39;49m\u001b[43m,\u001b[49m\u001b[43m \u001b[49m\u001b[43mweight\u001b[49m\u001b[43m,\u001b[49m\u001b[43m \u001b[49m\u001b[43mbias\u001b[49m\u001b[43m,\u001b[49m\u001b[43m \u001b[49m\u001b[38;5;28;43mself\u001b[39;49m\u001b[38;5;241;43m.\u001b[39;49m\u001b[43mstride\u001b[49m\u001b[43m,\u001b[49m\n\u001b[1;32m    460\u001b[0m \u001b[43m                \u001b[49m\u001b[38;5;28;43mself\u001b[39;49m\u001b[38;5;241;43m.\u001b[39;49m\u001b[43mpadding\u001b[49m\u001b[43m,\u001b[49m\u001b[43m \u001b[49m\u001b[38;5;28;43mself\u001b[39;49m\u001b[38;5;241;43m.\u001b[39;49m\u001b[43mdilation\u001b[49m\u001b[43m,\u001b[49m\u001b[43m \u001b[49m\u001b[38;5;28;43mself\u001b[39;49m\u001b[38;5;241;43m.\u001b[39;49m\u001b[43mgroups\u001b[49m\u001b[43m)\u001b[49m\n",
      "\u001b[0;31mKeyboardInterrupt\u001b[0m: "
     ]
    }
   ],
   "source": [
    "#Create model for dataset\n",
    "inception_mnist, inception_mnist_dict = create_inception(numClassesMnist)\n",
    "\n",
    "#Load or train model\n",
    "modelpath = modelFolderPath + 'model_inception_mnist.pth'\n",
    "if(os.path.exists(modelpath)):\n",
    "    inception_mnist.load_state_dict(torch.load(modelpath))\n",
    "else:\n",
    "    inception_mnist, metrics_inception_mnist = train_model(inception_mnist, inception_mnist_dict, inception_dataloaders_mnist, EPOCHS)\n",
    "    sns.relplot(data=metrics_inception_mnist, kind=\"line\", x=\"epoch\", y=\"accuracy\", hue=\"phase\",)\n",
    "    torch.save(inception_mnist.state_dict(), modelpath)"
   ]
  },
  {
   "cell_type": "code",
   "execution_count": null,
   "metadata": {},
   "outputs": [],
   "source": [
    "#Create model for dataset\n",
    "inception_cifar, inception_cifar_dict = create_inception(numClassesCifar)\n",
    "\n",
    "#Load or train model\n",
    "modelpath = modelFolderPath + 'model_inception_cifar.pth'\n",
    "if(os.path.exists(modelpath)):\n",
    "    inception_cifar.load_state_dict(torch.load(modelpath))\n",
    "else:\n",
    "    inception_cifar, metrics_inception_cifar = train_model(inception_cifar, inception_cifar_dict, inception_dataloaders_cifar, EPOCHS)\n",
    "    sns.relplot(data=metrics_inception_cifar, kind=\"line\", x=\"epoch\", y=\"accuracy\", hue=\"phase\",)\n",
    "    torch.save(inception_cifar.state_dict(), modelpath)"
   ]
  },
  {
   "cell_type": "markdown",
   "metadata": {},
   "source": [
    "## Build and Train MobileNet V2"
   ]
  },
  {
   "cell_type": "code",
   "execution_count": null,
   "metadata": {},
   "outputs": [],
   "source": [
    "#Create model for dataset\n",
    "mobilenet_mnist, mobilenet_mnist_dict = create_mobilenet(numClassesMnist)\n",
    "\n",
    "#Load or train model\n",
    "modelpath = modelFolderPath + 'model_mobilenet_mnist.pth'\n",
    "if(os.path.exists(modelpath)):\n",
    "    mobilenet_mnist.load_state_dict(torch.load(modelpath))\n",
    "else:\n",
    "    mobilenet_mnist, metrics_mobilenet_mnist = train_model(mobilenet_mnist, mobilenet_mnist_dict, dataloaders_mnist, EPOCHS)\n",
    "    sns.relplot(data=metrics_mobilenet_mnist, kind=\"line\", x=\"epoch\", y=\"accuracy\", hue=\"phase\",)\n",
    "    torch.save(mobilenet_mnist.state_dict(), modelpath)"
   ]
  },
  {
   "cell_type": "code",
   "execution_count": null,
   "metadata": {},
   "outputs": [],
   "source": [
    "#Create model for dataset\n",
    "mobilenet_cifar, mobilenet_cifar_dict = create_mobilenet(numClassesCifar)\n",
    "\n",
    "#Load or train model\n",
    "modelpath = modelFolderPath + 'model_mobilenet_cifar.pth'\n",
    "if(os.path.exists(modelpath)):\n",
    "    mobilenet_cifar.load_state_dict(torch.load(modelpath))\n",
    "else:\n",
    "    mobilenet_cifar, metrics_mobilenet_cifar = train_model(mobilenet_cifar, mobilenet_cifar_dict, dataloaders_cifar, EPOCHS)\n",
    "    sns.relplot(data=metrics_mobilenet_cifar, kind=\"line\", x=\"epoch\", y=\"accuracy\", hue=\"phase\",)\n",
    "    torch.save(mobilenet_cifar.state_dict(), modelpath)"
   ]
  },
  {
   "cell_type": "markdown",
   "metadata": {},
   "source": [
    "## Build and Train ResNet-50"
   ]
  },
  {
   "cell_type": "code",
   "execution_count": null,
   "metadata": {},
   "outputs": [],
   "source": [
    "#Create model for dataset\n",
    "resNet_mnist, resNet_mnist_dict = create_resnet(numClassesMnist)\n",
    " \n",
    "#Load or train model\n",
    "if(loadModels):\n",
    "    resNet_mnist.load_state_dict(torch.load(modelFolderPath + 'model_resnet_mnist.pth'))\n",
    "else:\n",
    "    resNet_mnist, metrics_resNet_mnist = train_model(resNet_mnist, resNet_mnist_dict, dataloaders_mnist, EPOCHS)\n",
    "    sns.relplot(data=metrics_resNet_mnist, kind=\"line\", x=\"epoch\", y=\"accuracy\", hue=\"phase\",)\n",
    "\n",
    "#Save model if needed\n",
    "if(saveModels): \n",
    "    torch.save(resNet_mnist.state_dict(), modelFolderPath + 'model_resnet_mnist.pth')"
   ]
  },
  {
   "cell_type": "code",
   "execution_count": null,
   "metadata": {},
   "outputs": [],
   "source": [
    "resNet_cifar, resNet_cifar_dict = create_resnet(numClassesCifar)\n",
    " \n",
    "#Load or train model\n",
    "if(loadModels):\n",
    "    resNet_cifar.load_state_dict(torch.load(modelFolderPath + 'model_resnet_cifar.pth'))\n",
    "else:\n",
    "    resNet_cifar, metrics_resNet_cifar = train_model(resNet_cifar, resNet_cifar_dict, dataloaders_cifar, EPOCHS)\n",
    "    sns.relplot(data=metrics_resNet_cifar, kind=\"line\", x=\"epoch\", y=\"accuracy\", hue=\"phase\",)\n",
    "\n",
    "if(saveModels): \n",
    "    torch.save(resNet_cifar.state_dict(), modelFolderPath + 'model_resnet_cifar.pth')"
   ]
  },
  {
   "cell_type": "markdown",
   "metadata": {},
   "source": [
    "## 4.0 Test Base Models"
   ]
  },
  {
   "cell_type": "code",
   "execution_count": null,
   "metadata": {},
   "outputs": [],
   "source": [
    "def test_model(model, classes, test_loader):\n",
    "    torch.cuda.empty_cache()\n",
    "    #Prepare to count predictions for each class\n",
    "    correct_pred = {classname: 0 for classname in classes}\n",
    "    total_pred = {classname: 0 for classname in classes}\n",
    "    model = model.to(device)\n",
    "\n",
    "    #Store additional prediction info for CF and graphs\n",
    "    allLabels = []\n",
    "    allPrediction = []\n",
    "    testAccuracies = []\n",
    "    toc = time.time()\n",
    "    with torch.no_grad():\n",
    "        for images, labels in test_loader:\n",
    "            images = images.to(device)\n",
    "            labels = labels.to(device)\n",
    "            outputs = model(images)\n",
    "            _, predictions = torch.max(outputs, 1)\n",
    "    tic = time.time()\n",
    "    print(f'Inference Time: {(tic-toc):.4f} s Throughput: {(len(test_loader.dataset)/(tic-toc)):.4f} fps')\n",
    "            #Collect the correct predictions for each class\n",
    "            for label, prediction in zip(labels, predictions):\n",
    "                if label == prediction:\n",
    "                    correct_pred[label.item()] += 1\n",
    "                total_pred[label.item()] += 1\n",
    "                allLabels.append(label.item())\n",
    "                allPrediction.append(prediction.item())\n",
    "\n",
    "    #Get each class accuracy manually\n",
    "    for classname, correct_count in correct_pred.items():\n",
    "        accuracy = 100 * float(correct_count) / (total_pred[classname] or 1)\n",
    "        testAccuracies.append(accuracy)\n",
    "\n",
    "    #Show overall acurracy\n",
    "    print(f'Testing Overall Accuracy: {100.0*sum(correct_pred.values())/sum(total_pred.values()):4f} ')\n",
    "    \n",
    "    return  allLabels, allPrediction, testAccuracies"
   ]
  },
  {
   "cell_type": "code",
   "execution_count": null,
   "metadata": {},
   "outputs": [],
   "source": [
    "#Pass in the 3 metrics from test function, and options to create other graphs\n",
    "def show_test_results(allLabels, allPrediction, testAccuracies, labelNames, cf=True, bar=True):\n",
    "    if cf:\n",
    "        #Show confusion matrix\n",
    "        cf_matrix = confusion_matrix(allLabels, allPrediction)\n",
    "        #Divide predicted columns by number predicted for each class\n",
    "        ax = sns.heatmap((cf_matrix / np.sum(cf_matrix, axis=1)), fmt='.1%', xticklabels=labelNames, yticklabels=labelNames)\n",
    "        ax.set_xlabel(\"Predicted Class\", fontsize=14, labelpad=20)\n",
    "        ax.set_ylabel(\"Labeled Class\", fontsize=14, labelpad=20)\n",
    "        plt.show()\n",
    "    \n",
    "    if bar:\n",
    "        #Format the label data for plotting class accuracies\n",
    "        uniqueTest, countsTest = np.unique(allLabels, return_counts=True)\n",
    "        labelDictTest = dict(zip(uniqueTest, countsTest))\n",
    "        keysTest = list(labelDictTest.keys())\n",
    "        labelsCountTest = [int(labelDictTest[k]) for k in keysTest]\n",
    "\n",
    "        #Show class accuracies on barchart\n",
    "        plot = sns.barplot(x=keysTest, y=testAccuracies)\n",
    "        plot.set_xticklabels(labels=labelNames, rotation=-45)\n",
    "        plt.show()"
   ]
  },
  {
   "cell_type": "markdown",
   "metadata": {},
   "source": [
    "### Example Test Model"
   ]
  },
  {
   "cell_type": "code",
   "execution_count": null,
   "metadata": {},
   "outputs": [],
   "source": [
    "allLabels, allPrediction, testAccuracies = test_model(resNet_mnist, classesNumericMnist, mnist_test_loader)"
   ]
  },
  {
   "cell_type": "code",
   "execution_count": null,
   "metadata": {},
   "outputs": [],
   "source": [
    "show_test_results(allLabels, allPrediction, testAccuracies, classesMnist, True, False)"
   ]
  },
  {
   "cell_type": "code",
   "execution_count": null,
   "metadata": {},
   "outputs": [],
   "source": [
    "allLabels, allPrediction, testAccuracies = test_model(resNet_cifar, classesNumericCifar, cifar_test_loader)"
   ]
  },
  {
   "cell_type": "code",
   "execution_count": null,
   "metadata": {},
   "outputs": [],
   "source": [
    "show_test_results(allLabels, allPrediction, testAccuracies, classesCifar, True, True)"
   ]
  },
  {
   "cell_type": "markdown",
   "metadata": {},
   "source": [
    "### Philip Todo in this section: \n",
    "test remaining 4 base models <br>"
   ]
  },
  {
   "cell_type": "markdown",
   "metadata": {},
   "source": [
    "## 5. Post Training Quantize Models - Philip Todo"
   ]
  },
  {
   "cell_type": "markdown",
   "metadata": {},
   "source": [
    "## 6. Test Post Training Quantized Models - Philip Todo"
   ]
  },
  {
   "cell_type": "markdown",
   "metadata": {},
   "source": [
    "# 7. Test Post Quantization Improvement - Paul Todo"
   ]
  },
  {
   "cell_type": "markdown",
   "metadata": {},
   "source": [
    "We see that mobilenetV2 suffers from accuracy loss after quantization. How can we improve accuracy after quantization? One strategy we can use is analyzing the SQNR of each layer in the network, to understand where the most quantization loss occurs. With this knowledge, we can modify the qconfig_dict settings to skip the problem layers during quantization. "
   ]
  },
  {
   "cell_type": "code",
   "execution_count": null,
   "metadata": {},
   "outputs": [],
   "source": [
    "# Compare weights of float_model and qmodel.\n",
    "# Note: when comparing weights in models with Conv-BN for PTQ, we need to compare\n",
    "# weights after Conv-BN fusion for a proper comparison.  Because of this, we use\n",
    "# `prepared_model` instead of `float_model` when comparing weights.\n",
    "# Extract conv and linear weights from corresponding parts of two models, and save\n",
    "# them in `wt_compare_dict`.\n",
    "mobilenet_wt_compare_dict = ns.extract_weights(\n",
    "   'fp32',  # string name for model A\n",
    "   mobilenet_mnist,  # model A\n",
    "   'int8',  # string name for model B\n",
    "   mobilenet_mnist_quantized,  # model B\n",
    ")\n",
    "# calculate SQNR between each pair of weights\n",
    "# SQNR is a measure of quantization loss, large SQNR value means the quantization loss is small\n",
    "ns.extend_logger_results_with_comparison(\n",
    "   mobilenet_wt_compare_dict,  # results object to modify inplace\n",
    "   'fp32',  # string name of model A (from previous step)\n",
    "   'int8',  # string name of model B (from previous step)\n",
    "   torch.ao.ns.fx.utils.compute_sqnr,  # the function to use to compare two tensors\n",
    "   'sqnr',  # the name to use to store the results under\n",
    ")\n",
    "# massage the data into a format easy to graph and print\n",
    "# Note: no util function for this since use cases may be different per user\n",
    "# Note: there is a lot of debugging data, and it will be challenging to print all of it\n",
    "# and fit on a laptop screen.  It is up to the user to decide which data is useful for them.\n",
    "mobilenet_wt_to_print = []\n",
    "for idx, (layer_name, v) in enumerate(mobilenet_wt_compare_dict.items()):\n",
    "    mobilenet_wt_to_print.append([\n",
    "        idx,\n",
    "        layer_name,                                                   \n",
    "        v['weight']['int8'][0]['prev_node_target_type'],                      \n",
    "        v['weight']['int8'][0]['values'][0].shape,\n",
    "        v['weight']['int8'][0]['sqnr'][0],\n",
    "    ])\n",
    "    \n",
    "plt.style.use('seaborn-whitegrid')\n",
    "# a simple line graph\n",
    "def plot(xdata, ydata, xlabel, ylabel, title):\n",
    "    fig = plt.figure(figsize=(10, 5), dpi=100)\n",
    "    plt.xlabel(xlabel)\n",
    "    plt.ylabel(ylabel)\n",
    "    plt.title(title)\n",
    "    ax = plt.axes()\n",
    "    ax.plot(xdata, ydata)     \n",
    "# plot the SQNR between fp32 and int8 weights for each layer\n",
    "# Note: we may explore easier to read charts (bar chart, etc) at a later time, for now\n",
    "# line chart + table is good enough.\n",
    "plot([x[0] for x in mobilenet_wt_to_print], [x[4] for x in mobilenet_wt_to_print], 'idx', 'sqnr', 'weights, idx to sqnr')"
   ]
  }
 ],
 "metadata": {
  "kernelspec": {
   "display_name": "pytorch",
   "language": "python",
   "name": "pytorch"
  },
  "language_info": {
   "codemirror_mode": {
    "name": "ipython",
    "version": 3
   },
   "file_extension": ".py",
   "mimetype": "text/x-python",
   "name": "python",
   "nbconvert_exporter": "python",
   "pygments_lexer": "ipython3",
   "version": "3.10.10"
  }
 },
 "nbformat": 4,
 "nbformat_minor": 4
}
