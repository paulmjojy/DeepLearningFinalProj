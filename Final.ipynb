{
 "cells": [
  {
   "cell_type": "markdown",
   "metadata": {},
   "source": [
    "# Final Project\n",
    "\n",
    "# Exploring the effects of Quantization on Deep Learning\n",
    "### Authors: Philip Spencer and Paul Jojy\n",
    "In this project, we will be exploring the effects of quantization on deep learning. This is an important topic in this field, as deep learning models are very large and can be inefficient to run on edge devices such as smart phones. \n",
    "    \n",
    "# 0. Initialization and Configuration"
   ]
  },
  {
   "cell_type": "code",
   "execution_count": 1,
   "metadata": {},
   "outputs": [],
   "source": [
    "#CV packages\n",
    "import torch\n",
    "from torchvision import models, datasets, transforms, utils\n",
    "from torchvision.datasets import CIFAR10\n",
    "#from torch import _six\n",
    "#Data presentation\n",
    "import matplotlib.pyplot as plt\n",
    "import seaborn as sns\n",
    "from sklearn.metrics import confusion_matrix\n",
    "import torch.ao.ns._numeric_suite_fx as ns\n",
    "\n",
    "#Data handling\n",
    "import numpy as np\n",
    "import pandas as pd\n",
    "import copy\n",
    "\n",
    "#Utilities\n",
    "import time\n",
    "import os\n",
    "\n",
    "#Quant libraries\n",
    "import torch.ao.quantization as quant"
   ]
  },
  {
   "cell_type": "code",
   "execution_count": 2,
   "metadata": {},
   "outputs": [
    {
     "data": {
      "text/plain": [
       "'2.0.0'"
      ]
     },
     "execution_count": 2,
     "metadata": {},
     "output_type": "execute_result"
    }
   ],
   "source": [
    "torch.__version__"
   ]
  },
  {
   "cell_type": "markdown",
   "metadata": {},
   "source": [
    "###  0.1 Configuration"
   ]
  },
  {
   "cell_type": "code",
   "execution_count": 3,
   "metadata": {},
   "outputs": [],
   "source": [
    "#Any Folder/Preface for models here, you may need to change this or create the folder\n",
    "modelFolderPath = \"./Saved_Models/\"\n",
    "if not os.path.exists(modelFolderPath):\n",
    "    os.mkdir(modelFolderPath)"
   ]
  },
  {
   "cell_type": "code",
   "execution_count": 4,
   "metadata": {},
   "outputs": [],
   "source": [
    "def check_memory():\n",
    "    t = torch.cuda.get_device_properties(0).total_memory\n",
    "    r = torch.cuda.memory_reserved(0)\n",
    "    a = torch.cuda.memory_allocated(0)\n",
    "    f = r-a  # free inside reserved\n",
    "    print(t,r,a,f)"
   ]
  },
  {
   "cell_type": "code",
   "execution_count": 5,
   "metadata": {},
   "outputs": [
    {
     "name": "stdout",
     "output_type": "stream",
     "text": [
      "<function is_available at 0x7ff5f01c3430>\n",
      "[<torch.cuda.device object at 0x7ff5df1d66a0>]\n",
      "Device: cuda:0\n"
     ]
    },
    {
     "data": {
      "text/plain": [
       "<torch._C.Generator at 0x7ff6b4875570>"
      ]
     },
     "execution_count": 5,
     "metadata": {},
     "output_type": "execute_result"
    }
   ],
   "source": [
    "#Configure notebook for the run\n",
    "sns.set(rc={'figure.figsize':(5,4)})\n",
    "plt.ion()\n",
    "\n",
    "#Set cuda device\n",
    "print(torch.cuda.is_available)\n",
    "available_gpus = [torch.cuda.device(i) for i in range(torch.cuda.device_count())]\n",
    "print(available_gpus)\n",
    "DEVICE = torch.device('cuda:0' if torch.cuda.is_available() else 'cpu')\n",
    "#device = 'cpu' #Uncomment this line if you prefer cpu\n",
    "print(\"Device:\", DEVICE)\n",
    "\n",
    "#This may help clear issues, uncomment as needed\n",
    "torch.cuda.empty_cache()\n",
    "\n",
    "#setup torch for training\n",
    "torch.backends.cudnn.benchmark= True\n",
    "\n",
    "#Set seed for reproducable results\n",
    "torch.manual_seed(0)"
   ]
  },
  {
   "cell_type": "code",
   "execution_count": 6,
   "metadata": {},
   "outputs": [],
   "source": [
    "#Define hyperparameters, and more\n",
    "BATCH_SIZE = 200#300?\n",
    "EPOCHS = 6\n",
    "LEARNING_RATE = 0.001\n",
    "VALIDATION_RATIO = 0.85\n",
    "LR_GAMMA = 0.1 #lr decay rate\n",
    "LR_STEP_SIZE_DECAY = int(EPOCHS/3.0) #base this off total epochs to allow for fine tuning"
   ]
  },
  {
   "cell_type": "markdown",
   "metadata": {},
   "source": [
    "# 1. Download and Preprocess Data\n",
    "We will be analyzing CIFAR-10 and MNIST for this experiment. The data must be downloaded, normalized, and augmented to maximize performance."
   ]
  },
  {
   "cell_type": "code",
   "execution_count": 7,
   "metadata": {},
   "outputs": [
    {
     "name": "stdout",
     "output_type": "stream",
     "text": [
      "Files already downloaded and verified\n",
      "Files already downloaded and verified\n"
     ]
    }
   ],
   "source": [
    "def datadownload(is_inception=False):\n",
    "    if is_inception:\n",
    "        input_size = (299,299)\n",
    "    else:\n",
    "        input_size = (224,224)\n",
    "    \n",
    "    cifar_augmenter = transforms.Compose([\n",
    "        transforms.Resize(input_size),\n",
    "        transforms.ToTensor(),\n",
    "        transforms.Normalize([0.485, 0.456, 0.406], [0.229, 0.224, 0.225])\n",
    "    ])\n",
    "    \n",
    "    cifar_train = CIFAR10('.',download=True, transform=cifar_augmenter)\n",
    "    cifar_test = datasets.CIFAR10('.',train=False, transform=cifar_augmenter)\n",
    "    \n",
    "    mnist_augmenter = transforms.Compose([\n",
    "        transforms.Resize(input_size),\n",
    "        transforms.Grayscale(num_output_channels=3), #Convert grayscale to RGB where R=G=B. This is because the model is pretrained on an RGB dataset (Imagenet)\n",
    "        transforms.ToTensor(),\n",
    "        transforms.Normalize([0.485, 0.456, 0.406], [0.229, 0.224, 0.225])\n",
    "    ])\n",
    "    \n",
    "    mnist_train = datasets.MNIST('.',download=True, transform=mnist_augmenter)\n",
    "    mnist_test = datasets.MNIST('.',train=False, transform=mnist_augmenter)\n",
    "    \n",
    "    return (cifar_train,cifar_test),(mnist_train,mnist_test)\n",
    "cifar,mnist = datadownload()\n",
    "inception_cifar, inception_mnist = datadownload(is_inception=True)"
   ]
  },
  {
   "cell_type": "code",
   "execution_count": 8,
   "metadata": {},
   "outputs": [
    {
     "data": {
      "text/plain": [
       "(Dataset MNIST\n",
       "     Number of datapoints: 60000\n",
       "     Root location: .\n",
       "     Split: Train\n",
       "     StandardTransform\n",
       " Transform: Compose(\n",
       "                Resize(size=(224, 224), interpolation=bilinear, max_size=None, antialias=warn)\n",
       "                Grayscale(num_output_channels=3)\n",
       "                ToTensor()\n",
       "                Normalize(mean=[0.485, 0.456, 0.406], std=[0.229, 0.224, 0.225])\n",
       "            ),\n",
       " Dataset MNIST\n",
       "     Number of datapoints: 10000\n",
       "     Root location: .\n",
       "     Split: Test\n",
       "     StandardTransform\n",
       " Transform: Compose(\n",
       "                Resize(size=(224, 224), interpolation=bilinear, max_size=None, antialias=warn)\n",
       "                Grayscale(num_output_channels=3)\n",
       "                ToTensor()\n",
       "                Normalize(mean=[0.485, 0.456, 0.406], std=[0.229, 0.224, 0.225])\n",
       "            ))"
      ]
     },
     "execution_count": 8,
     "metadata": {},
     "output_type": "execute_result"
    }
   ],
   "source": [
    "mnist"
   ]
  },
  {
   "cell_type": "code",
   "execution_count": 9,
   "metadata": {},
   "outputs": [
    {
     "data": {
      "text/plain": [
       "(Dataset CIFAR10\n",
       "     Number of datapoints: 50000\n",
       "     Root location: .\n",
       "     Split: Train\n",
       "     StandardTransform\n",
       " Transform: Compose(\n",
       "                Resize(size=(224, 224), interpolation=bilinear, max_size=None, antialias=warn)\n",
       "                ToTensor()\n",
       "                Normalize(mean=[0.485, 0.456, 0.406], std=[0.229, 0.224, 0.225])\n",
       "            ),\n",
       " Dataset CIFAR10\n",
       "     Number of datapoints: 10000\n",
       "     Root location: .\n",
       "     Split: Test\n",
       "     StandardTransform\n",
       " Transform: Compose(\n",
       "                Resize(size=(224, 224), interpolation=bilinear, max_size=None, antialias=warn)\n",
       "                ToTensor()\n",
       "                Normalize(mean=[0.485, 0.456, 0.406], std=[0.229, 0.224, 0.225])\n",
       "            ))"
      ]
     },
     "execution_count": 9,
     "metadata": {},
     "output_type": "execute_result"
    }
   ],
   "source": [
    "cifar"
   ]
  },
  {
   "cell_type": "markdown",
   "metadata": {},
   "source": [
    "### 1.1 Prepare Dataloaders"
   ]
  },
  {
   "cell_type": "code",
   "execution_count": 10,
   "metadata": {},
   "outputs": [],
   "source": [
    "numClassesMnist = len(mnist[0].classes)\n",
    "classesMnist = mnist[0].classes\n",
    "classesNumericMnist = [numericClass for numericClass in range(len(classesMnist))]\n",
    "numClassesCifar = len(cifar[0].classes)\n",
    "classesCifar = cifar[0].classes\n",
    "classesNumericCifar = [numericClass for numericClass in range(len(classesCifar))]"
   ]
  },
  {
   "cell_type": "code",
   "execution_count": 11,
   "metadata": {},
   "outputs": [
    {
     "name": "stdout",
     "output_type": "stream",
     "text": [
      "['airplane', 'automobile', 'bird', 'cat', 'deer', 'dog', 'frog', 'horse', 'ship', 'truck'] [0, 1, 2, 3, 4, 5, 6, 7, 8, 9]\n"
     ]
    }
   ],
   "source": [
    "print(classesCifar,classesNumericCifar)"
   ]
  },
  {
   "cell_type": "code",
   "execution_count": 12,
   "metadata": {},
   "outputs": [],
   "source": [
    "def prepare_mnist(mnist):\n",
    "    #Prepare MNIST training data \n",
    "    mnistTrainSplit, mnistValSplit = torch.utils.data.random_split(mnist[0], [VALIDATION_RATIO, 1-VALIDATION_RATIO])\n",
    "    mnist_train_loader = torch.utils.data.DataLoader(mnistTrainSplit, shuffle=True, batch_size=BATCH_SIZE)\n",
    "    mnist_val_loader = torch.utils.data.DataLoader(mnistValSplit, shuffle=True, batch_size=BATCH_SIZE)\n",
    "\n",
    "    #Prepare MNIST testing data\n",
    "    mnist_test_loader = torch.utils.data.DataLoader(mnist[1], shuffle=True, batch_size=BATCH_SIZE)\n",
    "    dataloaders_mnist = {'train': mnist_train_loader,\n",
    "                         'val': mnist_val_loader,\n",
    "                         'test': mnist_test_loader}\n",
    "\n",
    "    return dataloaders_mnist\n",
    "\n",
    "dataloaders_mnist = prepare_mnist(mnist)\n",
    "inception_dataloaders_mnist = prepare_mnist(inception_mnist)"
   ]
  },
  {
   "cell_type": "code",
   "execution_count": 13,
   "metadata": {},
   "outputs": [],
   "source": [
    "def prepare_cifar(cifar):\n",
    "    #Split CIFAR training data \n",
    "    cifarTrainSplit, cifarValSplit = torch.utils.data.random_split(cifar[0], [VALIDATION_RATIO, 1-VALIDATION_RATIO])\n",
    "    cifar_train_loader = torch.utils.data.DataLoader(cifarTrainSplit, shuffle=True, batch_size=BATCH_SIZE)\n",
    "    cifar_val_loader = torch.utils.data.DataLoader(cifarValSplit, shuffle=True, batch_size=BATCH_SIZE)\n",
    "    #Prepare MNIST testing data\n",
    "    cifar_test_loader = torch.utils.data.DataLoader(cifar[1], shuffle=True, batch_size=BATCH_SIZE)\n",
    "    \n",
    "    dataloaders_cifar = {'train': cifar_train_loader,\n",
    "                          'val': cifar_val_loader,\n",
    "                          'test':cifar_test_loader}\n",
    "    \n",
    "    return dataloaders_cifar\n",
    "dataloaders_cifar = prepare_cifar(cifar)\n",
    "inception_dataloaders_cifar = prepare_cifar(inception_cifar)"
   ]
  },
  {
   "cell_type": "code",
   "execution_count": 14,
   "metadata": {},
   "outputs": [],
   "source": [
    "#Display images modified from pytorch tutorial: https://pytorch.org/tutorials/beginner/transfer_learning_tutorial.html\n",
    "def imshow(inp1, inp2, title=None):\n",
    "    fig, (axM, axC) = plt.subplots(1, 2, sharey=True)\n",
    "    fig.suptitle(title)\n",
    "    \n",
    "    inp1 = inp1.numpy().transpose((1, 2, 0))\n",
    "    inp1 = np.clip(inp1, 0, 1)\n",
    "    inp2 = inp2.numpy().transpose((1, 2, 0))\n",
    "    inp2 = np.clip(inp2, 0, 1)\n",
    "    \n",
    "    axM.imshow(inp1)\n",
    "    axC.imshow(inp2)\n",
    "    plt.pause(0.001)  # pause a bit so that plots are updated"
   ]
  },
  {
   "cell_type": "code",
   "execution_count": 15,
   "metadata": {},
   "outputs": [
    {
     "data": {
      "image/png": "[encoded data removed]",
      "text/plain": [
       "<Figure size 500x400 with 2 Axes>"
      ]
     },
     "metadata": {},
     "output_type": "display_data"
    }
   ],
   "source": [
    "#Get a batch of training data from mnist and cifar\n",
    "inputsM, classesM = next(iter(dataloaders_mnist['train']))\n",
    "inputsC, classesC = next(iter(dataloaders_cifar['train']))\n",
    "imageMax = min(64, BATCH_SIZE)\n",
    "\n",
    "#Display sample images\n",
    "imshow(utils.make_grid(inputsM[0:imageMax]), utils.make_grid(inputsC[0:imageMax]))"
   ]
  },
  {
   "cell_type": "markdown",
   "metadata": {},
   "source": [
    "# 2. Create Model Architectures and Freeze layers"
   ]
  },
  {
   "cell_type": "code",
   "execution_count": 16,
   "metadata": {},
   "outputs": [],
   "source": [
    "def create_mobilenet(numClasses):\n",
    "    #Create base Mobilenet model\n",
    "    model_temp = models.mobilenet.mobilenet_v2(pretrained=True)\n",
    "    model_temp.classifier[1] = torch.nn.Linear(in_features=model_temp.classifier[1].in_features,out_features=numClasses)\n",
    "    \n",
    "    #Define loss functions, optimizer and scheduler\n",
    "    criterion_temp = torch.nn.CrossEntropyLoss()\n",
    "    optimizer_temp = torch.optim.Adam(model_temp.parameters(), lr=LEARNING_RATE)\n",
    "    exp_lr_scheduler = torch.optim.lr_scheduler.StepLR(optimizer_temp, step_size=LR_STEP_SIZE_DECAY, gamma=LR_GAMMA)\n",
    "    \n",
    "    return model_temp, {'criterion':criterion_temp, 'optimizer':optimizer_temp, 'scheduler':exp_lr_scheduler}"
   ]
  },
  {
   "cell_type": "code",
   "execution_count": 17,
   "metadata": {},
   "outputs": [],
   "source": [
    "def create_resnet(numClasses):\n",
    "    #Create base ResNet model\n",
    "    model_temp = models.resnet50(weights=models.ResNet50_Weights.DEFAULT)\n",
    "    num_fts_temp = model_temp.fc.in_features\n",
    "    model_temp.fc = torch.nn.Linear(num_fts_temp, numClasses)\n",
    "    \n",
    "    #Define loss functions, optimizer and scheduler\n",
    "    criterion_temp = torch.nn.CrossEntropyLoss()\n",
    "    optimizer_temp = torch.optim.Adam(model_temp.parameters(), lr=LEARNING_RATE)\n",
    "    exp_lr_scheduler = torch.optim.lr_scheduler.StepLR(optimizer_temp, step_size=LR_STEP_SIZE_DECAY, gamma=LR_GAMMA)\n",
    "    \n",
    "    return model_temp, {'criterion':criterion_temp, 'optimizer':optimizer_temp, 'scheduler':exp_lr_scheduler}"
   ]
  },
  {
   "cell_type": "code",
   "execution_count": 18,
   "metadata": {},
   "outputs": [],
   "source": [
    "def create_inception(numClasses):\n",
    "    model_temp = models.inception_v3(pretrained=True)\n",
    "    # Handle the auxilary net\n",
    "    num_ftrs = model_temp.AuxLogits.fc.in_features\n",
    "    model_temp.AuxLogits.fc = torch.nn.Linear(num_ftrs, numClasses)\n",
    "    # Handle the primary net\n",
    "    num_ftrs = model_temp.fc.in_features\n",
    "    model_temp.fc = torch.nn.Linear(num_ftrs,numClasses)\n",
    "    input_size = 299\n",
    "    \n",
    "    #Define loss functions, optimizer and scheduler\n",
    "    criterion_temp = torch.nn.CrossEntropyLoss()\n",
    "    optimizer_temp = torch.optim.Adam(model_temp.parameters(), lr=LEARNING_RATE)\n",
    "    exp_lr_scheduler = torch.optim.lr_scheduler.StepLR(optimizer_temp, step_size=LR_STEP_SIZE_DECAY, gamma=LR_GAMMA)\n",
    "    \n",
    "    return model_temp, {'criterion':criterion_temp, 'optimizer':optimizer_temp, 'scheduler':exp_lr_scheduler}"
   ]
  },
  {
   "cell_type": "markdown",
   "metadata": {},
   "source": [
    "# 3. Prepare Models for Training"
   ]
  },
  {
   "cell_type": "code",
   "execution_count": 19,
   "metadata": {},
   "outputs": [],
   "source": [
    "#Add early stop class, inspired by https://stackoverflow.com/questions/71998978/early-stopping-in-pytorch\n",
    "class EarlyStopper:\n",
    "    def __init__(self, patience=1, min_delta=0):\n",
    "        self.patience = patience\n",
    "        self.min_delta = min_delta\n",
    "        self.counter = 0\n",
    "        self.min_validation_loss = np.inf\n",
    "\n",
    "    def early_stop(self, validation_loss):\n",
    "        if validation_loss < self.min_validation_loss:\n",
    "            self.min_validation_loss = validation_loss\n",
    "            self.counter = 0\n",
    "        elif validation_loss > (self.min_validation_loss + self.min_delta):\n",
    "            self.counter += 1\n",
    "            if self.counter >= self.patience:\n",
    "                return True\n",
    "        return False"
   ]
  },
  {
   "cell_type": "code",
   "execution_count": 20,
   "metadata": {},
   "outputs": [],
   "source": [
    "#Traing method inspired by https://pytorch.org/tutorials/beginner/transfer_learning_tutorial.html\n",
    "#modified to fit data structure, multiple models, and keep trach of metrics accross epochs\n",
    "def train_model(model, modelDict, dataloaders, num_epochs, noisy=True, epochPatience=2, minDelta=-.001, is_inception=False):\n",
    "    #get model, criterion, optimizer, scheduler from dictionary \n",
    "    since = time.time()\n",
    "    model = model.to(DEVICE) \n",
    "    criterion = modelDict['criterion']\n",
    "    optimizer = modelDict['optimizer']\n",
    "    scheduler = modelDict['scheduler']\n",
    "\n",
    "    #Set early stopper parameters\n",
    "    early_stopper = EarlyStopper(patience=epochPatience, min_delta=minDelta)\n",
    "\n",
    "    best_model_wts = copy.deepcopy(model.state_dict())\n",
    "    best_acc = 0.0\n",
    "    best_train_acc = 0.0\n",
    "    \n",
    "    #Keep track of metrics from training\n",
    "    metrics = pd.DataFrame(data=[],columns=['epoch','accuracy','loss','phase'])\n",
    "    \n",
    "    for epoch in range(num_epochs):\n",
    "        if noisy:\n",
    "            print(f'Epoch {epoch}/{num_epochs-1}')\n",
    "            print('-' * 10)\n",
    "\n",
    "        #Each epoch has a training and validation phase\n",
    "        for phase in ['train', 'val']:\n",
    "            if phase == 'train':\n",
    "                model.train()  #Set model to training mode\n",
    "            else:\n",
    "                model.eval()   #Set model to evaluate mode\n",
    "\n",
    "            running_loss = 0.0\n",
    "            running_corrects = 0\n",
    "\n",
    "            # Iterate over data.\n",
    "            for inputs, labels in dataloaders[phase]:\n",
    "                inputs = inputs.to(DEVICE)\n",
    "                labels = labels.to(DEVICE)\n",
    "\n",
    "                #Zero the parameter gradients\n",
    "                optimizer.zero_grad()\n",
    "\n",
    "                #Forward\n",
    "                # track history if only in train\n",
    "                with torch.set_grad_enabled(phase == 'train'):\n",
    "                    # backward + optimize for training phase\n",
    "                    if is_inception and phase=='train':\n",
    "                        outputs, aux_outputs = model(inputs)\n",
    "                        loss1 = criterion(outputs, labels)\n",
    "                        loss2 = criterion(aux_outputs, labels)\n",
    "                        loss = loss1 + 0.4*loss2\n",
    "                    else:\n",
    "                        outputs = model(inputs)\n",
    "                        loss = criterion(outputs, labels)\n",
    "\n",
    "                    _, preds = torch.max(outputs, 1)\n",
    "\n",
    "                    if phase == 'train':\n",
    "                        loss.backward()\n",
    "                        optimizer.step()\n",
    "\n",
    "                # statistics\n",
    "                running_loss += loss.item() * inputs.size(0)\n",
    "                running_corrects += torch.sum(preds == labels.data)\n",
    "                \n",
    "            if phase == 'train':\n",
    "                scheduler.step()\n",
    "            \n",
    "            #Show statistics for each epoch\n",
    "            epoch_loss = running_loss / len(dataloaders[phase].dataset) #dataset_sizes[phase]\n",
    "            epoch_acc = (running_corrects.double()) / len(dataloaders[phase].dataset) #dataset_sizes[phase]\n",
    "            \n",
    "            if noisy:\n",
    "                print(f'{phase} Loss: {epoch_loss:.4f} Acc: {min(epoch_acc,1.0):.4f}')\n",
    "            \n",
    "            #Track metrics for graphing\n",
    "            metrics = pd.concat([metrics,pd.DataFrame(data=[[epoch,epoch_acc.item(),epoch_loss,phase]],columns=['epoch','accuracy','loss','phase'])], ignore_index=True)\n",
    "\n",
    "            #Deep copy the model to keep track of the best one\n",
    "            if phase == 'val' and epoch_acc > best_acc:\n",
    "                best_acc = epoch_acc\n",
    "                best_model_wts = copy.deepcopy(model.state_dict())\n",
    "            if phase == 'train' and epoch_acc > best_train_acc:\n",
    "                best_train_acc = epoch_acc\n",
    "\n",
    "        if noisy:\n",
    "            print(\"\")\n",
    "            \n",
    "        if early_stopper.early_stop(epoch_loss):\n",
    "            print(\"Training stopped on epoch\",epoch,\"because the loss has not decreased by more than\",minDelta,\"in\",epochPatience,\"epochs\")\n",
    "            break\n",
    "\n",
    "    time_elapsed = time.time() - since\n",
    "    print(f'Training complete in {time_elapsed // 60:.0f}m {time_elapsed % 60:.0f}s')\n",
    "    print(f'Best Val Acc: {best_acc:4f}')\n",
    "    print(f'Best Train Acc: {min(best_train_acc,1.0):4f}')\n",
    "\n",
    "    # load best model weights\n",
    "    model.load_state_dict(best_model_wts)\n",
    "    return model, metrics"
   ]
  },
  {
   "cell_type": "markdown",
   "metadata": {},
   "source": [
    "### 3.1 Build and Train MobileNet V2"
   ]
  },
  {
   "cell_type": "code",
   "execution_count": 21,
   "metadata": {},
   "outputs": [
    {
     "name": "stderr",
     "output_type": "stream",
     "text": [
      "/home/paul/anaconda3/envs/my-torch/lib/python3.8/site-packages/torchvision/models/_utils.py:208: UserWarning: The parameter 'pretrained' is deprecated since 0.13 and may be removed in the future, please use 'weights' instead.\n",
      "  warnings.warn(\n",
      "/home/paul/anaconda3/envs/my-torch/lib/python3.8/site-packages/torchvision/models/_utils.py:223: UserWarning: Arguments other than a weight enum or `None` for 'weights' are deprecated since 0.13 and may be removed in the future. The current behavior is equivalent to passing `weights=MobileNet_V2_Weights.IMAGENET1K_V1`. You can also use `weights=MobileNet_V2_Weights.DEFAULT` to get the most up-to-date weights.\n",
      "  warnings.warn(msg)\n"
     ]
    }
   ],
   "source": [
    "#Create model for mnist dataset\n",
    "mobilenet_mnist, mobilenet_mnist_dict = create_mobilenet(numClassesMnist)\n",
    "\n",
    "#Load or train model\n",
    "modelpath = modelFolderPath + 'model_mobilenet_mnist.pth'\n",
    "if(os.path.exists(modelpath)):\n",
    "    if DEVICE == torch.device(\"cpu\"):\n",
    "        mobilenet_mnist.load_state_dict(torch.load(modelpath, map_location=torch.device('cpu')))\n",
    "    else:\n",
    "        mobilenet_mnist.load_state_dict(torch.load(modelpath))\n",
    "else:\n",
    "    mobilenet_mnist, metrics_mobilenet_mnist = train_model(mobilenet_mnist, mobilenet_mnist_dict, dataloaders_mnist, EPOCHS)\n",
    "    sns.relplot(data=metrics_mobilenet_mnist, kind=\"line\", x=\"epoch\", y=\"accuracy\", hue=\"phase\",)\n",
    "    torch.save(mobilenet_mnist.state_dict(), modelpath)"
   ]
  },
  {
   "cell_type": "code",
   "execution_count": 22,
   "metadata": {},
   "outputs": [],
   "source": [
    "#Create model for cifar dataset\n",
    "mobilenet_cifar, mobilenet_cifar_dict = create_mobilenet(numClassesCifar)\n",
    "\n",
    "#Load or train model\n",
    "modelpath = modelFolderPath + 'model_mobilenet_cifar.pth'\n",
    "if(os.path.exists(modelpath)):\n",
    "    if DEVICE == torch.device(\"cpu\"):\n",
    "        mobilenet_cifar.load_state_dict(torch.load(modelpath, map_location=torch.device('cpu'))) \n",
    "    else:\n",
    "        mobilenet_cifar.load_state_dict(torch.load(modelpath)) \n",
    "else:\n",
    "    mobilenet_cifar, metrics_mobilenet_cifar = train_model(mobilenet_cifar, mobilenet_cifar_dict, dataloaders_cifar, EPOCHS)\n",
    "    sns.relplot(data=metrics_mobilenet_cifar, kind=\"line\", x=\"epoch\", y=\"accuracy\", hue=\"phase\",)\n",
    "    torch.save(mobilenet_cifar.state_dict(), modelpath)"
   ]
  },
  {
   "cell_type": "markdown",
   "metadata": {},
   "source": [
    "### 3.2 Build and Train ResNet-50"
   ]
  },
  {
   "cell_type": "code",
   "execution_count": 23,
   "metadata": {},
   "outputs": [],
   "source": [
    "#Create model for mnist dataset\n",
    "resNet_mnist, resNet_mnist_dict = create_resnet(numClassesMnist)\n",
    " \n",
    "#Load or train model\n",
    "modelpath = modelFolderPath + 'model_resnet_mnist.pth'\n",
    "if(os.path.exists(modelpath)):\n",
    "    if DEVICE == torch.device(\"cpu\"):\n",
    "        resNet_mnist.load_state_dict(torch.load(modelpath,map_location=torch.device('cpu')))\n",
    "    else:\n",
    "        resNet_mnist.load_state_dict(torch.load(modelpath))\n",
    "else:\n",
    "    resNet_mnist, metrics_resNet_mnist = train_model(resNet_mnist, resNet_mnist_dict, dataloaders_mnist, EPOCHS)\n",
    "    sns.relplot(data=metrics_resNet_mnist, kind=\"line\", x=\"epoch\", y=\"accuracy\", hue=\"phase\",)\n",
    "    torch.save(resNet_mnist.state_dict(), modelpath)"
   ]
  },
  {
   "cell_type": "code",
   "execution_count": 24,
   "metadata": {},
   "outputs": [],
   "source": [
    "#Create model for cifar dataset\n",
    "resNet_cifar, resNet_cifar_dict = create_resnet(numClassesCifar)\n",
    " \n",
    "#Load or train model\n",
    "modelpath = modelFolderPath + 'model_resnet_cifar.pth'\n",
    "if(os.path.exists(modelpath)):\n",
    "    if DEVICE == torch.device(\"cpu\"):\n",
    "        resNet_cifar.load_state_dict(torch.load(modelpath, map_location=torch.device('cpu')))\n",
    "    else:\n",
    "        resNet_cifar.load_state_dict(torch.load(modelpath))\n",
    "else:\n",
    "    resNet_cifar, metrics_resNet_cifar = train_model(resNet_cifar, resNet_cifar_dict, dataloaders_cifar, EPOCHS)\n",
    "    sns.relplot(data=metrics_resNet_cifar, kind=\"line\", x=\"epoch\", y=\"accuracy\", hue=\"phase\",)\n",
    "    torch.save(resNet_cifar.state_dict(), modelpath)"
   ]
  },
  {
   "cell_type": "markdown",
   "metadata": {},
   "source": [
    "### 3.3 Build and Train Inception V3"
   ]
  },
  {
   "cell_type": "code",
   "execution_count": 25,
   "metadata": {},
   "outputs": [
    {
     "name": "stderr",
     "output_type": "stream",
     "text": [
      "/home/paul/anaconda3/envs/my-torch/lib/python3.8/site-packages/torchvision/models/_utils.py:223: UserWarning: Arguments other than a weight enum or `None` for 'weights' are deprecated since 0.13 and may be removed in the future. The current behavior is equivalent to passing `weights=Inception_V3_Weights.IMAGENET1K_V1`. You can also use `weights=Inception_V3_Weights.DEFAULT` to get the most up-to-date weights.\n",
      "  warnings.warn(msg)\n"
     ]
    }
   ],
   "source": [
    "#Create model for mnist dataset\n",
    "inception_mnist, inception_mnist_dict = create_inception(numClassesMnist)\n",
    "\n",
    "#Load or train model\n",
    "modelpath = modelFolderPath + 'model_inception_mnist.pth'\n",
    "if(os.path.exists(modelpath)):\n",
    "    if DEVICE == torch.device(\"cpu\"):\n",
    "        inception_mnist.load_state_dict(torch.load(modelpath,map_location=torch.device('cpu')))\n",
    "    else:\n",
    "        inception_mnist.load_state_dict(torch.load(modelpath))\n",
    "else:\n",
    "    inception_mnist, metrics_inception_mnist = train_model(inception_mnist, inception_mnist_dict, inception_dataloaders_mnist, EPOCHS,is_inception=True)\n",
    "    sns.relplot(data=metrics_inception_mnist, kind=\"line\", x=\"epoch\", y=\"accuracy\", hue=\"phase\",)\n",
    "    torch.save(inception_mnist.state_dict(), modelpath)"
   ]
  },
  {
   "cell_type": "code",
   "execution_count": 26,
   "metadata": {},
   "outputs": [],
   "source": [
    "#Create model for cifar dataset\n",
    "inception_cifar, inception_cifar_dict = create_inception(numClassesCifar)\n",
    "\n",
    "#Load or train model\n",
    "modelpath = modelFolderPath + 'model_inception_cifar.pth'\n",
    "if(os.path.exists(modelpath)):\n",
    "    if DEVICE == torch.device(\"cpu\"):\n",
    "        inception_cifar.load_state_dict(torch.load(modelpath, map_location=torch.device('cpu')))\n",
    "    else:\n",
    "        inception_cifar.load_state_dict(torch.load(modelpath))\n",
    "else:\n",
    "    inception_cifar, metrics_inception_cifar = train_model(inception_cifar, inception_cifar_dict, inception_dataloaders_cifar, EPOCHS,is_inception=True)\n",
    "    sns.relplot(data=metrics_inception_cifar, kind=\"line\", x=\"epoch\", y=\"accuracy\", hue=\"phase\",)\n",
    "    torch.save(inception_cifar.state_dict(), modelpath)"
   ]
  },
  {
   "cell_type": "markdown",
   "metadata": {},
   "source": [
    "# 4. Test Base Models"
   ]
  },
  {
   "cell_type": "code",
   "execution_count": 27,
   "metadata": {},
   "outputs": [],
   "source": [
    "#Modified from Philip's midterm\n",
    "def test_model(model, classes, test_loader, test_device=DEVICE):\n",
    "    torch.cuda.empty_cache()\n",
    "    #Prepare to count predictions for each class\n",
    "    correct_pred = {classname: 0 for classname in classes}\n",
    "    total_pred = {classname: 0 for classname in classes}\n",
    "    model = model.to(test_device)\n",
    "    model.eval()\n",
    "    #Store additional prediction info for CF and graphs\n",
    "    allLabels = []\n",
    "    allPrediction = []\n",
    "    testAccuracies = []\n",
    "    toc = time.time()\n",
    "    with torch.no_grad():\n",
    "        for images, labels in test_loader:\n",
    "            images = images.to(test_device)\n",
    "            labels = labels.to(test_device)\n",
    "            outputs = model(images)\n",
    "            predictions = torch.argmax(outputs, dim=1)\n",
    "            \n",
    "            #Collect the correct predictions for each class\n",
    "            for label, prediction in zip(labels, predictions):\n",
    "                if label == prediction:\n",
    "                    correct_pred[label.item()] += 1\n",
    "                total_pred[label.item()] += 1\n",
    "                allLabels.append(label.item())\n",
    "                allPrediction.append(prediction.item())\n",
    "\n",
    "    tic = time.time()\n",
    "    print(f'Inference Time: {(tic-toc):.4f} s Throughput: {(len(test_loader.dataset)/(tic-toc)):.4f} fps')\n",
    "\n",
    "\n",
    "    #Get each class accuracy manually\n",
    "    for classname, correct_count in correct_pred.items():\n",
    "        accuracy = 100 * float(correct_count) / (total_pred[classname] or 1)\n",
    "        testAccuracies.append(accuracy)\n",
    "\n",
    "    #Show overall acurracy\n",
    "    print(f'Testing Overall Accuracy: {100.0*sum(correct_pred.values())/sum(total_pred.values() or 1):2f} ')\n",
    "    \n",
    "    return  allLabels, allPrediction, testAccuracies"
   ]
  },
  {
   "cell_type": "code",
   "execution_count": 28,
   "metadata": {},
   "outputs": [],
   "source": [
    "#Pass in the 3 metrics from test function, and options to create graphics\n",
    "def show_test_results(allLabels, allPrediction, testAccuracies, labelNames, cf=True, bar=True):\n",
    "    if cf:\n",
    "        #Show confusion matrix\n",
    "        cf_matrix = confusion_matrix(allLabels, allPrediction)\n",
    "        #Divide predicted columns by number predicted for each class\n",
    "        ax = sns.heatmap((cf_matrix / np.sum(cf_matrix, axis=1)), fmt='.1%', xticklabels=labelNames, yticklabels=labelNames)\n",
    "        ax.set_xlabel(\"Predicted Class\", fontsize=14, labelpad=20)\n",
    "        ax.set_ylabel(\"Labeled Class\", fontsize=14, labelpad=20)\n",
    "        plt.show()\n",
    "    \n",
    "    if bar:\n",
    "        #Format the label data for plotting class accuracies\n",
    "        uniqueTest, countsTest = np.unique(allLabels, return_counts=True)\n",
    "        labelDictTest = dict(zip(uniqueTest, countsTest))\n",
    "        keysTest = list(labelDictTest.keys())\n",
    "        labelsCountTest = [int(labelDictTest[k]) for k in keysTest]\n",
    "\n",
    "        #Show class accuracies on barchart\n",
    "        plot = sns.barplot(x=keysTest, y=testAccuracies)\n",
    "        plot.set_xticklabels(labels=labelNames, rotation=-45)\n",
    "        plt.show()"
   ]
  },
  {
   "cell_type": "markdown",
   "metadata": {},
   "source": [
    "### 4.1 Test MobileNet Models"
   ]
  },
  {
   "cell_type": "code",
   "execution_count": 29,
   "metadata": {},
   "outputs": [
    {
     "name": "stdout",
     "output_type": "stream",
     "text": [
      "Inference Time: 26.2786 s Throughput: 380.5385 fps\n",
      "Testing Overall Accuracy: 99.620000 \n"
     ]
    }
   ],
   "source": [
    "#mobilenet mnist\n",
    "allLabels, allPrediction, testAccuracies = test_model(mobilenet_mnist, classesNumericMnist, dataloaders_mnist['test'])\n",
    "show_test_results(allLabels, allPrediction, testAccuracies, classesMnist, False, False)"
   ]
  },
  {
   "cell_type": "code",
   "execution_count": 30,
   "metadata": {},
   "outputs": [
    {
     "name": "stdout",
     "output_type": "stream",
     "text": [
      "Inference Time: 23.6086 s Throughput: 423.5745 fps\n",
      "Testing Overall Accuracy: 94.850000 \n"
     ]
    }
   ],
   "source": [
    "#mobilenet cifar\n",
    "allLabels, allPrediction, testAccuracies = test_model(mobilenet_cifar, classesNumericCifar, dataloaders_cifar['test'])\n",
    "show_test_results(allLabels, allPrediction, testAccuracies, classesCifar, False, False)"
   ]
  },
  {
   "cell_type": "markdown",
   "metadata": {},
   "source": [
    "### 4.2 Test ResNet Models"
   ]
  },
  {
   "cell_type": "code",
   "execution_count": 31,
   "metadata": {},
   "outputs": [
    {
     "name": "stdout",
     "output_type": "stream",
     "text": [
      "Inference Time: 49.9333 s Throughput: 200.2671 fps\n",
      "Testing Overall Accuracy: 99.630000 \n"
     ]
    },
    {
     "data": {
      "image/png": "[encoded data removed]",
      "text/plain": [
       "<Figure size 500x400 with 1 Axes>"
      ]
     },
     "metadata": {},
     "output_type": "display_data"
    }
   ],
   "source": [
    "#resNet mnist\n",
    "allLabels, allPrediction, testAccuracies = test_model(resNet_mnist, classesNumericMnist, dataloaders_mnist['test'])\n",
    "show_test_results(allLabels, allPrediction, testAccuracies, classesMnist, False, True)"
   ]
  },
  {
   "cell_type": "code",
   "execution_count": 32,
   "metadata": {},
   "outputs": [
    {
     "name": "stdout",
     "output_type": "stream",
     "text": [
      "Inference Time: 44.2045 s Throughput: 226.2211 fps\n",
      "Testing Overall Accuracy: 95.550000 \n"
     ]
    },
    {
     "data": {
      "image/png": "[encoded data removed]",
      "text/plain": [
       "<Figure size 500x400 with 2 Axes>"
      ]
     },
     "metadata": {},
     "output_type": "display_data"
    }
   ],
   "source": [
    "#resNet cifar\n",
    "allLabels, allPrediction, testAccuracies = test_model(resNet_cifar, classesNumericCifar, dataloaders_cifar['test'])\n",
    "show_test_results(allLabels, allPrediction, testAccuracies, classesCifar, True, False)"
   ]
  },
  {
   "cell_type": "markdown",
   "metadata": {},
   "source": [
    "### 4.3 Test Inception Models"
   ]
  },
  {
   "cell_type": "code",
   "execution_count": 33,
   "metadata": {},
   "outputs": [
    {
     "name": "stdout",
     "output_type": "stream",
     "text": [
      "Inference Time: 69.9159 s Throughput: 143.0290 fps\n",
      "Testing Overall Accuracy: 99.710000 \n"
     ]
    }
   ],
   "source": [
    "#Inception mnist\n",
    "allLabels, allPrediction, testAccuracies = test_model(inception_mnist, classesNumericMnist, inception_dataloaders_mnist['test'])\n",
    "show_test_results(allLabels, allPrediction, testAccuracies, classesMnist, False, False)"
   ]
  },
  {
   "cell_type": "code",
   "execution_count": 34,
   "metadata": {},
   "outputs": [
    {
     "name": "stdout",
     "output_type": "stream",
     "text": [
      "Inference Time: 60.9133 s Throughput: 164.1677 fps\n",
      "Testing Overall Accuracy: 95.710000 \n"
     ]
    }
   ],
   "source": [
    "#Inception cifar\n",
    "allLabels, allPrediction, testAccuracies = test_model(inception_cifar, classesNumericCifar, inception_dataloaders_cifar['test'])\n",
    "show_test_results(allLabels, allPrediction, testAccuracies, classesCifar, False, False)"
   ]
  },
  {
   "cell_type": "markdown",
   "metadata": {},
   "source": [
    "## 5. Post Training Static Quantize Models"
   ]
  },
  {
   "cell_type": "code",
   "execution_count": 35,
   "metadata": {},
   "outputs": [],
   "source": [
    "#inspired by https://pytorch.org/tutorials/advanced/static_quantization_tutorial.html\n",
    "def print_size_of_model(model, model_file=False):\n",
    "    if model_file:\n",
    "         print('Size (MB):', os.path.getsize(model_file)/1e6)\n",
    "    else:\n",
    "        torch.save(model.state_dict(), \"temp.p\")\n",
    "        print('Size (MB):', os.path.getsize(\"temp.p\")/1e6)\n",
    "        os.remove('temp.p')"
   ]
  },
  {
   "cell_type": "code",
   "execution_count": 36,
   "metadata": {},
   "outputs": [],
   "source": [
    "#Load first 100 training data images, with batch of one\n",
    "sampleMnist = torch.utils.data.DataLoader(torch.utils.data.Subset(mnist[0], list(range(0,100))),batch_size=1)\n",
    "sampleCifar = torch.utils.data.DataLoader(torch.utils.data.Subset(cifar[0], list(range(0,100))),batch_size=1)\n",
    "\n",
    "#inspired by https://pytorch.org/docs/master/quantization.html#prototype-fx-graph-mode-quantization\n",
    "#GraphFx Quantization is realtivly new functionality that configures layers automatically to accept quantization\n",
    "#Post training static quantization\n",
    "def pt_quantize_and_compare(model_temp, sample_data_loader, noisy=True, qconfig_mapping=False, static=True, return_prepared=False):\n",
    "    model_to_quantize_2 = copy.deepcopy(model_temp)\n",
    "    model_to_quantize_2.to('cpu')\n",
    "    model_to_quantize_2.eval()\n",
    "    \n",
    "    #currently using Graph FX quant, if we need to switch see this other source\n",
    "    #https://pytorch.org/blog/quantization-in-practice/#quantization-aware-training-qat\n",
    "    \n",
    "\n",
    "    #Prepare qconfig if one not provided\n",
    "    if not qconfig_mapping:\n",
    "        #Post training static quantization\n",
    "        if static: \n",
    "            qconfig_mapping = torch.ao.quantization.get_default_qconfig_mapping()\n",
    "        #post training dynamic/weight_only quantization\n",
    "        else:\n",
    "            qconfig_mapping = torch.ao.quantization.QConfigMapping().set_global(torch.ao.quantization.default_dynamic_qconfig)\n",
    "\n",
    "    \n",
    "    # Alternative Method:\n",
    "    # Significantly less size reduction, better performance kept\n",
    "    # post training dynamic/weight_only quantization\n",
    "    #qconfig_mapping = torch.ao.quantization.QConfigMapping().set_global(torch.ao.quantization.default_dynamic_qconfig)\n",
    "    \n",
    "    #Prepare\n",
    "    model_prepared_2 = torch.ao.quantization.quantize_fx.prepare_fx(model_to_quantize_2, qconfig_mapping, next(iter(sample_data_loader)))\n",
    "    \n",
    "    #Return prepared model if needed\n",
    "    if return_prepared:\n",
    "        return model_prepared_2\n",
    "    \n",
    "    #Calibrate \n",
    "    with torch.inference_mode():\n",
    "        for sample_data, sample_label in iter(sample_data_loader):\n",
    "            model_prepared_2(sample_data)\n",
    "    \n",
    "    #Quantize\n",
    "    model_quantized =  torch.ao.quantization.quantize_fx.convert_fx(model_prepared_2)\n",
    "    \n",
    "    if noisy:\n",
    "        print(\"Before:\")\n",
    "        print_size_of_model(model_temp)\n",
    "        print(\"After:\")\n",
    "        print_size_of_model(model_quantized)\n",
    "        \n",
    "    return model_quantized"
   ]
  },
  {
   "cell_type": "code",
   "execution_count": 37,
   "metadata": {},
   "outputs": [
    {
     "name": "stderr",
     "output_type": "stream",
     "text": [
      "/home/paul/anaconda3/envs/my-torch/lib/python3.8/site-packages/torch/ao/quantization/observer.py:214: UserWarning: Please use quant_min and quant_max to specify the range for observers.                     reduce_range will be deprecated in a future release of PyTorch.\n",
      "  warnings.warn(\n"
     ]
    },
    {
     "name": "stdout",
     "output_type": "stream",
     "text": [
      "Before:\n",
      "Size (MB): 9.173401\n",
      "After:\n",
      "Size (MB): 2.634519\n"
     ]
    }
   ],
   "source": [
    "mobilenet_mnist_quantized = pt_quantize_and_compare(mobilenet_mnist, sampleMnist) \n",
    "mobilenet_cifar_quantized = pt_quantize_and_compare(mobilenet_cifar, sampleCifar, False)"
   ]
  },
  {
   "cell_type": "code",
   "execution_count": 38,
   "metadata": {},
   "outputs": [
    {
     "name": "stdout",
     "output_type": "stream",
     "text": [
      "Before:\n",
      "Size (MB): 94.413179\n",
      "After:\n",
      "Size (MB): 24.097725\n"
     ]
    }
   ],
   "source": [
    "resNet_mnist_quantized = pt_quantize_and_compare(resNet_mnist, sampleMnist)\n",
    "resNet_cifar_quantized = pt_quantize_and_compare(resNet_cifar, sampleCifar, False)"
   ]
  },
  {
   "cell_type": "code",
   "execution_count": 39,
   "metadata": {},
   "outputs": [
    {
     "name": "stdout",
     "output_type": "stream",
     "text": [
      "Before:\n",
      "Size (MB): 97.798375\n",
      "After:\n",
      "Size (MB): 22.269371\n"
     ]
    }
   ],
   "source": [
    "inception_mnist_quantized = pt_quantize_and_compare(inception_mnist, sampleMnist) \n",
    "inception_cifar_quantized = pt_quantize_and_compare(inception_cifar, sampleCifar, False)"
   ]
  },
  {
   "cell_type": "markdown",
   "metadata": {},
   "source": [
    "# 6. Investigate Quantized Model Performance"
   ]
  },
  {
   "cell_type": "code",
   "execution_count": 40,
   "metadata": {},
   "outputs": [],
   "source": [
    "def compare_models(base_mnist, base_cifar, new_mnist, new_cifar, model_name, test_device=DEVICE, mnist=True, cifar=True, is_inception=False):\n",
    "    if is_inception:\n",
    "        dataloaders_mnist_temp = inception_dataloaders_mnist['test']\n",
    "        dataloaders_cifar_temp = inception_dataloaders_cifar['test']\n",
    "    else:\n",
    "        dataloaders_mnist_temp = dataloaders_mnist['test']\n",
    "        dataloaders_cifar_temp = dataloaders_cifar['test']\n",
    "    if mnist:\n",
    "        print(model_name,\"MNIST Base Model:\")\n",
    "        _ = test_model(base_mnist, classesNumericMnist, dataloaders_mnist_temp, test_device) \n",
    "        print(model_name, \"MNIST Quantized Model:\")\n",
    "        _ = test_model(new_mnist, classesNumericMnist, dataloaders_mnist_temp, test_device)    \n",
    "        \n",
    "    if cifar:\n",
    "        if mnist:\n",
    "            print()\n",
    "        print(model_name, \"CIFAR Base Model:\")\n",
    "        _ = test_model(base_cifar, classesNumericCifar, dataloaders_cifar_temp, test_device) \n",
    "        print(model_name, \"CIFAR Quantized Model:\")\n",
    "        _ = test_model(new_cifar, classesNumericCifar, dataloaders_cifar_temp, test_device)"
   ]
  },
  {
   "cell_type": "code",
   "execution_count": 41,
   "metadata": {
    "scrolled": true
   },
   "outputs": [
    {
     "name": "stdout",
     "output_type": "stream",
     "text": [
      "MobileNet MNIST Base Model:\n",
      "Inference Time: 212.7667 s Throughput: 46.9998 fps\n",
      "Testing Overall Accuracy: 99.620000 \n",
      "MobileNet MNIST Quantized Model:\n",
      "Inference Time: 56.0617 s Throughput: 178.3748 fps\n",
      "Testing Overall Accuracy: 99.470000 \n",
      "\n",
      "MobileNet CIFAR Base Model:\n",
      "Inference Time: 220.5937 s Throughput: 45.3322 fps\n",
      "Testing Overall Accuracy: 94.850000 \n",
      "MobileNet CIFAR Quantized Model:\n",
      "Inference Time: 56.3152 s Throughput: 177.5721 fps\n",
      "Testing Overall Accuracy: 75.490000 \n"
     ]
    }
   ],
   "source": [
    "#Note, quantized models testing must be on CPU\n",
    "compare_models(mobilenet_mnist, mobilenet_cifar, mobilenet_mnist_quantized, mobilenet_cifar_quantized, 'MobileNet', 'cpu', True, True)"
   ]
  },
  {
   "cell_type": "markdown",
   "metadata": {},
   "source": [
    "MobileNetV2 quantized for CIFAR seems to have a major drop in performance. Let's look at the Confusion Matrix for this model."
   ]
  },
  {
   "cell_type": "code",
   "execution_count": null,
   "metadata": {},
   "outputs": [],
   "source": [
    "allLabels, allPrediction, testAccuracies = test_model(mobilenet_cifar_quantized, classesNumericCifar, dataloaders_cifar['test'], test_device='cpu')\n",
    "show_test_results(allLabels, allPrediction, testAccuracies, classesCifar, True, False)"
   ]
  },
  {
   "cell_type": "code",
   "execution_count": 43,
   "metadata": {},
   "outputs": [
    {
     "name": "stdout",
     "output_type": "stream",
     "text": [
      "ResNet MNIST Base Model:\n",
      "Inference Time: 579.9689 s Throughput: 17.2423 fps\n",
      "Testing Overall Accuracy: 99.630000 \n",
      "ResNet MNIST Quantized Model:\n",
      "Inference Time: 191.9751 s Throughput: 52.0901 fps\n",
      "Testing Overall Accuracy: 99.620000 \n",
      "\n",
      "ResNet CIFAR Base Model:\n",
      "Inference Time: 586.5203 s Throughput: 17.0497 fps\n",
      "Testing Overall Accuracy: 95.550000 \n",
      "ResNet CIFAR Quantized Model:\n",
      "Inference Time: 194.4341 s Throughput: 51.4313 fps\n",
      "Testing Overall Accuracy: 94.440000 \n"
     ]
    }
   ],
   "source": [
    "compare_models(resNet_mnist, resNet_cifar, resNet_mnist_quantized, resNet_cifar_quantized, 'ResNet', 'cpu')"
   ]
  },
  {
   "cell_type": "code",
   "execution_count": null,
   "metadata": {},
   "outputs": [
    {
     "name": "stdout",
     "output_type": "stream",
     "text": [
      "Inception MNIST Base Model:\n",
      "Inference Time: 772.9568 s Throughput: 12.9373 fps\n",
      "Testing Overall Accuracy: 99.710000 \n",
      "Inception MNIST Quantized Model:\n",
      "Inference Time: 264.2852 s Throughput: 37.8379 fps\n",
      "Testing Overall Accuracy: 99.700000 \n",
      "\n",
      "Inception CIFAR Base Model:\n"
     ]
    }
   ],
   "source": [
    "compare_models(inception_mnist, inception_cifar, inception_mnist_quantized, inception_cifar_quantized, 'Inception', 'cpu',is_inception=True)"
   ]
  },
  {
   "cell_type": "markdown",
   "metadata": {},
   "source": [
    "# 7. Test Post Quantization Improvement"
   ]
  },
  {
   "cell_type": "markdown",
   "metadata": {},
   "source": [
    "We see that mobilenetV2 suffers from accuracy loss after quantization. How can we improve accuracy after quantization? One strategy we can use is analyzing the SQNR of each layer in the network, to understand where the most quantization loss occurs. With this knowledge, we can modify the qconfig_dict settings to skip the problem layers during quantization, or we can have the model quantize only a select layer/layers to quantize. We will demonstrate the latter below. "
   ]
  },
  {
   "cell_type": "code",
   "execution_count": null,
   "metadata": {},
   "outputs": [],
   "source": [
    "# Inspired by https://odsc.medium.com/optimizing-your-model-for-inference-with-pytorch-quantization-1a25073ba318\n",
    "# Compare weights of float_model and qmodel.\n",
    "# Note: when comparing weights in models with Conv-BN for PTQ, we need to compare\n",
    "# weights after Conv-BN fusion for a proper comparison.  Because of this, we use\n",
    "# `prepared_model` instead of `float_model` when comparing weights.\n",
    "# Extract conv and linear weights from corresponding parts of two models, and save\n",
    "# them in `wt_compare_dict`.\n",
    "def analyze_sqnr(mobilenet_cifar,mobilenet_cifar_quantized):\n",
    "    mobilenet_wt_compare_dict = ns.extract_weights(\n",
    "        'fp32',  # string name for model A\n",
    "    mobilenet_cifar,  # model A\n",
    "        'int8',  # string name for model B\n",
    "    mobilenet_cifar_quantized,  # model B\n",
    "    )\n",
    "    # calculate SQNR between each pair of weights\n",
    "    # SQNR is a measure of quantization loss, large SQNR value means the quantization loss is small\n",
    "    ns.extend_logger_results_with_comparison(\n",
    "       mobilenet_wt_compare_dict,  # results object to modify inplace\n",
    "       'fp32',  # string name of model A (from previous step)\n",
    "       'int8',  # string name of model B (from previous step)\n",
    "       torch.ao.ns.fx.utils.compute_sqnr,  # the function to use to compare two tensors\n",
    "       'sqnr',  # the name to use to store the results under\n",
    "    )\n",
    "    # massage the data into a format easy to graph and print\n",
    "    # Note: no util function for this since use cases may be different per user\n",
    "    # Note: there is a lot of debugging data, and it will be challenging to print all of it\n",
    "    # and fit on a laptop screen.  It is up to the user to decide which data is useful for them.\n",
    "    mobilenet_wt_to_print = []\n",
    "    for idx, (layer_name, v) in enumerate(mobilenet_wt_compare_dict.items()):\n",
    "        mobilenet_wt_to_print.append([\n",
    "            idx,\n",
    "            layer_name,                                                   \n",
    "            v['weight']['int8'][0]['prev_node_target_type'],                      \n",
    "            v['weight']['int8'][0]['values'][0].shape,\n",
    "            v['weight']['int8'][0]['sqnr'][0],\n",
    "        ])\n",
    "    return mobilenet_wt_to_print, mobilenet_wt_compare_dict\n",
    "mobilenet_wt_to_print,mobilenet_wt_compare_dict = analyze_sqnr(mobilenet_cifar,mobilenet_cifar_quantized)\n",
    "plt.style.use('seaborn-whitegrid')\n",
    "# a simple line graph\n",
    "def plot(xdata, ydata, xlabel, ylabel, title):\n",
    "    fig = plt.figure(figsize=(10, 5))\n",
    "    plt.xlabel(xlabel)\n",
    "    plt.ylabel(ylabel)\n",
    "    plt.title(title)\n",
    "    plt.plot(xdata, ydata)     \n",
    "# plot the SQNR between fp32 and int8 weights for each layer\n",
    "plot([x[0] for x in mobilenet_wt_to_print], [x[4].detach().numpy() for x in mobilenet_wt_to_print], 'idx', 'sqnr', 'weights, idx to sqnr')"
   ]
  },
  {
   "cell_type": "markdown",
   "metadata": {},
   "source": [
    "The SQNR plot above shows the quantization loss vs. module idx between the FP32 and INT8 models. a lower SQNR value means the quantization loss is larger. Since there seems to be mainly negative SQNR, we will be trying the simple case of only quantizing one of the convolutional modules, and measure the impact. "
   ]
  },
  {
   "cell_type": "code",
   "execution_count": null,
   "metadata": {},
   "outputs": [],
   "source": [
    "i = 0\n",
    "for quantized_layer, _ in mobilenet_cifar.named_modules():\n",
    "    print(f\"{i}: {quantized_layer}\")\n",
    "    i += 1"
   ]
  },
  {
   "cell_type": "code",
   "execution_count": null,
   "metadata": {},
   "outputs": [],
   "source": [
    "#Inspired by https://pytorch.org/blog/quantization-in-practice/#sensitivity-analysis\n",
    "qconfig_dict = {\"\": None, \n",
    "    \"module_name\":[('features.17.conv.0.1', torch.quantization.get_default_qconfig())]}\n",
    "model_prepared = torch.ao.quantization.quantize_fx.prepare_fx(mobilenet_cifar, qconfig_dict,next(iter(sampleCifar)))\n",
    "    # calibrate\n",
    "model_quantized = torch.ao.quantization.quantize_fx.convert_fx(model_prepared)\n",
    "_ = test_model(model_quantized, classesNumericCifar, dataloaders_cifar['test'], 'cpu')"
   ]
  },
  {
   "cell_type": "code",
   "execution_count": null,
   "metadata": {},
   "outputs": [],
   "source": [
    "print_size_of_model(model_quantized)"
   ]
  },
  {
   "cell_type": "code",
   "execution_count": null,
   "metadata": {},
   "outputs": [],
   "source": [
    "mobilenet_wt_to_print1,_ = analyze_sqnr(mobilenet_cifar,model_quantized)\n",
    "plot([x[0] for x in mobilenet_wt_to_print1], [x[4].detach().numpy() for x in mobilenet_wt_to_print1], 'idx', 'sqnr', 'weights, idx to sqnr')"
   ]
  },
  {
   "cell_type": "code",
   "execution_count": null,
   "metadata": {},
   "outputs": [],
   "source": [
    "compare_models(mobilenet_mnist, mobilenet_cifar, mobilenet_mnist_quantized, model_quantized, 'MobileNet', 'cpu', False, True)"
   ]
  },
  {
   "cell_type": "markdown",
   "metadata": {},
   "source": [
    "# 8. Additional Quantization Training Methods"
   ]
  },
  {
   "cell_type": "markdown",
   "metadata": {},
   "source": [
    "### 8.1 Dynamic Post Training Quantization "
   ]
  },
  {
   "cell_type": "code",
   "execution_count": null,
   "metadata": {},
   "outputs": [],
   "source": [
    "resNet_mnist_quantized_dyn = pt_quantize_and_compare(resNet_mnist, sampleMnist, True, False, False)\n",
    "resNet_cifar_quantized_dyn = pt_quantize_and_compare(resNet_cifar, sampleCifar, True, False, False)"
   ]
  },
  {
   "cell_type": "code",
   "execution_count": null,
   "metadata": {},
   "outputs": [],
   "source": [
    "compare_models(resNet_mnist, resNet_cifar, resNet_mnist_quantized_dyn, resNet_cifar_quantized_dyn, 'ResNet', 'cpu')"
   ]
  },
  {
   "cell_type": "code",
   "execution_count": null,
   "metadata": {},
   "outputs": [],
   "source": [
    "inception_mnist_quantized_dyn = pt_quantize_and_compare(inception_mnist, sampleMnist, True, False, False) \n",
    "inception_cifar_quantized_dyn = pt_quantize_and_compare(inception_cifar, sampleCifar, True, False, False)"
   ]
  },
  {
   "cell_type": "code",
   "execution_count": null,
   "metadata": {},
   "outputs": [],
   "source": [
    "compare_models(inception_mnist, inception_cifar, inception_mnist_quantized_dyn, inception_cifar_quantized_dyn, 'Inception', 'cpu')"
   ]
  },
  {
   "cell_type": "markdown",
   "metadata": {},
   "source": [
    "### 8.2 Quantize Aware Training"
   ]
  },
  {
   "cell_type": "code",
   "execution_count": null,
   "metadata": {},
   "outputs": [],
   "source": [
    "def quantize_aware_train(model_temp, model_dict, data_loader, sample_data_loader, model_path='', noisy=True, qconfig_mapping=False, is_inception=False):\n",
    "    model_path = modelFolderPath + model_path\n",
    "    #If you can load the model just load\n",
    "    if(os.path.exists(model_path)):\n",
    "        model_quantized = torch.jit.load(model_path)\n",
    "        print('Model loaded from',model_path)\n",
    "    else:\n",
    "        model_to_quantize = copy.deepcopy(model_temp)\n",
    "        model_to_quantize.to('cpu')\n",
    "        model_to_quantize.train()\n",
    "        \n",
    "        if not qconfig_mapping:\n",
    "            qconfig_mapping = torch.ao.quantization.get_default_qat_qconfig_mapping(\"qnnpack\")\n",
    "\n",
    "        # prepare\n",
    "        model_prepared = torch.ao.quantization.quantize_fx.prepare_qat_fx(model_to_quantize, qconfig_mapping, next(iter(sample_data_loader)))\n",
    "\n",
    "        #Training/Calibration\n",
    "        print(\"Doing 1 Epoch of Quantize Aware Training (CPU only), this may take hours, loading is recommended.\")\n",
    "        with torch.inference_mode():\n",
    "            for sample_data, sample_label in dataloaders_mnist['train']:\n",
    "                model_prepared(sample_data)\n",
    "\n",
    "        # quantize\n",
    "        model_quantized = torch.ao.quantization.quantize_fx.convert_fx(model_prepared)\n",
    "     \n",
    "    #Save and show size\n",
    "    torch.jit.save(torch.jit.script(model_quantized), model_path)\n",
    "    if noisy:\n",
    "        print(\"Before:\")\n",
    "        print_size_of_model(model_temp)\n",
    "        print(\"After:\")\n",
    "        print_size_of_model(model_quantized, model_path)\n",
    "        \n",
    "    return model_quantized"
   ]
  },
  {
   "cell_type": "code",
   "execution_count": null,
   "metadata": {},
   "outputs": [],
   "source": [
    "mobilenet_mnist_qat = quantize_aware_train(mobilenet_mnist, mobilenet_mnist_dict, dataloaders_mnist, sampleMnist, 'model_mobilenet_mnist_qat.pth', True, False, False)"
   ]
  },
  {
   "cell_type": "code",
   "execution_count": null,
   "metadata": {},
   "outputs": [],
   "source": [
    "compare_models(mobilenet_mnist, mobilenet_cifar, mobilenet_mnist_qat, mobilenet_cifar_quantized, 'MobileNet', 'cpu', True, False)"
   ]
  },
  {
   "cell_type": "markdown",
   "metadata": {},
   "source": [
    "MobileNet quickly trains compared to the large models. Since this method both decreases size and automatically mainatains some performance, this may be the best method for newly trained smaller models."
   ]
  },
  {
   "cell_type": "markdown",
   "metadata": {},
   "source": [
    "Doing 1 Epoch of Quantize Aware Training as it may take hours on our current hardware; loading is recommended."
   ]
  },
  {
   "cell_type": "code",
   "execution_count": null,
   "metadata": {},
   "outputs": [],
   "source": [
    "resNet_cifar_qat = quantize_aware_train(resNet_cifar, resNet_cifar_dict, dataloaders_cifar, sampleCifar, 'model_resNet_cifar_qat.pth', True, False, False)"
   ]
  },
  {
   "cell_type": "code",
   "execution_count": null,
   "metadata": {},
   "outputs": [],
   "source": [
    "compare_models(mobilenet_mnist, resNet_cifar, mobilenet_mnist_qat, resNet_cifar_qat, 'MobileNet', 'cpu', False, True)"
   ]
  },
  {
   "cell_type": "markdown",
   "metadata": {},
   "source": [
    "ResNet clearly needs more training. Since the training requires CPU and more time than a typical training, this is not the optimal method for larger models purely due to time constraints. "
   ]
  }
 ],
 "metadata": {
  "kernelspec": {
   "display_name": "torch",
   "language": "python",
   "name": "myenv"
  },
  "language_info": {
   "codemirror_mode": {
    "name": "ipython",
    "version": 3
   },
   "file_extension": ".py",
   "mimetype": "text/x-python",
   "name": "python",
   "nbconvert_exporter": "python",
   "pygments_lexer": "ipython3",
   "version": "3.8.16"
  }
 },
 "nbformat": 4,
 "nbformat_minor": 4
}
